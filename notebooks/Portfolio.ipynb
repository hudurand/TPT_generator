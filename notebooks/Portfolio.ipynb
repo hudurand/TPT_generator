{
 "cells": [
  {
   "cell_type": "markdown",
   "metadata": {},
   "source": [
    "# Portfolio manipulation"
   ]
  },
  {
   "cell_type": "code",
   "execution_count": 132,
   "metadata": {},
   "outputs": [],
   "source": [
    "from pathlib import Path\n",
    "import pandas as pd\n",
    "import numpy as np"
   ]
  },
  {
   "cell_type": "code",
   "execution_count": 78,
   "metadata": {},
   "outputs": [],
   "source": [
    "file_name = \"template_Portfolio_BILMI.xlsx\"\n",
    "data_path = Path('C:/Users/Hugo Durand/Workspace/data')\n",
    "file_path = data_path / file_name"
   ]
  },
  {
   "cell_type": "code",
   "execution_count": 26,
   "metadata": {},
   "outputs": [],
   "source": [
    "portfolio = pd.read_excel(file_path, sheet_name=\"bil_invest_portfolio\")\n",
    "NAV = pd.read_excel(file_path, sheet_name=\"NAV\")\n",
    "TPT_base = pd.read_excel(file_path, sheet_name=\"TPT BIL Invest\")\n",
    "#portfolio.head()\n",
    "#portfolio.info()"
   ]
  },
  {
   "cell_type": "code",
   "execution_count": 22,
   "metadata": {},
   "outputs": [
    {
     "data": {
      "text/plain": [
       "'BIL INVEST BDS USD CORP INVMT GRADE'"
      ]
     },
     "execution_count": 22,
     "metadata": {},
     "output_type": "execute_result"
    }
   ],
   "source": [
    "funds = portfolio[\"FUND NAME\"]\n",
    "funds.drop_duplicates(inplace=True)\n",
    "#funds\n",
    "funds.iloc[2]"
   ]
  },
  {
   "cell_type": "code",
   "execution_count": 27,
   "metadata": {},
   "outputs": [],
   "source": [
    "ABSOLUTE_RETURN = portfolio.loc[portfolio[\"FUND NAME\"] == funds.iloc[2]]\n",
    "#ABSOLUTE_RETURN"
   ]
  },
  {
   "cell_type": "markdown",
   "metadata": {},
   "source": [
    "# Fetching all \"entries\" associated to a shareclass "
   ]
  },
  {
   "cell_type": "code",
   "execution_count": 28,
   "metadata": {},
   "outputs": [],
   "source": [
    "ISIN = \"LU1689732417\""
   ]
  },
  {
   "cell_type": "markdown",
   "metadata": {},
   "source": [
    "### Find subfund"
   ]
  },
  {
   "cell_type": "code",
   "execution_count": 41,
   "metadata": {},
   "outputs": [
    {
     "data": {
      "text/plain": [
       "'LU3964'"
      ]
     },
     "execution_count": 41,
     "metadata": {},
     "output_type": "execute_result"
    }
   ],
   "source": [
    "subfund_code = NAV.loc[NAV[\"ISIN\"] == ISIN][\"Subfund_code\"]\n",
    "assert len(subfund_code) == 1\n",
    "subfund_code = subfund_code.iloc[0]\n",
    "subfund_code"
   ]
  },
  {
   "cell_type": "markdown",
   "metadata": {},
   "source": [
    "### Find all entries associated to subfund"
   ]
  },
  {
   "cell_type": "code",
   "execution_count": 178,
   "metadata": {},
   "outputs": [
    {
     "data": {
      "text/html": [
       "<div>\n",
       "<style scoped>\n",
       "    .dataframe tbody tr th:only-of-type {\n",
       "        vertical-align: middle;\n",
       "    }\n",
       "\n",
       "    .dataframe tbody tr th {\n",
       "        vertical-align: top;\n",
       "    }\n",
       "\n",
       "    .dataframe thead th {\n",
       "        text-align: right;\n",
       "    }\n",
       "</style>\n",
       "<table border=\"1\" class=\"dataframe\">\n",
       "  <thead>\n",
       "    <tr style=\"text-align: right;\">\n",
       "      <th></th>\n",
       "      <th>NAV Date</th>\n",
       "      <th>SubFund Code</th>\n",
       "      <th>SubFund Name</th>\n",
       "      <th>SubFund Currency</th>\n",
       "      <th>Portfolio</th>\n",
       "      <th>Accounting Service Code</th>\n",
       "      <th>Accounting Service Name</th>\n",
       "      <th>Valuation Group Code</th>\n",
       "      <th>Valuation Group Label</th>\n",
       "      <th>GTI Code</th>\n",
       "      <th>...</th>\n",
       "      <th>Net Nav Amount</th>\n",
       "      <th>% impact</th>\n",
       "      <th>Unique ID</th>\n",
       "      <th>Multiple Leg ID</th>\n",
       "      <th>Quantity.1</th>\n",
       "      <th>MV inv_ccy</th>\n",
       "      <th>MV fnd_ccy</th>\n",
       "      <th>SC indicator</th>\n",
       "      <th>LU1689729546</th>\n",
       "      <th>Accred expenses splitted</th>\n",
       "    </tr>\n",
       "  </thead>\n",
       "  <tbody>\n",
       "    <tr>\n",
       "      <th>191</th>\n",
       "      <td>2020-12-31</td>\n",
       "      <td>LU3964</td>\n",
       "      <td>BIL INVEST BDS USD CORP INVMT GRADE</td>\n",
       "      <td>USD</td>\n",
       "      <td>CASH</td>\n",
       "      <td>CO</td>\n",
       "      <td>Debits/credits</td>\n",
       "      <td>850</td>\n",
       "      <td>ACCRUED EXP.</td>\n",
       "      <td>NaN</td>\n",
       "      <td>...</td>\n",
       "      <td>7.545523611000e+07</td>\n",
       "      <td>-0.002087</td>\n",
       "      <td>294864_1</td>\n",
       "      <td>NaN</td>\n",
       "      <td>-1.574740000000e+03</td>\n",
       "      <td>-1.574740000000e+03</td>\n",
       "      <td>-1.574740000000e+03</td>\n",
       "      <td>P</td>\n",
       "      <td>NaN</td>\n",
       "      <td>NaN</td>\n",
       "    </tr>\n",
       "    <tr>\n",
       "      <th>192</th>\n",
       "      <td>2020-12-31</td>\n",
       "      <td>LU3964</td>\n",
       "      <td>BIL INVEST BDS USD CORP INVMT GRADE</td>\n",
       "      <td>USD</td>\n",
       "      <td>CASH</td>\n",
       "      <td>CO</td>\n",
       "      <td>Debits/credits</td>\n",
       "      <td>850</td>\n",
       "      <td>ACCRUED EXP.</td>\n",
       "      <td>NaN</td>\n",
       "      <td>...</td>\n",
       "      <td>7.545523611000e+07</td>\n",
       "      <td>-0.003356</td>\n",
       "      <td>290034_1</td>\n",
       "      <td>NaN</td>\n",
       "      <td>-2.532170000000e+03</td>\n",
       "      <td>-2.532170000000e+03</td>\n",
       "      <td>-2.532170000000e+03</td>\n",
       "      <td>P</td>\n",
       "      <td>NaN</td>\n",
       "      <td>NaN</td>\n",
       "    </tr>\n",
       "    <tr>\n",
       "      <th>193</th>\n",
       "      <td>2020-12-31</td>\n",
       "      <td>LU3964</td>\n",
       "      <td>BIL INVEST BDS USD CORP INVMT GRADE</td>\n",
       "      <td>USD</td>\n",
       "      <td>CASH</td>\n",
       "      <td>CO</td>\n",
       "      <td>Debits/credits</td>\n",
       "      <td>850</td>\n",
       "      <td>ACCRUED EXP.</td>\n",
       "      <td>NaN</td>\n",
       "      <td>...</td>\n",
       "      <td>7.545523611000e+07</td>\n",
       "      <td>-0.012815</td>\n",
       "      <td>290025_1</td>\n",
       "      <td>NaN</td>\n",
       "      <td>-9.669700000000e+03</td>\n",
       "      <td>-9.669700000000e+03</td>\n",
       "      <td>-9.669700000000e+03</td>\n",
       "      <td>IEH</td>\n",
       "      <td>NaN</td>\n",
       "      <td>NaN</td>\n",
       "    </tr>\n",
       "    <tr>\n",
       "      <th>194</th>\n",
       "      <td>2020-12-31</td>\n",
       "      <td>LU3964</td>\n",
       "      <td>BIL INVEST BDS USD CORP INVMT GRADE</td>\n",
       "      <td>USD</td>\n",
       "      <td>CASH</td>\n",
       "      <td>CO</td>\n",
       "      <td>Debits/credits</td>\n",
       "      <td>850</td>\n",
       "      <td>ACCRUED EXP.</td>\n",
       "      <td>NaN</td>\n",
       "      <td>...</td>\n",
       "      <td>7.545523611000e+07</td>\n",
       "      <td>-0.001065</td>\n",
       "      <td>290018_1</td>\n",
       "      <td>NaN</td>\n",
       "      <td>-8.035100000000e+02</td>\n",
       "      <td>-8.035100000000e+02</td>\n",
       "      <td>-8.035100000000e+02</td>\n",
       "      <td>I</td>\n",
       "      <td>NaN</td>\n",
       "      <td>NaN</td>\n",
       "    </tr>\n",
       "    <tr>\n",
       "      <th>195</th>\n",
       "      <td>2020-12-31</td>\n",
       "      <td>LU3964</td>\n",
       "      <td>BIL INVEST BDS USD CORP INVMT GRADE</td>\n",
       "      <td>USD</td>\n",
       "      <td>CASH</td>\n",
       "      <td>CO</td>\n",
       "      <td>Debits/credits</td>\n",
       "      <td>850</td>\n",
       "      <td>ACCRUED EXP.</td>\n",
       "      <td>NaN</td>\n",
       "      <td>...</td>\n",
       "      <td>7.545523611000e+07</td>\n",
       "      <td>-0.002234</td>\n",
       "      <td>267100_1</td>\n",
       "      <td>NaN</td>\n",
       "      <td>-1.363500000000e+02</td>\n",
       "      <td>-1.363500000000e+02</td>\n",
       "      <td>-1.363500000000e+02</td>\n",
       "      <td>I</td>\n",
       "      <td>NaN</td>\n",
       "      <td>xxxxxxxxxxxxxx</td>\n",
       "    </tr>\n",
       "    <tr>\n",
       "      <th>...</th>\n",
       "      <td>...</td>\n",
       "      <td>...</td>\n",
       "      <td>...</td>\n",
       "      <td>...</td>\n",
       "      <td>...</td>\n",
       "      <td>...</td>\n",
       "      <td>...</td>\n",
       "      <td>...</td>\n",
       "      <td>...</td>\n",
       "      <td>...</td>\n",
       "      <td>...</td>\n",
       "      <td>...</td>\n",
       "      <td>...</td>\n",
       "      <td>...</td>\n",
       "      <td>...</td>\n",
       "      <td>...</td>\n",
       "      <td>...</td>\n",
       "      <td>...</td>\n",
       "      <td>...</td>\n",
       "      <td>...</td>\n",
       "      <td>...</td>\n",
       "    </tr>\n",
       "    <tr>\n",
       "      <th>353</th>\n",
       "      <td>2020-12-31</td>\n",
       "      <td>LU3964</td>\n",
       "      <td>BIL INVEST BDS USD CORP INVMT GRADE</td>\n",
       "      <td>USD</td>\n",
       "      <td>SECURITY</td>\n",
       "      <td>BO</td>\n",
       "      <td>Stock market</td>\n",
       "      <td>150</td>\n",
       "      <td>BONDS</td>\n",
       "      <td>201.0</td>\n",
       "      <td>...</td>\n",
       "      <td>7.545523611000e+07</td>\n",
       "      <td>0.266603</td>\n",
       "      <td>US60687YBB48</td>\n",
       "      <td>NaN</td>\n",
       "      <td>2.000000000000e+05</td>\n",
       "      <td>2.012968800000e+05</td>\n",
       "      <td>2.012968800000e+05</td>\n",
       "      <td>NaN</td>\n",
       "      <td>NaN</td>\n",
       "      <td>NaN</td>\n",
       "    </tr>\n",
       "    <tr>\n",
       "      <th>354</th>\n",
       "      <td>2020-12-31</td>\n",
       "      <td>LU3964</td>\n",
       "      <td>BIL INVEST BDS USD CORP INVMT GRADE</td>\n",
       "      <td>USD</td>\n",
       "      <td>SECURITY</td>\n",
       "      <td>BO</td>\n",
       "      <td>Stock market</td>\n",
       "      <td>150</td>\n",
       "      <td>BONDS</td>\n",
       "      <td>220.0</td>\n",
       "      <td>...</td>\n",
       "      <td>7.545523611000e+07</td>\n",
       "      <td>1.022893</td>\n",
       "      <td>US912810SP49</td>\n",
       "      <td>NaN</td>\n",
       "      <td>8.250000000000e+05</td>\n",
       "      <td>7.762704400000e+05</td>\n",
       "      <td>7.762704400000e+05</td>\n",
       "      <td>NaN</td>\n",
       "      <td>NaN</td>\n",
       "      <td>NaN</td>\n",
       "    </tr>\n",
       "    <tr>\n",
       "      <th>355</th>\n",
       "      <td>2020-12-31</td>\n",
       "      <td>LU3964</td>\n",
       "      <td>BIL INVEST BDS USD CORP INVMT GRADE</td>\n",
       "      <td>USD</td>\n",
       "      <td>SECURITY</td>\n",
       "      <td>BO</td>\n",
       "      <td>Stock market</td>\n",
       "      <td>150</td>\n",
       "      <td>BONDS</td>\n",
       "      <td>220.0</td>\n",
       "      <td>...</td>\n",
       "      <td>7.545523611000e+07</td>\n",
       "      <td>0.212055</td>\n",
       "      <td>US91282CBD20</td>\n",
       "      <td>NaN</td>\n",
       "      <td>1.600000000000e+05</td>\n",
       "      <td>1.600090100000e+05</td>\n",
       "      <td>1.600090100000e+05</td>\n",
       "      <td>NaN</td>\n",
       "      <td>NaN</td>\n",
       "      <td>NaN</td>\n",
       "    </tr>\n",
       "    <tr>\n",
       "      <th>356</th>\n",
       "      <td>2020-12-31</td>\n",
       "      <td>LU3964</td>\n",
       "      <td>BIL INVEST BDS USD CORP INVMT GRADE</td>\n",
       "      <td>USD</td>\n",
       "      <td>SECURITY</td>\n",
       "      <td>FX</td>\n",
       "      <td>Foreign exchange forward</td>\n",
       "      <td>550</td>\n",
       "      <td>F.E.T.</td>\n",
       "      <td>NaN</td>\n",
       "      <td>...</td>\n",
       "      <td>7.545523611000e+07</td>\n",
       "      <td>0.601481</td>\n",
       "      <td>286_1</td>\n",
       "      <td>286.0</td>\n",
       "      <td>4.734002895000e+07</td>\n",
       "      <td>4.734002895000e+07</td>\n",
       "      <td>5.792289242177e+07</td>\n",
       "      <td>IEH</td>\n",
       "      <td>NaN</td>\n",
       "      <td>NaN</td>\n",
       "    </tr>\n",
       "    <tr>\n",
       "      <th>357</th>\n",
       "      <td>2020-12-31</td>\n",
       "      <td>LU3964</td>\n",
       "      <td>BIL INVEST BDS USD CORP INVMT GRADE</td>\n",
       "      <td>USD</td>\n",
       "      <td>SECURITY</td>\n",
       "      <td>FX</td>\n",
       "      <td>Foreign exchange forward</td>\n",
       "      <td>550</td>\n",
       "      <td>F.E.T.</td>\n",
       "      <td>NaN</td>\n",
       "      <td>...</td>\n",
       "      <td>7.545523611000e+07</td>\n",
       "      <td>NaN</td>\n",
       "      <td>286_2</td>\n",
       "      <td>286.0</td>\n",
       "      <td>-5.748977850000e+07</td>\n",
       "      <td>-5.748977850000e+07</td>\n",
       "      <td>-5.746904357177e+07</td>\n",
       "      <td>IEH</td>\n",
       "      <td>NaN</td>\n",
       "      <td>NaN</td>\n",
       "    </tr>\n",
       "  </tbody>\n",
       "</table>\n",
       "<p>167 rows × 65 columns</p>\n",
       "</div>"
      ],
      "text/plain": [
       "      NAV Date SubFund Code                         SubFund Name  \\\n",
       "191 2020-12-31       LU3964  BIL INVEST BDS USD CORP INVMT GRADE   \n",
       "192 2020-12-31       LU3964  BIL INVEST BDS USD CORP INVMT GRADE   \n",
       "193 2020-12-31       LU3964  BIL INVEST BDS USD CORP INVMT GRADE   \n",
       "194 2020-12-31       LU3964  BIL INVEST BDS USD CORP INVMT GRADE   \n",
       "195 2020-12-31       LU3964  BIL INVEST BDS USD CORP INVMT GRADE   \n",
       "..         ...          ...                                  ...   \n",
       "353 2020-12-31       LU3964  BIL INVEST BDS USD CORP INVMT GRADE   \n",
       "354 2020-12-31       LU3964  BIL INVEST BDS USD CORP INVMT GRADE   \n",
       "355 2020-12-31       LU3964  BIL INVEST BDS USD CORP INVMT GRADE   \n",
       "356 2020-12-31       LU3964  BIL INVEST BDS USD CORP INVMT GRADE   \n",
       "357 2020-12-31       LU3964  BIL INVEST BDS USD CORP INVMT GRADE   \n",
       "\n",
       "    SubFund Currency Portfolio Accounting Service Code  \\\n",
       "191              USD      CASH                      CO   \n",
       "192              USD      CASH                      CO   \n",
       "193              USD      CASH                      CO   \n",
       "194              USD      CASH                      CO   \n",
       "195              USD      CASH                      CO   \n",
       "..               ...       ...                     ...   \n",
       "353              USD  SECURITY                      BO   \n",
       "354              USD  SECURITY                      BO   \n",
       "355              USD  SECURITY                      BO   \n",
       "356              USD  SECURITY                      FX   \n",
       "357              USD  SECURITY                      FX   \n",
       "\n",
       "      Accounting Service Name  Valuation Group Code Valuation Group Label  \\\n",
       "191            Debits/credits                   850          ACCRUED EXP.   \n",
       "192            Debits/credits                   850          ACCRUED EXP.   \n",
       "193            Debits/credits                   850          ACCRUED EXP.   \n",
       "194            Debits/credits                   850          ACCRUED EXP.   \n",
       "195            Debits/credits                   850          ACCRUED EXP.   \n",
       "..                        ...                   ...                   ...   \n",
       "353              Stock market                   150                 BONDS   \n",
       "354              Stock market                   150                 BONDS   \n",
       "355              Stock market                   150                 BONDS   \n",
       "356  Foreign exchange forward                   550                F.E.T.   \n",
       "357  Foreign exchange forward                   550                F.E.T.   \n",
       "\n",
       "     GTI Code  ...      Net Nav Amount  % impact     Unique ID  \\\n",
       "191       NaN  ...  7.545523611000e+07 -0.002087      294864_1   \n",
       "192       NaN  ...  7.545523611000e+07 -0.003356      290034_1   \n",
       "193       NaN  ...  7.545523611000e+07 -0.012815      290025_1   \n",
       "194       NaN  ...  7.545523611000e+07 -0.001065      290018_1   \n",
       "195       NaN  ...  7.545523611000e+07 -0.002234      267100_1   \n",
       "..        ...  ...                 ...       ...           ...   \n",
       "353     201.0  ...  7.545523611000e+07  0.266603  US60687YBB48   \n",
       "354     220.0  ...  7.545523611000e+07  1.022893  US912810SP49   \n",
       "355     220.0  ...  7.545523611000e+07  0.212055  US91282CBD20   \n",
       "356       NaN  ...  7.545523611000e+07  0.601481         286_1   \n",
       "357       NaN  ...  7.545523611000e+07       NaN         286_2   \n",
       "\n",
       "     Multiple Leg ID          Quantity.1          MV inv_ccy  \\\n",
       "191              NaN -1.574740000000e+03 -1.574740000000e+03   \n",
       "192              NaN -2.532170000000e+03 -2.532170000000e+03   \n",
       "193              NaN -9.669700000000e+03 -9.669700000000e+03   \n",
       "194              NaN -8.035100000000e+02 -8.035100000000e+02   \n",
       "195              NaN -1.363500000000e+02 -1.363500000000e+02   \n",
       "..               ...                 ...                 ...   \n",
       "353              NaN  2.000000000000e+05  2.012968800000e+05   \n",
       "354              NaN  8.250000000000e+05  7.762704400000e+05   \n",
       "355              NaN  1.600000000000e+05  1.600090100000e+05   \n",
       "356            286.0  4.734002895000e+07  4.734002895000e+07   \n",
       "357            286.0 -5.748977850000e+07 -5.748977850000e+07   \n",
       "\n",
       "             MV fnd_ccy SC indicator LU1689729546 Accred expenses splitted  \n",
       "191 -1.574740000000e+03            P          NaN                      NaN  \n",
       "192 -2.532170000000e+03            P          NaN                      NaN  \n",
       "193 -9.669700000000e+03          IEH          NaN                      NaN  \n",
       "194 -8.035100000000e+02            I          NaN                      NaN  \n",
       "195 -1.363500000000e+02            I          NaN           xxxxxxxxxxxxxx  \n",
       "..                  ...          ...          ...                      ...  \n",
       "353  2.012968800000e+05          NaN          NaN                      NaN  \n",
       "354  7.762704400000e+05          NaN          NaN                      NaN  \n",
       "355  1.600090100000e+05          NaN          NaN                      NaN  \n",
       "356  5.792289242177e+07          IEH          NaN                      NaN  \n",
       "357 -5.746904357177e+07          IEH          NaN                      NaN  \n",
       "\n",
       "[167 rows x 65 columns]"
      ]
     },
     "execution_count": 178,
     "metadata": {},
     "output_type": "execute_result"
    }
   ],
   "source": [
    "entries = TPT_base.loc[TPT_base[\"SubFund Code\"] == subfund_code]\n",
    "entries.shape\n",
    "#entries.info()\n",
    "entries"
   ]
  },
  {
   "cell_type": "markdown",
   "metadata": {},
   "source": [
    "### drop entries associated to other shareclasses"
   ]
  },
  {
   "cell_type": "code",
   "execution_count": 143,
   "metadata": {},
   "outputs": [
    {
     "data": {
      "text/plain": [
       "'P'"
      ]
     },
     "execution_count": 143,
     "metadata": {},
     "output_type": "execute_result"
    }
   ],
   "source": [
    "# get shareclass indicator\n",
    "sc_indicator = NAV.loc[NAV.ISIN == ISIN][\"SC\"]\n",
    "assert len(sc_indicator) == 1\n",
    "sc_indicator = sc_indicator.iloc[0]\n",
    "sc_indicator\n",
    "# "
   ]
  },
  {
   "cell_type": "code",
   "execution_count": 144,
   "metadata": {},
   "outputs": [
    {
     "data": {
      "text/plain": [
       "(156, 65)"
      ]
     },
     "execution_count": 144,
     "metadata": {},
     "output_type": "execute_result"
    }
   ],
   "source": [
    "entries = entries.loc[(entries[\"SC indicator\"].isnull()) | (entries[\"SC indicator\"] == sc_indicator)]\n",
    "entries.shape"
   ]
  },
  {
   "cell_type": "markdown",
   "metadata": {},
   "source": [
    "## Compute valuation weight"
   ]
  },
  {
   "cell_type": "code",
   "execution_count": 171,
   "metadata": {},
   "outputs": [],
   "source": [
    "# not the right way!!!\n",
    "def compute_valuation_weight(MV, indic):\n",
    "    if indic == sc_indicator:\n",
    "        # report value\n",
    "        return MV / SC_NAV\n",
    "    else:\n",
    "        # compute weight\n",
    "        return (MV / total_MV_fnd_ccy) * (hedged_SC / SC_NAV)"
   ]
  },
  {
   "cell_type": "markdown",
   "metadata": {},
   "source": [
    "### Compute value for instruments attributed to the shareclass"
   ]
  },
  {
   "cell_type": "code",
   "execution_count": 173,
   "metadata": {},
   "outputs": [
    {
     "name": "stdout",
     "output_type": "stream",
     "text": [
      "11791377.12 <class 'float'>\n",
      "-1574.74 <class 'numpy.float64'>\n",
      "-0.00013355013447318188 -0.00013355013447318188\n"
     ]
    },
    {
     "data": {
      "text/plain": [
       "191   -0.000133550134\n",
       "192   -0.000214747605\n",
       "201   -0.000976129411\n",
       "Name: valuation_weight, dtype: float64"
      ]
     },
     "execution_count": 173,
     "metadata": {},
     "output_type": "execute_result"
    }
   ],
   "source": [
    "SC_entries = entries.loc[entries[\"SC indicator\"] == sc_indicator]\n",
    "#P_entries\n",
    "SC_NAV = NAV.loc[NAV.ISIN == ISIN][\"SC in FUND CCY\"].iloc[0]\n",
    "SC_entries = SC_entries.assign(valuation_weight = SC_entries[\"MV fnd_ccy\"] / SC_NAV)\n",
    "#P_entries.loc[\"valuation_weight\"]\n",
    "print(SC_NAV, type(SC_NAV))\n",
    "print(SC_entries[\"MV fnd_ccy\"].iloc[0], type(SC_entries[\"MV fnd_ccy\"].iloc[0]))\n",
    "print(SC_entries[\"valuation_weight\"].iloc[0], SC_entries[\"valuation_weight\"].iloc[0])\n",
    "\n",
    "pd.set_option(\"display.precision\", 12)\n",
    "SC_entries[\"valuation_weight\"]"
   ]
  },
  {
   "cell_type": "markdown",
   "metadata": {},
   "source": [
    "###  Compute value for instruments shared over the fund"
   ]
  },
  {
   "cell_type": "code",
   "execution_count": 174,
   "metadata": {},
   "outputs": [
    {
     "name": "stdout",
     "output_type": "stream",
     "text": [
      "75066164.82\n",
      "-0.0031369096659578967\n"
     ]
    }
   ],
   "source": [
    "F_entries = entries.loc[entries[\"SC indicator\"].isnull()]\n",
    "hedged_SC = NAV.loc[NAV.ISIN == ISIN][\"Hedged sc\"].iloc[0]\n",
    "total_MV_fnd_ccy = F_entries[\"MV fnd_ccy\"].sum()\n",
    "print(total_MV_fnd_ccy)\n",
    "\n",
    "F_entries = F_entries.assign(valuation_weight = (F_entries[\"MV fnd_ccy\"] / total_MV_fnd_ccy) * (hedged_SC / SC_NAV))\n",
    "print(F_entries[\"valuation_weight\"].iloc[0])"
   ]
  },
  {
   "cell_type": "code",
   "execution_count": null,
   "metadata": {},
   "outputs": [],
   "source": []
  }
 ],
 "metadata": {
  "kernelspec": {
   "display_name": "Python 3",
   "language": "python",
   "name": "python3"
  },
  "language_info": {
   "codemirror_mode": {
    "name": "ipython",
    "version": 3
   },
   "file_extension": ".py",
   "mimetype": "text/x-python",
   "name": "python",
   "nbconvert_exporter": "python",
   "pygments_lexer": "ipython3",
   "version": "3.8.5"
  }
 },
 "nbformat": 4,
 "nbformat_minor": 4
}
