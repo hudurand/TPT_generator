{
 "cells": [
  {
   "cell_type": "markdown",
   "metadata": {},
   "source": [
    "# Computation of repartition keys, valuation weights and dedicated values"
   ]
  },
  {
   "cell_type": "markdown",
   "metadata": {},
   "source": [
    "### Necessary imports"
   ]
  },
  {
   "cell_type": "code",
   "execution_count": 1,
   "metadata": {},
   "outputs": [],
   "source": [
    "import sys\n",
    "import os\n",
    "sys.path.append(os.path.abspath('..'))\n",
    "\n",
    "import pandas as pd\n",
    "import numpy as np\n",
    "from pathlib import Path\n",
    "from TPT_generator_python import Data_Bucket, TPT_Fetcher"
   ]
  },
  {
   "cell_type": "markdown",
   "metadata": {},
   "source": [
    "### Variables definition"
   ]
  },
  {
   "cell_type": "code",
   "execution_count": 2,
   "metadata": {},
   "outputs": [],
   "source": [
    "DATE = pd.to_datetime(\"2020-12-31\").date()\n",
    "CLIENT = \"Dynasty\"\n",
    "ISIN = \"LU1280365476\"\n",
    "SOURCE_DIR = Path(\"../data\")"
   ]
  },
  {
   "cell_type": "code",
   "execution_count": 3,
   "metadata": {},
   "outputs": [],
   "source": [
    "#fetcher = TPT_Fetcher(DATE, CLIENT, ISIN, SOURCE_DIR)\n",
    "bucket = Data_Bucket(DATE, CLIENT, ISIN, SOURCE_DIR)"
   ]
  },
  {
   "cell_type": "markdown",
   "metadata": {},
   "source": [
    "### Acquiring datas from database\n",
    "#### Instruments infos\n",
    "Using a Data_Bucket object which abstract database accesses through the fetcher object (see documentation), we get all necessary data from the database and store them in a dataframe.\n",
    "\n",
    "We get the list of instruments in the subfund's portfolio, their market values and the dedication indicator which define the group of shareclasses, the instrument must be distributed to."
   ]
  },
  {
   "cell_type": "code",
   "execution_count": 4,
   "metadata": {},
   "outputs": [
    {
     "data": {
      "text/html": [
       "<div>\n",
       "<style scoped>\n",
       "    .dataframe tbody tr th:only-of-type {\n",
       "        vertical-align: middle;\n",
       "    }\n",
       "\n",
       "    .dataframe tbody tr th {\n",
       "        vertical-align: top;\n",
       "    }\n",
       "\n",
       "    .dataframe thead th {\n",
       "        text-align: right;\n",
       "    }\n",
       "</style>\n",
       "<table border=\"1\" class=\"dataframe\">\n",
       "  <thead>\n",
       "    <tr style=\"text-align: right;\">\n",
       "      <th></th>\n",
       "      <th>hedge_indicator</th>\n",
       "      <th>market_and_accrued_fund</th>\n",
       "    </tr>\n",
       "    <tr>\n",
       "      <th>14_Identification code of the financial instrument</th>\n",
       "      <th></th>\n",
       "      <th></th>\n",
       "    </tr>\n",
       "  </thead>\n",
       "  <tbody>\n",
       "    <tr>\n",
       "      <th>BE6286986284</th>\n",
       "      <td>LU6517-NH</td>\n",
       "      <td>6501000.00</td>\n",
       "    </tr>\n",
       "    <tr>\n",
       "      <th>CA01CHF</th>\n",
       "      <td>LU6517-NH</td>\n",
       "      <td>206.58</td>\n",
       "    </tr>\n",
       "    <tr>\n",
       "      <th>CA01CHFHA</th>\n",
       "      <td>LU6517-HA-C2-C5-D1</td>\n",
       "      <td>4355919.83</td>\n",
       "    </tr>\n",
       "    <tr>\n",
       "      <th>CA01EUR</th>\n",
       "      <td>LU6517-NH</td>\n",
       "      <td>25423090.51</td>\n",
       "    </tr>\n",
       "    <tr>\n",
       "      <th>CA01EURHA</th>\n",
       "      <td>LU6517-HA-C2-C5-D1</td>\n",
       "      <td>17557.09</td>\n",
       "    </tr>\n",
       "  </tbody>\n",
       "</table>\n",
       "</div>"
      ],
      "text/plain": [
       "                                                       hedge_indicator  \\\n",
       "14_Identification code of the financial instrument                       \n",
       "BE6286986284                                                 LU6517-NH   \n",
       "CA01CHF                                                      LU6517-NH   \n",
       "CA01CHFHA                                           LU6517-HA-C2-C5-D1   \n",
       "CA01EUR                                                      LU6517-NH   \n",
       "CA01EURHA                                           LU6517-HA-C2-C5-D1   \n",
       "\n",
       "                                                    market_and_accrued_fund  \n",
       "14_Identification code of the financial instrument                           \n",
       "BE6286986284                                                     6501000.00  \n",
       "CA01CHF                                                              206.58  \n",
       "CA01CHFHA                                                        4355919.83  \n",
       "CA01EUR                                                         25423090.51  \n",
       "CA01EURHA                                                          17557.09  "
      ]
     },
     "execution_count": 4,
     "metadata": {},
     "output_type": "execute_result"
    }
   ],
   "source": [
    "instruments = bucket.get_instruments(indicator=\"all\", info=[\"hedge_indicator\",\n",
    "                                                            \"market_and_accrued_fund\"])\n",
    "instruments = instruments.sort_index()\n",
    "instruments.head()"
   ]
  },
  {
   "cell_type": "markdown",
   "metadata": {},
   "source": [
    "#### Shareclasses infos\n",
    "Here we get the list of shareclasses in the subfund, then acquire their NAV and list of groups they're included into."
   ]
  },
  {
   "cell_type": "code",
   "execution_count": 5,
   "metadata": {},
   "outputs": [
    {
     "name": "stdout",
     "output_type": "stream",
     "text": [
      "['LU1280365633', 'LU1280365476', 'LU1280365393', 'LU1280365559', 'LU1483663818', 'LU1840818220', 'LU1586705938', 'LU1508332993']\n"
     ]
    }
   ],
   "source": [
    "shareclasses = bucket.get_subfund_shareclasses()\n",
    "print(shareclasses)"
   ]
  },
  {
   "cell_type": "code",
   "execution_count": 6,
   "metadata": {},
   "outputs": [
    {
     "data": {
      "text/html": [
       "<div>\n",
       "<style scoped>\n",
       "    .dataframe tbody tr th:only-of-type {\n",
       "        vertical-align: middle;\n",
       "    }\n",
       "\n",
       "    .dataframe tbody tr th {\n",
       "        vertical-align: top;\n",
       "    }\n",
       "\n",
       "    .dataframe thead th {\n",
       "        text-align: right;\n",
       "    }\n",
       "</style>\n",
       "<table border=\"1\" class=\"dataframe\">\n",
       "  <thead>\n",
       "    <tr style=\"text-align: right;\">\n",
       "      <th></th>\n",
       "      <th>shareclass_total_net_asset_sf_curr</th>\n",
       "      <th>subfund_total_net_asset</th>\n",
       "      <th>indicators</th>\n",
       "    </tr>\n",
       "  </thead>\n",
       "  <tbody>\n",
       "    <tr>\n",
       "      <th>LU1280365633</th>\n",
       "      <td>1.33117e+08</td>\n",
       "      <td>3.30155e+08</td>\n",
       "      <td>[LU6517-NH, B, LU6517-NH]</td>\n",
       "    </tr>\n",
       "    <tr>\n",
       "      <th>LU1280365476</th>\n",
       "      <td>NaN</td>\n",
       "      <td>3.30155e+08</td>\n",
       "      <td>[LU6517-NH, A, LU6517-HA-C2-C5-D1]</td>\n",
       "    </tr>\n",
       "    <tr>\n",
       "      <th>LU1280365393</th>\n",
       "      <td>1.0327e+08</td>\n",
       "      <td>3.30155e+08</td>\n",
       "      <td>[LU6517-NH, A, LU6517-NH]</td>\n",
       "    </tr>\n",
       "    <tr>\n",
       "      <th>LU1280365559</th>\n",
       "      <td>NaN</td>\n",
       "      <td>3.30155e+08</td>\n",
       "      <td>[LU6517-NH, A, LU6517-HB-C3-C7]</td>\n",
       "    </tr>\n",
       "    <tr>\n",
       "      <th>LU1483663818</th>\n",
       "      <td>NaN</td>\n",
       "      <td>3.30155e+08</td>\n",
       "      <td>[LU6517-NH, B, LU6517-HA-C2-C5-D1]</td>\n",
       "    </tr>\n",
       "    <tr>\n",
       "      <th>LU1840818220</th>\n",
       "      <td>NaN</td>\n",
       "      <td>3.30155e+08</td>\n",
       "      <td>[LU6517-NH, B, LU6517-HC-C8]</td>\n",
       "    </tr>\n",
       "    <tr>\n",
       "      <th>LU1586705938</th>\n",
       "      <td>NaN</td>\n",
       "      <td>3.30155e+08</td>\n",
       "      <td>[LU6517-NH, B, LU6517-HB-C3-C7]</td>\n",
       "    </tr>\n",
       "    <tr>\n",
       "      <th>LU1508332993</th>\n",
       "      <td>1.18921e+07</td>\n",
       "      <td>3.30155e+08</td>\n",
       "      <td>[LU6517-NH, D, LU6517-NH]</td>\n",
       "    </tr>\n",
       "  </tbody>\n",
       "</table>\n",
       "</div>"
      ],
      "text/plain": [
       "             shareclass_total_net_asset_sf_curr subfund_total_net_asset  \\\n",
       "LU1280365633                        1.33117e+08             3.30155e+08   \n",
       "LU1280365476                                NaN             3.30155e+08   \n",
       "LU1280365393                         1.0327e+08             3.30155e+08   \n",
       "LU1280365559                                NaN             3.30155e+08   \n",
       "LU1483663818                                NaN             3.30155e+08   \n",
       "LU1840818220                                NaN             3.30155e+08   \n",
       "LU1586705938                                NaN             3.30155e+08   \n",
       "LU1508332993                        1.18921e+07             3.30155e+08   \n",
       "\n",
       "                                      indicators  \n",
       "LU1280365633           [LU6517-NH, B, LU6517-NH]  \n",
       "LU1280365476  [LU6517-NH, A, LU6517-HA-C2-C5-D1]  \n",
       "LU1280365393           [LU6517-NH, A, LU6517-NH]  \n",
       "LU1280365559     [LU6517-NH, A, LU6517-HB-C3-C7]  \n",
       "LU1483663818  [LU6517-NH, B, LU6517-HA-C2-C5-D1]  \n",
       "LU1840818220        [LU6517-NH, B, LU6517-HC-C8]  \n",
       "LU1586705938     [LU6517-NH, B, LU6517-HB-C3-C7]  \n",
       "LU1508332993           [LU6517-NH, D, LU6517-NH]  "
      ]
     },
     "execution_count": 6,
     "metadata": {},
     "output_type": "execute_result"
    }
   ],
   "source": [
    "NAVs = pd.DataFrame(index=shareclasses, \n",
    "                    columns=[\"shareclass_total_net_asset_sf_curr\",\n",
    "                             \"subfund_total_net_asset\",\n",
    "                             \"indicators\"],\n",
    "                    dtype=object)\n",
    "\n",
    "NAVs[\"indicators\"] = NAVs[\"indicators\"].astype(object)\n",
    "for isin in shareclasses:\n",
    "    NAVs.loc[isin, \"shareclass_total_net_asset_sf_curr\"] = \\\n",
    "        bucket.get_shareclass_nav(isin=isin, info=\"shareclass_total_net_asset_sf_curr\")\n",
    "    NAVs.loc[isin, \"subfund_total_net_asset\"] = \\\n",
    "        bucket.get_shareclass_nav(isin=isin, info=\"subfund_total_net_asset\")\n",
    "    NAVs.at[isin, \"indicators\"] = \\\n",
    "        [bucket.get_subfund_infos(\"subfund_indicator\"),\n",
    "         bucket.get_shareclass_infos(isin=isin, info=\"shareclass\"),\n",
    "         bucket.get_shareclass_infos(isin=isin, info=\"shareclass_id\")\n",
    "                                   ]\n",
    "NAVs"
   ]
  },
  {
   "cell_type": "markdown",
   "metadata": {},
   "source": [
    "## Computation of the distributions matrices\n",
    "To compute the repartition keys, valuation weights and dedicated values for each instruments and shareclasses in a subfund, we proceed by computing a set of distributions matrices at the subfund level. This approache allows us to perform more checks and assert the coherence of our calculations at the subfund level. "
   ]
  },
  {
   "cell_type": "markdown",
   "metadata": {},
   "source": [
    "###  Indicator matrix (BETAS)\n",
    "The first distribution matrice we will use is the BETAS, it is a binary matrice built by doing the cartesian product of the shareclasses with the instruments.\n",
    "\n",
    "Each $\\beta_{i,j} = BETAS(i,j)$ is defined as follows:\n",
    "$$\n",
    "\\beta_{i,j} = \\left\\{\n",
    "    \\begin{array}\\\\\n",
    "        1 & \\mbox{if } \\ \\text{instrument i is distributed to shareclass j}\\\\\n",
    "        0 & \\mbox{if } \\ \\text{not} \\\\\n",
    "    \\end{array}\n",
    "\\right.\n",
    "$$\n",
    "\n",
    "We then append a column \"fund\" to the matrix BETAS which is the product of all column for each row."
   ]
  },
  {
   "cell_type": "code",
   "execution_count": 7,
   "metadata": {},
   "outputs": [
    {
     "data": {
      "text/html": [
       "<div>\n",
       "<style scoped>\n",
       "    .dataframe tbody tr th:only-of-type {\n",
       "        vertical-align: middle;\n",
       "    }\n",
       "\n",
       "    .dataframe tbody tr th {\n",
       "        vertical-align: top;\n",
       "    }\n",
       "\n",
       "    .dataframe thead th {\n",
       "        text-align: right;\n",
       "    }\n",
       "</style>\n",
       "<table border=\"1\" class=\"dataframe\">\n",
       "  <thead>\n",
       "    <tr style=\"text-align: right;\">\n",
       "      <th></th>\n",
       "      <th>LU1280365633</th>\n",
       "      <th>LU1280365476</th>\n",
       "      <th>LU1280365393</th>\n",
       "      <th>LU1280365559</th>\n",
       "      <th>LU1483663818</th>\n",
       "      <th>LU1840818220</th>\n",
       "      <th>LU1586705938</th>\n",
       "      <th>LU1508332993</th>\n",
       "      <th>fund</th>\n",
       "    </tr>\n",
       "    <tr>\n",
       "      <th>14_Identification code of the financial instrument</th>\n",
       "      <th></th>\n",
       "      <th></th>\n",
       "      <th></th>\n",
       "      <th></th>\n",
       "      <th></th>\n",
       "      <th></th>\n",
       "      <th></th>\n",
       "      <th></th>\n",
       "      <th></th>\n",
       "    </tr>\n",
       "  </thead>\n",
       "  <tbody>\n",
       "    <tr>\n",
       "      <th>BE6286986284</th>\n",
       "      <td>1</td>\n",
       "      <td>1</td>\n",
       "      <td>1</td>\n",
       "      <td>1</td>\n",
       "      <td>1</td>\n",
       "      <td>1</td>\n",
       "      <td>1</td>\n",
       "      <td>1</td>\n",
       "      <td>1</td>\n",
       "    </tr>\n",
       "    <tr>\n",
       "      <th>CA01CHF</th>\n",
       "      <td>1</td>\n",
       "      <td>1</td>\n",
       "      <td>1</td>\n",
       "      <td>1</td>\n",
       "      <td>1</td>\n",
       "      <td>1</td>\n",
       "      <td>1</td>\n",
       "      <td>1</td>\n",
       "      <td>1</td>\n",
       "    </tr>\n",
       "    <tr>\n",
       "      <th>CA01CHFHA</th>\n",
       "      <td>0</td>\n",
       "      <td>1</td>\n",
       "      <td>0</td>\n",
       "      <td>0</td>\n",
       "      <td>1</td>\n",
       "      <td>0</td>\n",
       "      <td>0</td>\n",
       "      <td>0</td>\n",
       "      <td>0</td>\n",
       "    </tr>\n",
       "    <tr>\n",
       "      <th>CA01EUR</th>\n",
       "      <td>1</td>\n",
       "      <td>1</td>\n",
       "      <td>1</td>\n",
       "      <td>1</td>\n",
       "      <td>1</td>\n",
       "      <td>1</td>\n",
       "      <td>1</td>\n",
       "      <td>1</td>\n",
       "      <td>1</td>\n",
       "    </tr>\n",
       "    <tr>\n",
       "      <th>CA01EURHA</th>\n",
       "      <td>0</td>\n",
       "      <td>1</td>\n",
       "      <td>0</td>\n",
       "      <td>0</td>\n",
       "      <td>1</td>\n",
       "      <td>0</td>\n",
       "      <td>0</td>\n",
       "      <td>0</td>\n",
       "      <td>0</td>\n",
       "    </tr>\n",
       "  </tbody>\n",
       "</table>\n",
       "</div>"
      ],
      "text/plain": [
       "                                                    LU1280365633  \\\n",
       "14_Identification code of the financial instrument                 \n",
       "BE6286986284                                                   1   \n",
       "CA01CHF                                                        1   \n",
       "CA01CHFHA                                                      0   \n",
       "CA01EUR                                                        1   \n",
       "CA01EURHA                                                      0   \n",
       "\n",
       "                                                    LU1280365476  \\\n",
       "14_Identification code of the financial instrument                 \n",
       "BE6286986284                                                   1   \n",
       "CA01CHF                                                        1   \n",
       "CA01CHFHA                                                      1   \n",
       "CA01EUR                                                        1   \n",
       "CA01EURHA                                                      1   \n",
       "\n",
       "                                                    LU1280365393  \\\n",
       "14_Identification code of the financial instrument                 \n",
       "BE6286986284                                                   1   \n",
       "CA01CHF                                                        1   \n",
       "CA01CHFHA                                                      0   \n",
       "CA01EUR                                                        1   \n",
       "CA01EURHA                                                      0   \n",
       "\n",
       "                                                    LU1280365559  \\\n",
       "14_Identification code of the financial instrument                 \n",
       "BE6286986284                                                   1   \n",
       "CA01CHF                                                        1   \n",
       "CA01CHFHA                                                      0   \n",
       "CA01EUR                                                        1   \n",
       "CA01EURHA                                                      0   \n",
       "\n",
       "                                                    LU1483663818  \\\n",
       "14_Identification code of the financial instrument                 \n",
       "BE6286986284                                                   1   \n",
       "CA01CHF                                                        1   \n",
       "CA01CHFHA                                                      1   \n",
       "CA01EUR                                                        1   \n",
       "CA01EURHA                                                      1   \n",
       "\n",
       "                                                    LU1840818220  \\\n",
       "14_Identification code of the financial instrument                 \n",
       "BE6286986284                                                   1   \n",
       "CA01CHF                                                        1   \n",
       "CA01CHFHA                                                      0   \n",
       "CA01EUR                                                        1   \n",
       "CA01EURHA                                                      0   \n",
       "\n",
       "                                                    LU1586705938  \\\n",
       "14_Identification code of the financial instrument                 \n",
       "BE6286986284                                                   1   \n",
       "CA01CHF                                                        1   \n",
       "CA01CHFHA                                                      0   \n",
       "CA01EUR                                                        1   \n",
       "CA01EURHA                                                      0   \n",
       "\n",
       "                                                    LU1508332993  fund  \n",
       "14_Identification code of the financial instrument                      \n",
       "BE6286986284                                                   1     1  \n",
       "CA01CHF                                                        1     1  \n",
       "CA01CHFHA                                                      0     0  \n",
       "CA01EUR                                                        1     1  \n",
       "CA01EURHA                                                      0     0  "
      ]
     },
     "execution_count": 7,
     "metadata": {},
     "output_type": "execute_result"
    }
   ],
   "source": [
    "BETAS = pd.DataFrame(1, index=instruments.index, columns=NAVs.index)\n",
    "for isin in shareclasses:\n",
    "    BETAS[isin].where(\n",
    "        instruments[\"hedge_indicator\"].isin(NAVs.loc[isin, \"indicators\"]),\n",
    "        0,\n",
    "        inplace=True)\n",
    "BETAS.sort_index(inplace=True)\n",
    "BETAS[\"fund\"] = 1\n",
    "for isin in shareclasses:\n",
    "    BETAS[\"fund\"] = BETAS[\"fund\"] * BETAS[isin]\n",
    "\n",
    "BETAS.head()"
   ]
  },
  {
   "cell_type": "markdown",
   "metadata": {},
   "source": [
    "### Shareclasses Key matrix (SK)\n",
    "The second distribution matrice we will use is the Shareclasses Key, it is built in the same way as the BETAS matrix (excluding the added colun \"fund\"). Where each SK(i,j) is defined as follow:\n",
    "$$\n",
    "SK(i,j) = \\left\\{\n",
    "    \\begin{array}\\\\\n",
    "        \\text{NAV of shareclass j} & \\mbox{if } \\ \\beta_{i,j} = 1 \\\\\n",
    "        0 & \\mbox{if } \\ \\beta_{i,j} = 0 \\\\\n",
    "    \\end{array}\n",
    "\\right.\n",
    "$$\n",
    "the NAV of the shareclass j if instrument j is distributed to j. "
   ]
  },
  {
   "cell_type": "code",
   "execution_count": 8,
   "metadata": {},
   "outputs": [
    {
     "ename": "AttributeError",
     "evalue": "'float' object has no attribute 'astype'",
     "output_type": "error",
     "traceback": [
      "\u001b[1;31m---------------------------------------------------------------------------\u001b[0m",
      "\u001b[1;31mAttributeError\u001b[0m                            Traceback (most recent call last)",
      "\u001b[1;32m<ipython-input-8-537675ecae63>\u001b[0m in \u001b[0;36m<module>\u001b[1;34m\u001b[0m\n\u001b[0;32m      3\u001b[0m     SK[isin].where(\n\u001b[0;32m      4\u001b[0m         \u001b[1;33m~\u001b[0m\u001b[1;33m(\u001b[0m\u001b[0minstruments\u001b[0m\u001b[1;33m[\u001b[0m\u001b[1;34m\"hedge_indicator\"\u001b[0m\u001b[1;33m]\u001b[0m\u001b[1;33m.\u001b[0m\u001b[0misin\u001b[0m\u001b[1;33m(\u001b[0m\u001b[0mNAVs\u001b[0m\u001b[1;33m.\u001b[0m\u001b[0mloc\u001b[0m\u001b[1;33m[\u001b[0m\u001b[0misin\u001b[0m\u001b[1;33m,\u001b[0m \u001b[1;34m\"indicators\"\u001b[0m\u001b[1;33m]\u001b[0m\u001b[1;33m)\u001b[0m\u001b[1;33m)\u001b[0m\u001b[1;33m,\u001b[0m\u001b[1;33m\u001b[0m\u001b[1;33m\u001b[0m\u001b[0m\n\u001b[1;32m----> 5\u001b[1;33m         \u001b[0mNAVs\u001b[0m\u001b[1;33m.\u001b[0m\u001b[0mloc\u001b[0m\u001b[1;33m[\u001b[0m\u001b[0misin\u001b[0m\u001b[1;33m,\u001b[0m \u001b[1;34m\"shareclass_total_net_asset_sf_curr\"\u001b[0m\u001b[1;33m]\u001b[0m\u001b[1;33m.\u001b[0m\u001b[0mastype\u001b[0m\u001b[1;33m(\u001b[0m\u001b[1;34m'float64'\u001b[0m\u001b[1;33m)\u001b[0m\u001b[1;33m,\u001b[0m\u001b[1;33m\u001b[0m\u001b[1;33m\u001b[0m\u001b[0m\n\u001b[0m\u001b[0;32m      6\u001b[0m         inplace=True)\n\u001b[0;32m      7\u001b[0m \u001b[0mSK\u001b[0m\u001b[1;33m.\u001b[0m\u001b[0msort_index\u001b[0m\u001b[1;33m(\u001b[0m\u001b[0minplace\u001b[0m\u001b[1;33m=\u001b[0m\u001b[1;32mTrue\u001b[0m\u001b[1;33m)\u001b[0m\u001b[1;33m\u001b[0m\u001b[1;33m\u001b[0m\u001b[0m\n",
      "\u001b[1;31mAttributeError\u001b[0m: 'float' object has no attribute 'astype'"
     ]
    }
   ],
   "source": [
    "SK = pd.DataFrame(0, index=instruments.index, columns=NAVs.index)\n",
    "for isin in shareclasses:\n",
    "    SK[isin].where(\n",
    "        ~(instruments[\"hedge_indicator\"].isin(NAVs.loc[isin, \"indicators\"])),\n",
    "        NAVs.loc[isin, \"shareclass_total_net_asset_sf_curr\"].astype('float64'),\n",
    "        inplace=True)\n",
    "SK.sort_index(inplace=True)\n",
    "SK.head()"
   ]
  },
  {
   "cell_type": "markdown",
   "metadata": {},
   "source": [
    "### Dedicated values matrix (D)\n",
    "The third matrice we will use is the dedicated value matrice, where each $d_{i,j}$ is defined as the value of instrument i associated to the shareclass j.\n",
    "\n",
    "In the general case, the value of instrument i is distributed over each shareclass it is associated with proportionately to the respective NAV of the shareclasses.\n",
    "\n",
    "The general definition of $d_{i,j}$ is as follow:\n",
    "$$\n",
    "d_{i,j} = I_i \\cdot \\frac{\\beta_{i,j} S_j}{\\sum_{k=0}^{m} \\beta_{i,k} S_k}\n",
    "$$\n",
    "\n",
    "#### Repartition keys matrix (ALPHAS)\n",
    "\n",
    "We can then define the repartition key $\\alpha_{i,j}$ of each instrument i to each shareclass j such that:\n",
    "\n",
    "$$\n",
    "d_{i,j} = \\alpha_{i,j} \\cdot I_i\n",
    "$$\n",
    "\n",
    "which gives:\n",
    "\n",
    "$$\n",
    "\\alpha_{i,j} = \\frac{\\beta_{i,j} S_j}{\\sum_{k=0}^{m} \\beta_{i,k} S_k}\n",
    "$$"
   ]
  },
  {
   "cell_type": "code",
   "execution_count": null,
   "metadata": {},
   "outputs": [],
   "source": [
    "ALPHAS = pd.DataFrame(0, index=instruments.index, columns=NAVs.index)\n",
    "for isin in shareclasses:\n",
    "    ALPHAS[isin] = SK[isin] * 1 / SK.sum(axis=1)\n",
    "ALPHAS.sort_index(inplace=True)\n",
    "ALPHAS.head()"
   ]
  },
  {
   "cell_type": "markdown",
   "metadata": {},
   "source": [
    "#### Computing D (first version)\n",
    "Once we have the ALPHAS matrix we should be able to compute the value $d_{i,j}$ of each instrument i dedicated to each shareclass j by multiplying each instrument value $I_i$ by $\\alpha_{i,j}$."
   ]
  },
  {
   "cell_type": "code",
   "execution_count": null,
   "metadata": {},
   "outputs": [],
   "source": [
    "D = pd.DataFrame(0, index=instruments.index, columns=NAVs.index)\n",
    "for isin in shareclasses:\n",
    "    D[isin].where(\n",
    "        ~(instruments[\"hedge_indicator\"].isin(NAVs.loc[isin, \"indicators\"])),\n",
    "        instruments[\"market_and_accrued_fund\"]*ALPHAS[isin],\n",
    "        inplace=True)\n",
    "D.sort_index(inplace=True)\n",
    "D.head()"
   ]
  },
  {
   "cell_type": "markdown",
   "metadata": {},
   "source": [
    "#### Checking the results\n",
    "To check the results, we simply have to sum the dedicated values $d_{i,j}$ for each shareclass j and we should find the NAV of each shareclass."
   ]
  },
  {
   "cell_type": "code",
   "execution_count": null,
   "metadata": {
    "scrolled": true
   },
   "outputs": [],
   "source": [
    "for isin in shareclasses:\n",
    "    print(f\"NAV {isin} :\", NAVs.loc[isin, \"shareclass_total_net_asset_sf_curr\"])\n",
    "    print(\"computed NAV: \", D[isin].sum(), \"\\n\")"
   ]
  },
  {
   "cell_type": "markdown",
   "metadata": {},
   "source": [
    "#### Erroneous values\n",
    "As we can see, the computed NAVs does not match the NAVs given by the clients, which means that we are doing something wrong."
   ]
  },
  {
   "cell_type": "markdown",
   "metadata": {},
   "source": [
    "###  Investigation\n",
    "Let's investigate our datas to find where is our error."
   ]
  },
  {
   "cell_type": "markdown",
   "metadata": {},
   "source": [
    "#### Check that we have all the instruments\n",
    "First, we begin by checking that the values of all instruments and the NAVs of all shareclasses both sum to the total NAV of the subfund."
   ]
  },
  {
   "cell_type": "code",
   "execution_count": null,
   "metadata": {},
   "outputs": [],
   "source": [
    "print(\"total NAV of the subfund: \", NAVs[\"subfund_total_net_asset\"].iloc[0])\n",
    "print(\"sum of shareclasses' NAV: \", NAVs[\"shareclass_total_net_asset_sf_curr\"].sum())\n",
    "print(\"sum of instruments values: \", instruments[\"market_and_accrued_fund\"].sum())"
   ]
  },
  {
   "cell_type": "markdown",
   "metadata": {},
   "source": [
    "As we can see, there is no mismatch in the datas we are given, this means that the errors comes from our computations."
   ]
  },
  {
   "cell_type": "markdown",
   "metadata": {},
   "source": [
    "#### Check for value loss\n",
    "\n",
    "Now let's check that we are not ommitting any amount and that we do not lose (or create) any money along the way. In order to do that we will check that the sum of distributed values for each instrument sum to 100% of the instrument value."
   ]
  },
  {
   "cell_type": "code",
   "execution_count": null,
   "metadata": {},
   "outputs": [],
   "source": [
    "percentage = D.sum(axis=1) / instruments[\"market_and_accrued_fund\"]\n",
    "print(percentage.head())\n",
    "print(\"erroneous instruments: \", percentage.loc[percentage.round(5)!=1])"
   ]
  },
  {
   "cell_type": "markdown",
   "metadata": {},
   "source": [
    "All distributions indeed sum to 100% meaning that we do not lose any value during the distribution. Rather, this means that we do not correctly distribute our instruments over the shareclasses."
   ]
  },
  {
   "cell_type": "markdown",
   "metadata": {},
   "source": [
    "#### Computing D (correct version)\n",
    "In fact the discrepencies between our computed NAVs and the NAVs provided by the client comes from our definition of our $d_{i,j}$ values. \n",
    "\n",
    "To correctly distribute the values of the instruments over the shareclasses we have to split our instruments into two categories: \n",
    "- the instruments which are at the subfund's level and must be distributed over all shareclasses of the subfund\n",
    "- the instruments which are dedicated to a strict sub-set of shareclasses in the subfund.\n",
    "\n",
    "let's denote :\n",
    "- $\\mathcal{I}_s$ the set of instruments dedicated to the whole subfund\n",
    "- $\\mathcal{I}_d$ the set of instruments dedicated to a strict subset of shareclasses\n",
    "\n",
    "For $I_i \\in \\mathcal{I}_d$ we keep the same definition of $d_{i,j}$:\n",
    "\n",
    "$$\n",
    "d_{i,j} = I_i \\cdot \\frac{\\beta_{i,j} S_j}{\\sum_{k=0}^{m} \\beta_{i,k} S_k}\n",
    "$$\n",
    "\n",
    "However for $I_i \\in \\mathcal{I}_s$ we exclude the values of all instruments $I_k \\in \\mathcal{I}_d$ which leads to:\n",
    "\n",
    "$$\n",
    "d_{i,j} = I_i \\cdot \\frac{S_j - (\\beta_{i,j} \\cdot \\sum_{k | I_k \\in \\mathcal{I}_d} d_{k,j})}\n",
    "                         {\\sum_{k | I_k \\in \\mathcal{I}_s} S_k - \\sum_{k | I_k \\in \\mathcal{I}_d} I_k} \n",
    "$$"
   ]
  },
  {
   "cell_type": "code",
   "execution_count": null,
   "metadata": {},
   "outputs": [],
   "source": [
    "D = pd.DataFrame(0, index=instruments.index, columns=NAVs.index)\n",
    "for isin in shareclasses:\n",
    "    D.loc[BETAS[\"fund\"]==0, isin] = \\\n",
    "        instruments.loc[BETAS[\"fund\"]==0, \"market_and_accrued_fund\"] \\\n",
    "        * SK.loc[BETAS[\"fund\"]==0, isin] / SK.loc[BETAS[\"fund\"]==0].sum(axis=1)\n",
    "\n",
    "for isin in shareclasses:\n",
    "    D.loc[BETAS[\"fund\"]==1, isin] = \\\n",
    "        instruments.loc[BETAS[\"fund\"]==1, \"market_and_accrued_fund\"] \\\n",
    "        * (SK.loc[BETAS[\"fund\"]==1, isin] \\\n",
    "           - D.loc[((BETAS[isin]==1) & (BETAS[\"fund\"]==0)), isin].sum()) \\\n",
    "        / (SK.loc[BETAS[\"fund\"]==1].sum(axis=1) \\\n",
    "           - instruments.loc[BETAS[\"fund\"]==0, \"market_and_accrued_fund\"].sum())\n",
    "\n",
    "D.sort_index(inplace=True)\n",
    "D.head()"
   ]
  },
  {
   "cell_type": "markdown",
   "metadata": {},
   "source": [
    "#### Checking the results\n",
    "To check the results, we simply have to sum the dedicated values $d_{i,j}$ for each shareclass j and we should find the NAV of each shareclass."
   ]
  },
  {
   "cell_type": "code",
   "execution_count": null,
   "metadata": {
    "scrolled": true
   },
   "outputs": [],
   "source": [
    "for isin in shareclasses:\n",
    "    print(f\"NAV {isin} :\", NAVs.loc[isin, \"shareclass_total_net_asset_sf_curr\"])\n",
    "    print(\"computed NAV: \", D[isin].sum(), \"\\n\")"
   ]
  },
  {
   "cell_type": "markdown",
   "metadata": {},
   "source": [
    "As we can see, we are able to retrieve the NAVs of each shareclass by summing the distributed values of all instruments."
   ]
  },
  {
   "cell_type": "code",
   "execution_count": null,
   "metadata": {},
   "outputs": [],
   "source": [
    "Valuation_weight = D.apply(lambda x: x/NAVs.loc[x.name, \"shareclass_total_net_asset_sf_curr\"]) \n",
    "#pd.DataFrame(index=D.index, columns=D.columns)\n",
    "Valuation_weight[\"LU1280365476\"]\n"
   ]
  },
  {
   "cell_type": "code",
   "execution_count": null,
   "metadata": {},
   "outputs": [],
   "source": []
  }
 ],
 "metadata": {
  "kernelspec": {
   "display_name": "Python 3",
   "language": "python",
   "name": "python3"
  },
  "language_info": {
   "codemirror_mode": {
    "name": "ipython",
    "version": 3
   },
   "file_extension": ".py",
   "mimetype": "text/x-python",
   "name": "python",
   "nbconvert_exporter": "python",
   "pygments_lexer": "ipython3",
   "version": "3.8.5"
  }
 },
 "nbformat": 4,
 "nbformat_minor": 4
}
