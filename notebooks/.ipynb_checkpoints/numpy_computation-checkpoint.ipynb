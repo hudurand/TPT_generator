{
 "cells": [
  {
   "cell_type": "markdown",
   "metadata": {},
   "source": [
    "# Computation of repartition keys, valuation weights and dedicated values"
   ]
  },
  {
   "cell_type": "markdown",
   "metadata": {},
   "source": [
    "### Necessary imports"
   ]
  },
  {
   "cell_type": "code",
   "execution_count": 1,
   "metadata": {},
   "outputs": [],
   "source": [
    "import sys\n",
    "import os\n",
    "sys.path.append(os.path.abspath('..'))\n",
    "\n",
    "import pandas as pd\n",
    "import numpy as np\n",
    "from pathlib import Path\n",
    "from TPT_generator_python import Data_Bucket, TPT_Fetcher"
   ]
  },
  {
   "cell_type": "markdown",
   "metadata": {},
   "source": [
    "### Variables definition"
   ]
  },
  {
   "cell_type": "code",
   "execution_count": 2,
   "metadata": {},
   "outputs": [],
   "source": [
    "DATE = pd.to_datetime(\"2020-12-31\").date()\n",
    "CLIENT = \"BIL\"\n",
    "ISIN = \"LU1689732417\"\n",
    "SOURCE_DIR = Path(\"./data\")"
   ]
  },
  {
   "cell_type": "code",
   "execution_count": 3,
   "metadata": {},
   "outputs": [],
   "source": [
    "fetcher = TPT_Fetcher(DATE, CLIENT, ISIN, SOURCE_DIR)\n",
    "bucket = Data_Bucket(CLIENT, fetcher)"
   ]
  },
  {
   "cell_type": "markdown",
   "metadata": {},
   "source": [
    "### Acquiring datas from database\n",
    "#### Instruments infos\n",
    "Using a Data_Bucket object which abstract database accesses through the fetcher object (see documentation), we get all necessary data from the databse and store them in a dataframe.\n",
    "\n",
    "We get the list of instruments in the subfund's portfolio, their market values and the dedication indicator which define the group of shareclasses, the instrument must be distributed to."
   ]
  },
  {
   "cell_type": "code",
   "execution_count": 4,
   "metadata": {},
   "outputs": [
    {
     "data": {
      "text/html": [
       "<div>\n",
       "<style scoped>\n",
       "    .dataframe tbody tr th:only-of-type {\n",
       "        vertical-align: middle;\n",
       "    }\n",
       "\n",
       "    .dataframe tbody tr th {\n",
       "        vertical-align: top;\n",
       "    }\n",
       "\n",
       "    .dataframe thead th {\n",
       "        text-align: right;\n",
       "    }\n",
       "</style>\n",
       "<table border=\"1\" class=\"dataframe\">\n",
       "  <thead>\n",
       "    <tr style=\"text-align: right;\">\n",
       "      <th></th>\n",
       "      <th>hedge_indicator</th>\n",
       "      <th>market_and_accrued_fund</th>\n",
       "    </tr>\n",
       "    <tr>\n",
       "      <th>14_Identification code of the financial instrument</th>\n",
       "      <th></th>\n",
       "      <th></th>\n",
       "    </tr>\n",
       "  </thead>\n",
       "  <tbody>\n",
       "    <tr>\n",
       "      <th>144120_1</th>\n",
       "      <td>LU3964-NH</td>\n",
       "      <td>1295421.86</td>\n",
       "    </tr>\n",
       "    <tr>\n",
       "      <th>151301_1</th>\n",
       "      <td>LU3964-NH</td>\n",
       "      <td>1218.75</td>\n",
       "    </tr>\n",
       "    <tr>\n",
       "      <th>152001_1</th>\n",
       "      <td>LU3964-NH</td>\n",
       "      <td>-5.04</td>\n",
       "    </tr>\n",
       "    <tr>\n",
       "      <th>263076_1</th>\n",
       "      <td>PD</td>\n",
       "      <td>-6.10</td>\n",
       "    </tr>\n",
       "    <tr>\n",
       "      <th>264287_1</th>\n",
       "      <td>P</td>\n",
       "      <td>-11509.91</td>\n",
       "    </tr>\n",
       "  </tbody>\n",
       "</table>\n",
       "</div>"
      ],
      "text/plain": [
       "                                                   hedge_indicator  \\\n",
       "14_Identification code of the financial instrument                   \n",
       "144120_1                                                 LU3964-NH   \n",
       "151301_1                                                 LU3964-NH   \n",
       "152001_1                                                 LU3964-NH   \n",
       "263076_1                                                        PD   \n",
       "264287_1                                                         P   \n",
       "\n",
       "                                                    market_and_accrued_fund  \n",
       "14_Identification code of the financial instrument                           \n",
       "144120_1                                                         1295421.86  \n",
       "151301_1                                                            1218.75  \n",
       "152001_1                                                              -5.04  \n",
       "263076_1                                                              -6.10  \n",
       "264287_1                                                          -11509.91  "
      ]
     },
     "execution_count": 4,
     "metadata": {},
     "output_type": "execute_result"
    }
   ],
   "source": [
    "instruments = bucket.get_instruments(indicator=\"all\", info=[\"hedge_indicator\",\n",
    "                                                            \"market_and_accrued_fund\"])\n",
    "instruments = instruments.sort_index()\n",
    "instruments.head()"
   ]
  },
  {
   "cell_type": "markdown",
   "metadata": {},
   "source": [
    "#### Shareclasses infos\n",
    "Here we get the list of shareclasses in the subfund, then acquire their NAV and list of groups they're included into."
   ]
  },
  {
   "cell_type": "code",
   "execution_count": 5,
   "metadata": {},
   "outputs": [
    {
     "name": "stdout",
     "output_type": "stream",
     "text": [
      "['LU1689732334', 'LU1808854985', 'LU1689732417', 'LU1689732508']\n"
     ]
    }
   ],
   "source": [
    "shareclasses = bucket.get_subfund_shareclasses()\n",
    "print(shareclasses)"
   ]
  },
  {
   "cell_type": "code",
   "execution_count": 6,
   "metadata": {},
   "outputs": [
    {
     "data": {
      "text/html": [
       "<div>\n",
       "<style scoped>\n",
       "    .dataframe tbody tr th:only-of-type {\n",
       "        vertical-align: middle;\n",
       "    }\n",
       "\n",
       "    .dataframe tbody tr th {\n",
       "        vertical-align: top;\n",
       "    }\n",
       "\n",
       "    .dataframe thead th {\n",
       "        text-align: right;\n",
       "    }\n",
       "</style>\n",
       "<table border=\"1\" class=\"dataframe\">\n",
       "  <thead>\n",
       "    <tr style=\"text-align: right;\">\n",
       "      <th></th>\n",
       "      <th>shareclass_total_net_asset_sf_curr</th>\n",
       "      <th>indicators</th>\n",
       "      <th>subfund_total_net_asset</th>\n",
       "    </tr>\n",
       "  </thead>\n",
       "  <tbody>\n",
       "    <tr>\n",
       "      <th>LU1689732334</th>\n",
       "      <td>5.17221e+06</td>\n",
       "      <td>[LU3964-NH, I, None]</td>\n",
       "      <td>7.54552e+07</td>\n",
       "    </tr>\n",
       "    <tr>\n",
       "      <th>LU1808854985</th>\n",
       "      <td>5.84633e+07</td>\n",
       "      <td>[LU3964-NH, IEH, None]</td>\n",
       "      <td>7.54552e+07</td>\n",
       "    </tr>\n",
       "    <tr>\n",
       "      <th>LU1689732417</th>\n",
       "      <td>1.17914e+07</td>\n",
       "      <td>[LU3964-NH, P, None]</td>\n",
       "      <td>7.54552e+07</td>\n",
       "    </tr>\n",
       "    <tr>\n",
       "      <th>LU1689732508</th>\n",
       "      <td>28357.1</td>\n",
       "      <td>[LU3964-NH, PD, None]</td>\n",
       "      <td>7.54552e+07</td>\n",
       "    </tr>\n",
       "  </tbody>\n",
       "</table>\n",
       "</div>"
      ],
      "text/plain": [
       "             shareclass_total_net_asset_sf_curr              indicators  \\\n",
       "LU1689732334                        5.17221e+06    [LU3964-NH, I, None]   \n",
       "LU1808854985                        5.84633e+07  [LU3964-NH, IEH, None]   \n",
       "LU1689732417                        1.17914e+07    [LU3964-NH, P, None]   \n",
       "LU1689732508                            28357.1   [LU3964-NH, PD, None]   \n",
       "\n",
       "             subfund_total_net_asset  \n",
       "LU1689732334             7.54552e+07  \n",
       "LU1808854985             7.54552e+07  \n",
       "LU1689732417             7.54552e+07  \n",
       "LU1689732508             7.54552e+07  "
      ]
     },
     "execution_count": 6,
     "metadata": {},
     "output_type": "execute_result"
    }
   ],
   "source": [
    "NAVs = pd.DataFrame(index=shareclasses, \n",
    "                    columns=[\"shareclass_total_net_asset_sf_curr\",\n",
    "                             \"indicators\",\n",
    "                             \"subfund_total_net_asset\"],\n",
    "                    dtype=object)\n",
    "\n",
    "NAVs[\"indicators\"] = NAVs[\"indicators\"].astype(object)\n",
    "for isin in shareclasses:\n",
    "    NAVs.loc[isin, \"shareclass_total_net_asset_sf_curr\"] = \\\n",
    "        bucket.get_shareclass_nav(isin=isin, info=\"shareclass_total_net_asset_sf_curr\")\n",
    "    NAVs.loc[isin, \"subfund_total_net_asset\"] = \\\n",
    "        bucket.get_shareclass_nav(isin=isin, info=\"subfund_total_net_asset\")\n",
    "    NAVs.at[isin, \"indicators\"] = \\\n",
    "        [bucket.get_subfund_infos(\"subfund_indicator\"),\n",
    "         bucket.get_shareclass_infos(isin=isin, info=\"shareclass\"),\n",
    "         bucket.get_shareclass_infos(isin=isin, info=\"shareclass_id\")\n",
    "                                   ]\n",
    "NAVs"
   ]
  },
  {
   "cell_type": "markdown",
   "metadata": {},
   "source": [
    "## Computation of the distributions matrices\n",
    "To compute the repartition keys, valuation weights and dedicated values for each instruments and shareclasses in a subfund, we proceed by computing a set of distributions matrices at the subfund level. This approache allows us to perform more checks and assert the coherence of our calculations at the subfund level. "
   ]
  },
  {
   "cell_type": "markdown",
   "metadata": {},
   "source": [
    "###  Indicator matrice (BETAS)\n",
    "The first distribution matrice we will use is the BETAS, it is a binary matrice built by doing the cartesian product of the shareclasses with the instruments.\n",
    "\n",
    "Each $\\beta_{i,j} = BETAS(i,j)$ is defined as follows:\n",
    "$$\n",
    "\\beta_{i,j} = \\left\\{\n",
    "    \\begin{array}\\\\\n",
    "        1 & \\mbox{if } \\ \\text{instrument i is distributed to shareclass j}\\\\\n",
    "        0 & \\mbox{if } \\ \\text{not} \\\\\n",
    "    \\end{array}\n",
    "\\right.\n",
    "$$\n",
    "\n",
    "We then append a column \"fund\" to the matrix BETAS which is the product of all column for each row."
   ]
  },
  {
   "cell_type": "code",
   "execution_count": 7,
   "metadata": {},
   "outputs": [
    {
     "data": {
      "text/html": [
       "<div>\n",
       "<style scoped>\n",
       "    .dataframe tbody tr th:only-of-type {\n",
       "        vertical-align: middle;\n",
       "    }\n",
       "\n",
       "    .dataframe tbody tr th {\n",
       "        vertical-align: top;\n",
       "    }\n",
       "\n",
       "    .dataframe thead th {\n",
       "        text-align: right;\n",
       "    }\n",
       "</style>\n",
       "<table border=\"1\" class=\"dataframe\">\n",
       "  <thead>\n",
       "    <tr style=\"text-align: right;\">\n",
       "      <th></th>\n",
       "      <th>LU1689732334</th>\n",
       "      <th>LU1808854985</th>\n",
       "      <th>LU1689732417</th>\n",
       "      <th>LU1689732508</th>\n",
       "      <th>fund</th>\n",
       "    </tr>\n",
       "    <tr>\n",
       "      <th>14_Identification code of the financial instrument</th>\n",
       "      <th></th>\n",
       "      <th></th>\n",
       "      <th></th>\n",
       "      <th></th>\n",
       "      <th></th>\n",
       "    </tr>\n",
       "  </thead>\n",
       "  <tbody>\n",
       "    <tr>\n",
       "      <th>144120_1</th>\n",
       "      <td>1</td>\n",
       "      <td>1</td>\n",
       "      <td>1</td>\n",
       "      <td>1</td>\n",
       "      <td>1</td>\n",
       "    </tr>\n",
       "    <tr>\n",
       "      <th>151301_1</th>\n",
       "      <td>1</td>\n",
       "      <td>1</td>\n",
       "      <td>1</td>\n",
       "      <td>1</td>\n",
       "      <td>1</td>\n",
       "    </tr>\n",
       "    <tr>\n",
       "      <th>152001_1</th>\n",
       "      <td>1</td>\n",
       "      <td>1</td>\n",
       "      <td>1</td>\n",
       "      <td>1</td>\n",
       "      <td>1</td>\n",
       "    </tr>\n",
       "    <tr>\n",
       "      <th>263076_1</th>\n",
       "      <td>0</td>\n",
       "      <td>0</td>\n",
       "      <td>0</td>\n",
       "      <td>1</td>\n",
       "      <td>0</td>\n",
       "    </tr>\n",
       "    <tr>\n",
       "      <th>264287_1</th>\n",
       "      <td>0</td>\n",
       "      <td>0</td>\n",
       "      <td>1</td>\n",
       "      <td>0</td>\n",
       "      <td>0</td>\n",
       "    </tr>\n",
       "  </tbody>\n",
       "</table>\n",
       "</div>"
      ],
      "text/plain": [
       "                                                    LU1689732334  \\\n",
       "14_Identification code of the financial instrument                 \n",
       "144120_1                                                       1   \n",
       "151301_1                                                       1   \n",
       "152001_1                                                       1   \n",
       "263076_1                                                       0   \n",
       "264287_1                                                       0   \n",
       "\n",
       "                                                    LU1808854985  \\\n",
       "14_Identification code of the financial instrument                 \n",
       "144120_1                                                       1   \n",
       "151301_1                                                       1   \n",
       "152001_1                                                       1   \n",
       "263076_1                                                       0   \n",
       "264287_1                                                       0   \n",
       "\n",
       "                                                    LU1689732417  \\\n",
       "14_Identification code of the financial instrument                 \n",
       "144120_1                                                       1   \n",
       "151301_1                                                       1   \n",
       "152001_1                                                       1   \n",
       "263076_1                                                       0   \n",
       "264287_1                                                       1   \n",
       "\n",
       "                                                    LU1689732508  fund  \n",
       "14_Identification code of the financial instrument                      \n",
       "144120_1                                                       1     1  \n",
       "151301_1                                                       1     1  \n",
       "152001_1                                                       1     1  \n",
       "263076_1                                                       1     0  \n",
       "264287_1                                                       0     0  "
      ]
     },
     "execution_count": 7,
     "metadata": {},
     "output_type": "execute_result"
    }
   ],
   "source": [
    "BETAS = pd.DataFrame(1, index=instruments.index, columns=NAVs.index)\n",
    "for isin in shareclasses:\n",
    "    BETAS[isin].where(\n",
    "        instruments[\"hedge_indicator\"].isin(NAVs.loc[isin, \"indicators\"]),\n",
    "        0,\n",
    "        inplace=True)\n",
    "BETAS.sort_index(inplace=True)\n",
    "BETAS[\"fund\"] = 1\n",
    "for isin in shareclasses:\n",
    "    BETAS[\"fund\"] = BETAS[\"fund\"] * BETAS[isin]\n",
    "\n",
    "BETAS.head()"
   ]
  },
  {
   "cell_type": "markdown",
   "metadata": {},
   "source": [
    "### Shareclasses Key matrice (SK)\n",
    "The second distribution matrice we will use is the Shareclasses Key, it is built in the same way as the BETAS matrix (excluding the added colun \"fund\"). Where each SK(i,j) is defined as follow:\n",
    "$$\n",
    "SK(i,j) = \\left\\{\n",
    "    \\begin{array}\\\\\n",
    "        \\text{NAV of shareclass j} & \\mbox{if } \\ \\beta_{i,j} = 1 \\\\\n",
    "        0 & \\mbox{if } \\ \\beta_{i,j} = 0 \\\\\n",
    "    \\end{array}\n",
    "\\right.\n",
    "$$\n",
    "the NAV of the shareclass j if instrument j is distributed to j. "
   ]
  },
  {
   "cell_type": "code",
   "execution_count": 16,
   "metadata": {},
   "outputs": [
    {
     "data": {
      "text/html": [
       "<div>\n",
       "<style scoped>\n",
       "    .dataframe tbody tr th:only-of-type {\n",
       "        vertical-align: middle;\n",
       "    }\n",
       "\n",
       "    .dataframe tbody tr th {\n",
       "        vertical-align: top;\n",
       "    }\n",
       "\n",
       "    .dataframe thead th {\n",
       "        text-align: right;\n",
       "    }\n",
       "</style>\n",
       "<table border=\"1\" class=\"dataframe\">\n",
       "  <thead>\n",
       "    <tr style=\"text-align: right;\">\n",
       "      <th></th>\n",
       "      <th>LU1689732334</th>\n",
       "      <th>LU1808854985</th>\n",
       "      <th>LU1689732417</th>\n",
       "      <th>LU1689732508</th>\n",
       "    </tr>\n",
       "    <tr>\n",
       "      <th>14_Identification code of the financial instrument</th>\n",
       "      <th></th>\n",
       "      <th></th>\n",
       "      <th></th>\n",
       "      <th></th>\n",
       "    </tr>\n",
       "  </thead>\n",
       "  <tbody>\n",
       "    <tr>\n",
       "      <th>144120_1</th>\n",
       "      <td>5172213.97</td>\n",
       "      <td>58463287.88</td>\n",
       "      <td>11791377.12</td>\n",
       "      <td>28357.14</td>\n",
       "    </tr>\n",
       "    <tr>\n",
       "      <th>151301_1</th>\n",
       "      <td>5172213.97</td>\n",
       "      <td>58463287.88</td>\n",
       "      <td>11791377.12</td>\n",
       "      <td>28357.14</td>\n",
       "    </tr>\n",
       "    <tr>\n",
       "      <th>152001_1</th>\n",
       "      <td>5172213.97</td>\n",
       "      <td>58463287.88</td>\n",
       "      <td>11791377.12</td>\n",
       "      <td>28357.14</td>\n",
       "    </tr>\n",
       "    <tr>\n",
       "      <th>263076_1</th>\n",
       "      <td>0.00</td>\n",
       "      <td>0.00</td>\n",
       "      <td>0.00</td>\n",
       "      <td>28357.14</td>\n",
       "    </tr>\n",
       "    <tr>\n",
       "      <th>264287_1</th>\n",
       "      <td>0.00</td>\n",
       "      <td>0.00</td>\n",
       "      <td>11791377.12</td>\n",
       "      <td>0.00</td>\n",
       "    </tr>\n",
       "  </tbody>\n",
       "</table>\n",
       "</div>"
      ],
      "text/plain": [
       "                                                    LU1689732334  \\\n",
       "14_Identification code of the financial instrument                 \n",
       "144120_1                                              5172213.97   \n",
       "151301_1                                              5172213.97   \n",
       "152001_1                                              5172213.97   \n",
       "263076_1                                                    0.00   \n",
       "264287_1                                                    0.00   \n",
       "\n",
       "                                                    LU1808854985  \\\n",
       "14_Identification code of the financial instrument                 \n",
       "144120_1                                             58463287.88   \n",
       "151301_1                                             58463287.88   \n",
       "152001_1                                             58463287.88   \n",
       "263076_1                                                    0.00   \n",
       "264287_1                                                    0.00   \n",
       "\n",
       "                                                    LU1689732417  LU1689732508  \n",
       "14_Identification code of the financial instrument                              \n",
       "144120_1                                             11791377.12      28357.14  \n",
       "151301_1                                             11791377.12      28357.14  \n",
       "152001_1                                             11791377.12      28357.14  \n",
       "263076_1                                                    0.00      28357.14  \n",
       "264287_1                                             11791377.12          0.00  "
      ]
     },
     "execution_count": 16,
     "metadata": {},
     "output_type": "execute_result"
    }
   ],
   "source": [
    "SK = pd.DataFrame(0, index=instruments.index, columns=NAVs.index)\n",
    "for isin in shareclasses:\n",
    "    SK[isin].where(\n",
    "        ~(instruments[\"hedge_indicator\"].isin(NAVs.loc[isin, \"indicators\"])),\n",
    "        NAVs.loc[isin, \"shareclass_total_net_asset_sf_curr\"].astype('float64'),\n",
    "        inplace=True)\n",
    "SK.sort_index(inplace=True)\n",
    "SK.head()"
   ]
  },
  {
   "cell_type": "markdown",
   "metadata": {},
   "source": [
    "### Dedicated values matrice (D)\n",
    "The third matrice we will use is the dedicated value matrice, where each $d_{i,j}$ is defined as the value of instrument i associated to the shareclass j.\n",
    "\n",
    "In the general case, the value of instrument i is distributed over each shareclass it is associated with proportionately to the respective NAV of the shareclasses.\n",
    "\n",
    "The general definition of $d_{i,j}$ is as follow:\n",
    "$$\n",
    "d_{i,j} = I_i \\cdot \\frac{\\beta{i,j} S_j}{\\sum_{k=0}^{m} \\beta_{i,k} S_k}\n",
    "$$\n",
    "\n",
    "#### Repartition keys matrice (ALPHAS)\n",
    "\n",
    "We can then define the repartition key $\\alpha_{i,j}$ of each instrument i to each shareclass j such that:\n",
    "\n",
    "$$\n",
    "d_{i,j} = \\alpha_{i,j} \\cdot I_i\n",
    "$$\n",
    "\n",
    "which gives:\n",
    "\n",
    "$$\n",
    "\\alpha_{i,j} = \\frac{\\beta{i,j} S_j}{\\sum_{k=0}^{m} \\beta_{i,k} S_k}\n",
    "$$"
   ]
  },
  {
   "cell_type": "code",
   "execution_count": 9,
   "metadata": {},
   "outputs": [
    {
     "data": {
      "text/html": [
       "<div>\n",
       "<style scoped>\n",
       "    .dataframe tbody tr th:only-of-type {\n",
       "        vertical-align: middle;\n",
       "    }\n",
       "\n",
       "    .dataframe tbody tr th {\n",
       "        vertical-align: top;\n",
       "    }\n",
       "\n",
       "    .dataframe thead th {\n",
       "        text-align: right;\n",
       "    }\n",
       "</style>\n",
       "<table border=\"1\" class=\"dataframe\">\n",
       "  <thead>\n",
       "    <tr style=\"text-align: right;\">\n",
       "      <th></th>\n",
       "      <th>LU1689732334</th>\n",
       "      <th>LU1808854985</th>\n",
       "      <th>LU1689732417</th>\n",
       "      <th>LU1689732508</th>\n",
       "    </tr>\n",
       "    <tr>\n",
       "      <th>14_Identification code of the financial instrument</th>\n",
       "      <th></th>\n",
       "      <th></th>\n",
       "      <th></th>\n",
       "      <th></th>\n",
       "    </tr>\n",
       "  </thead>\n",
       "  <tbody>\n",
       "    <tr>\n",
       "      <th>144120_1</th>\n",
       "      <td>0.068547</td>\n",
       "      <td>0.774808</td>\n",
       "      <td>0.15627</td>\n",
       "      <td>0.000376</td>\n",
       "    </tr>\n",
       "    <tr>\n",
       "      <th>151301_1</th>\n",
       "      <td>0.068547</td>\n",
       "      <td>0.774808</td>\n",
       "      <td>0.15627</td>\n",
       "      <td>0.000376</td>\n",
       "    </tr>\n",
       "    <tr>\n",
       "      <th>152001_1</th>\n",
       "      <td>0.068547</td>\n",
       "      <td>0.774808</td>\n",
       "      <td>0.15627</td>\n",
       "      <td>0.000376</td>\n",
       "    </tr>\n",
       "    <tr>\n",
       "      <th>263076_1</th>\n",
       "      <td>0.000000</td>\n",
       "      <td>0.000000</td>\n",
       "      <td>0.00000</td>\n",
       "      <td>1.000000</td>\n",
       "    </tr>\n",
       "    <tr>\n",
       "      <th>264287_1</th>\n",
       "      <td>0.000000</td>\n",
       "      <td>0.000000</td>\n",
       "      <td>1.00000</td>\n",
       "      <td>0.000000</td>\n",
       "    </tr>\n",
       "  </tbody>\n",
       "</table>\n",
       "</div>"
      ],
      "text/plain": [
       "                                                    LU1689732334  \\\n",
       "14_Identification code of the financial instrument                 \n",
       "144120_1                                                0.068547   \n",
       "151301_1                                                0.068547   \n",
       "152001_1                                                0.068547   \n",
       "263076_1                                                0.000000   \n",
       "264287_1                                                0.000000   \n",
       "\n",
       "                                                    LU1808854985  \\\n",
       "14_Identification code of the financial instrument                 \n",
       "144120_1                                                0.774808   \n",
       "151301_1                                                0.774808   \n",
       "152001_1                                                0.774808   \n",
       "263076_1                                                0.000000   \n",
       "264287_1                                                0.000000   \n",
       "\n",
       "                                                    LU1689732417  LU1689732508  \n",
       "14_Identification code of the financial instrument                              \n",
       "144120_1                                                 0.15627      0.000376  \n",
       "151301_1                                                 0.15627      0.000376  \n",
       "152001_1                                                 0.15627      0.000376  \n",
       "263076_1                                                 0.00000      1.000000  \n",
       "264287_1                                                 1.00000      0.000000  "
      ]
     },
     "execution_count": 9,
     "metadata": {},
     "output_type": "execute_result"
    }
   ],
   "source": [
    "ALPHAS = pd.DataFrame(0, index=instruments.index, columns=NAVs.index)\n",
    "for isin in shareclasses:\n",
    "    ALPHAS[isin] = SK[isin] * 1 / SK.sum(axis=1)\n",
    "ALPHAS.sort_index(inplace=True)\n",
    "ALPHAS.head()"
   ]
  },
  {
   "cell_type": "markdown",
   "metadata": {},
   "source": [
    "#### Computing D (first version)\n",
    "Once we have the ALPHAS matrix we should be able to compute the value $d_{i,j}$ of each instrument i dedicated to each shareclass j by multiplying each instrument value $I_i$ by $\\alpha_{i,j}$."
   ]
  },
  {
   "cell_type": "code",
   "execution_count": 10,
   "metadata": {},
   "outputs": [
    {
     "data": {
      "text/html": [
       "<div>\n",
       "<style scoped>\n",
       "    .dataframe tbody tr th:only-of-type {\n",
       "        vertical-align: middle;\n",
       "    }\n",
       "\n",
       "    .dataframe tbody tr th {\n",
       "        vertical-align: top;\n",
       "    }\n",
       "\n",
       "    .dataframe thead th {\n",
       "        text-align: right;\n",
       "    }\n",
       "</style>\n",
       "<table border=\"1\" class=\"dataframe\">\n",
       "  <thead>\n",
       "    <tr style=\"text-align: right;\">\n",
       "      <th></th>\n",
       "      <th>LU1689732334</th>\n",
       "      <th>LU1808854985</th>\n",
       "      <th>LU1689732417</th>\n",
       "      <th>LU1689732508</th>\n",
       "    </tr>\n",
       "    <tr>\n",
       "      <th>14_Identification code of the financial instrument</th>\n",
       "      <th></th>\n",
       "      <th></th>\n",
       "      <th></th>\n",
       "      <th></th>\n",
       "    </tr>\n",
       "  </thead>\n",
       "  <tbody>\n",
       "    <tr>\n",
       "      <th>144120_1</th>\n",
       "      <td>88797.005838</td>\n",
       "      <td>1.003703e+06</td>\n",
       "      <td>202435.357282</td>\n",
       "      <td>486.837772</td>\n",
       "    </tr>\n",
       "    <tr>\n",
       "      <th>151301_1</th>\n",
       "      <td>83.541396</td>\n",
       "      <td>9.442967e+02</td>\n",
       "      <td>190.453859</td>\n",
       "      <td>0.458023</td>\n",
       "    </tr>\n",
       "    <tr>\n",
       "      <th>152001_1</th>\n",
       "      <td>-0.345476</td>\n",
       "      <td>-3.905030e+00</td>\n",
       "      <td>-0.787600</td>\n",
       "      <td>-0.001894</td>\n",
       "    </tr>\n",
       "    <tr>\n",
       "      <th>263076_1</th>\n",
       "      <td>0.000000</td>\n",
       "      <td>0.000000e+00</td>\n",
       "      <td>0.000000</td>\n",
       "      <td>-6.100000</td>\n",
       "    </tr>\n",
       "    <tr>\n",
       "      <th>264287_1</th>\n",
       "      <td>0.000000</td>\n",
       "      <td>0.000000e+00</td>\n",
       "      <td>-11509.910000</td>\n",
       "      <td>0.000000</td>\n",
       "    </tr>\n",
       "  </tbody>\n",
       "</table>\n",
       "</div>"
      ],
      "text/plain": [
       "                                                    LU1689732334  \\\n",
       "14_Identification code of the financial instrument                 \n",
       "144120_1                                            88797.005838   \n",
       "151301_1                                               83.541396   \n",
       "152001_1                                               -0.345476   \n",
       "263076_1                                                0.000000   \n",
       "264287_1                                                0.000000   \n",
       "\n",
       "                                                    LU1808854985  \\\n",
       "14_Identification code of the financial instrument                 \n",
       "144120_1                                            1.003703e+06   \n",
       "151301_1                                            9.442967e+02   \n",
       "152001_1                                           -3.905030e+00   \n",
       "263076_1                                            0.000000e+00   \n",
       "264287_1                                            0.000000e+00   \n",
       "\n",
       "                                                     LU1689732417  \\\n",
       "14_Identification code of the financial instrument                  \n",
       "144120_1                                            202435.357282   \n",
       "151301_1                                               190.453859   \n",
       "152001_1                                                -0.787600   \n",
       "263076_1                                                 0.000000   \n",
       "264287_1                                            -11509.910000   \n",
       "\n",
       "                                                    LU1689732508  \n",
       "14_Identification code of the financial instrument                \n",
       "144120_1                                              486.837772  \n",
       "151301_1                                                0.458023  \n",
       "152001_1                                               -0.001894  \n",
       "263076_1                                               -6.100000  \n",
       "264287_1                                                0.000000  "
      ]
     },
     "execution_count": 10,
     "metadata": {},
     "output_type": "execute_result"
    }
   ],
   "source": [
    "D = pd.DataFrame(0, index=instruments.index, columns=NAVs.index)\n",
    "for isin in shareclasses:\n",
    "    D[isin].where(\n",
    "        ~(instruments[\"hedge_indicator\"].isin(NAVs.loc[isin, \"indicators\"])),\n",
    "        instruments[\"market_and_accrued_fund\"]*ALPHAS[isin],\n",
    "        inplace=True)\n",
    "D.sort_index(inplace=True)\n",
    "D.head()"
   ]
  },
  {
   "cell_type": "markdown",
   "metadata": {},
   "source": [
    "#### Checking the results\n",
    "To check the results, we simply have to sum the dedicated values $d_{i,j}$ for each shareclass j and we should find the NAV of each shareclass."
   ]
  },
  {
   "cell_type": "code",
   "execution_count": 11,
   "metadata": {
    "scrolled": true
   },
   "outputs": [
    {
     "name": "stdout",
     "output_type": "stream",
     "text": [
      "NAV LU1689732334 : 5172213.97\n",
      "computed NAV:  5141768.623299215 \n",
      "\n",
      "NAV LU1808854985 : 58463287.88\n",
      "computed NAV:  58570333.86054888 \n",
      "\n",
      "NAV LU1689732417 : 11791377.12\n",
      "computed NAV:  11714960.194620077 \n",
      "\n",
      "NAV LU1689732508 : 28357.14\n",
      "computed NAV:  28173.43153181541 \n",
      "\n"
     ]
    }
   ],
   "source": [
    "for isin in shareclasses:\n",
    "    print(f\"NAV {isin} :\", NAVs.loc[isin, \"shareclass_total_net_asset_sf_curr\"])\n",
    "    print(\"computed NAV: \", D[isin].sum(), \"\\n\")"
   ]
  },
  {
   "cell_type": "markdown",
   "metadata": {},
   "source": [
    "### Erroneous values\n",
    "As we can see, the computed NAVs does not match the NAVs given by the clients. This means that we are doing something wrong."
   ]
  },
  {
   "cell_type": "markdown",
   "metadata": {},
   "source": [
    "##  Investigation\n",
    "Let's investigate our datas to find where is our errors."
   ]
  },
  {
   "cell_type": "markdown",
   "metadata": {},
   "source": [
    "#### Check that we have all the instruments\n",
    "First, we begin by checking that the values of all instruments and the NAVs of all shareclasses both sum to the total NAV of the subfund."
   ]
  },
  {
   "cell_type": "code",
   "execution_count": 12,
   "metadata": {},
   "outputs": [
    {
     "name": "stdout",
     "output_type": "stream",
     "text": [
      "total NAV of the subfund:  75455236.11\n",
      "sum of shareclasses' NAV:  75455236.11\n",
      "sum of instruments values:  75455236.11\n"
     ]
    }
   ],
   "source": [
    "print(\"total NAV of the subfund: \", NAVs[\"subfund_total_net_asset\"].iloc[0])\n",
    "print(\"sum of shareclasses' NAV: \", NAVs[\"shareclass_total_net_asset_sf_curr\"].sum())\n",
    "print(\"sum of instruments values: \", instruments[\"market_and_accrued_fund\"].sum())"
   ]
  },
  {
   "cell_type": "markdown",
   "metadata": {},
   "source": [
    "As we can see, there is no mismatch in the datas we are given, this means that the errors comes from our computations."
   ]
  },
  {
   "cell_type": "markdown",
   "metadata": {},
   "source": [
    "#### Check for value loss\n",
    "\n",
    "Now let's check that we are not ommitting any amount and that we do not lose (or create) any money along the way. In order to do that we will check that the sum of distributed values for each instrument sum to 100% of the instrument value."
   ]
  },
  {
   "cell_type": "code",
   "execution_count": 17,
   "metadata": {},
   "outputs": [
    {
     "name": "stdout",
     "output_type": "stream",
     "text": [
      "14_Identification code of the financial instrument\n",
      "144120_1    1.0\n",
      "151301_1    1.0\n",
      "152001_1    1.0\n",
      "263076_1    1.0\n",
      "264287_1    1.0\n",
      "dtype: float64\n",
      "erroneous instruments:  Series([], dtype: float64)\n"
     ]
    }
   ],
   "source": [
    "percentage = D.sum(axis=1) / instruments[\"market_and_accrued_fund\"]\n",
    "print(percentage.head())\n",
    "print(\"erroneous instruments: \", percentage.loc[percentage.round(5)!=1])"
   ]
  },
  {
   "cell_type": "markdown",
   "metadata": {},
   "source": [
    "All distributions indeed sum to 100% meaning that we do not lose any value during the distribution. Rather, this means that we do not correctly distribute our instruments over the shareclasses."
   ]
  },
  {
   "cell_type": "markdown",
   "metadata": {},
   "source": [
    "#### Computing D (correct version)\n",
    "In fact the discrepencies between ou computed NAVs and the NAVs provided by the client comes from our definition of our $d_{i,j}$ values. We have to split our instruments into two categories. the instruments which are at the subfund's level and must be distributed over all shareclasses of the subfund, and the instruments which are dedicated to a strict sub-set of shareclasses in the subfund.\n",
    "\n",
    "let's denote :\n",
    "- $\\mathcal{I}_s$ the set of instruments dedicated to the whole subfund\n",
    "- $\\mathcal{I}_d$ the set of instruments dedicated to a strict subset of shareclasses\n",
    "\n",
    "For $I_i \\in \\mathcal{I}_d$ we keep the same definition of $d_{i,j}$:\n",
    "\n",
    "$$\n",
    "d_{i,j} = I_i \\cdot \\frac{\\beta{i,j} S_j}{\\sum_{k=0}^{m} \\beta_{i,k} S_k}\n",
    "$$\n",
    "\n",
    "However for $I_i \\in \\mathcal{I}_s$ we exclude the values of all instruments $I_k \\in \\mathcal{I}_d$ which leads to:\n",
    "\n",
    "$$\n",
    "d_{i,j} = I_i \\cdot \\frac{S_j - (\\beta_{i,j} \\cdot \\sum_{k | I_k \\in \\mathcal{I}_d} d_{k,j})}\n",
    "                         {\\sum_{k | I_k \\in \\mathcal{I}_s} S_k - \\sum_{k | I_k \\in \\mathcal{I}_d} I_k} \n",
    "$$"
   ]
  },
  {
   "cell_type": "code",
   "execution_count": 18,
   "metadata": {},
   "outputs": [
    {
     "data": {
      "text/html": [
       "<div>\n",
       "<style scoped>\n",
       "    .dataframe tbody tr th:only-of-type {\n",
       "        vertical-align: middle;\n",
       "    }\n",
       "\n",
       "    .dataframe tbody tr th {\n",
       "        vertical-align: top;\n",
       "    }\n",
       "\n",
       "    .dataframe thead th {\n",
       "        text-align: right;\n",
       "    }\n",
       "</style>\n",
       "<table border=\"1\" class=\"dataframe\">\n",
       "  <thead>\n",
       "    <tr style=\"text-align: right;\">\n",
       "      <th></th>\n",
       "      <th>LU1689732334</th>\n",
       "      <th>LU1808854985</th>\n",
       "      <th>LU1689732417</th>\n",
       "      <th>LU1689732508</th>\n",
       "    </tr>\n",
       "    <tr>\n",
       "      <th>14_Identification code of the financial instrument</th>\n",
       "      <th></th>\n",
       "      <th></th>\n",
       "      <th></th>\n",
       "      <th></th>\n",
       "    </tr>\n",
       "  </thead>\n",
       "  <tbody>\n",
       "    <tr>\n",
       "      <th>144120_1</th>\n",
       "      <td>89322.403235</td>\n",
       "      <td>1.001855e+06</td>\n",
       "      <td>203754.089308</td>\n",
       "      <td>490.008042</td>\n",
       "    </tr>\n",
       "    <tr>\n",
       "      <th>151301_1</th>\n",
       "      <td>84.035697</td>\n",
       "      <td>9.425588e+02</td>\n",
       "      <td>191.694539</td>\n",
       "      <td>0.461006</td>\n",
       "    </tr>\n",
       "    <tr>\n",
       "      <th>152001_1</th>\n",
       "      <td>-0.347520</td>\n",
       "      <td>-3.897843e+00</td>\n",
       "      <td>-0.792731</td>\n",
       "      <td>-0.001906</td>\n",
       "    </tr>\n",
       "    <tr>\n",
       "      <th>263076_1</th>\n",
       "      <td>-0.000000</td>\n",
       "      <td>-0.000000e+00</td>\n",
       "      <td>-0.000000</td>\n",
       "      <td>-6.100000</td>\n",
       "    </tr>\n",
       "    <tr>\n",
       "      <th>264287_1</th>\n",
       "      <td>-0.000000</td>\n",
       "      <td>-0.000000e+00</td>\n",
       "      <td>-11509.910000</td>\n",
       "      <td>-0.000000</td>\n",
       "    </tr>\n",
       "  </tbody>\n",
       "</table>\n",
       "</div>"
      ],
      "text/plain": [
       "                                                    LU1689732334  \\\n",
       "14_Identification code of the financial instrument                 \n",
       "144120_1                                            89322.403235   \n",
       "151301_1                                               84.035697   \n",
       "152001_1                                               -0.347520   \n",
       "263076_1                                               -0.000000   \n",
       "264287_1                                               -0.000000   \n",
       "\n",
       "                                                    LU1808854985  \\\n",
       "14_Identification code of the financial instrument                 \n",
       "144120_1                                            1.001855e+06   \n",
       "151301_1                                            9.425588e+02   \n",
       "152001_1                                           -3.897843e+00   \n",
       "263076_1                                           -0.000000e+00   \n",
       "264287_1                                           -0.000000e+00   \n",
       "\n",
       "                                                     LU1689732417  \\\n",
       "14_Identification code of the financial instrument                  \n",
       "144120_1                                            203754.089308   \n",
       "151301_1                                               191.694539   \n",
       "152001_1                                                -0.792731   \n",
       "263076_1                                                -0.000000   \n",
       "264287_1                                            -11509.910000   \n",
       "\n",
       "                                                    LU1689732508  \n",
       "14_Identification code of the financial instrument                \n",
       "144120_1                                              490.008042  \n",
       "151301_1                                                0.461006  \n",
       "152001_1                                               -0.001906  \n",
       "263076_1                                               -6.100000  \n",
       "264287_1                                               -0.000000  "
      ]
     },
     "execution_count": 18,
     "metadata": {},
     "output_type": "execute_result"
    }
   ],
   "source": [
    "D = pd.DataFrame(0, index=instruments.index, columns=NAVs.index)\n",
    "for isin in shareclasses:\n",
    "    D.loc[BETAS[\"fund\"]==0, isin] = \\\n",
    "        instruments.loc[BETAS[\"fund\"]==0, \"market_and_accrued_fund\"] \\\n",
    "        * SK.loc[BETAS[\"fund\"]==0, isin] / SK.loc[BETAS[\"fund\"]==0].sum(axis=1)\n",
    "\n",
    "for isin in shareclasses:\n",
    "    D.loc[BETAS[\"fund\"]==1, isin] = \\\n",
    "        instruments.loc[BETAS[\"fund\"]==1, \"market_and_accrued_fund\"] \\\n",
    "        * (SK.loc[BETAS[\"fund\"]==1, isin] \\\n",
    "           - D.loc[((BETAS[isin]==1) & (BETAS[\"fund\"]==0)), isin].sum()) \\\n",
    "        / (SK.loc[BETAS[\"fund\"]==1].sum(axis=1) \\\n",
    "           - instruments.loc[BETAS[\"fund\"]==0, \"market_and_accrued_fund\"].sum())\n",
    "\n",
    "D.sort_index(inplace=True)\n",
    "D.head()"
   ]
  },
  {
   "cell_type": "markdown",
   "metadata": {},
   "source": [
    "#### Checking the results\n",
    "To check the results, we simply have to sum the dedicated values $d_{i,j}$ for each shareclass j and we should find the NAV of each shareclass."
   ]
  },
  {
   "cell_type": "code",
   "execution_count": 15,
   "metadata": {
    "scrolled": true
   },
   "outputs": [
    {
     "name": "stdout",
     "output_type": "stream",
     "text": [
      "NAV LU1689732334 : 5172213.97\n",
      "computed NAV:  5172213.969999999 \n",
      "\n",
      "NAV LU1808854985 : 58463287.88\n",
      "computed NAV:  58463287.879999995 \n",
      "\n",
      "NAV LU1689732417 : 11791377.12\n",
      "computed NAV:  11791377.119999997 \n",
      "\n",
      "NAV LU1689732508 : 28357.14\n",
      "computed NAV:  28357.139999999996 \n",
      "\n"
     ]
    }
   ],
   "source": [
    "for isin in shareclasses:\n",
    "    print(f\"NAV {isin} :\", NAVs.loc[isin, \"shareclass_total_net_asset_sf_curr\"])\n",
    "    print(\"computed NAV: \", D[isin].sum(), \"\\n\")"
   ]
  },
  {
   "cell_type": "markdown",
   "metadata": {},
   "source": [
    "As we can see, we are able to retrieve the NAVs of each shareclass by summing the distributed values of all instruments."
   ]
  }
 ],
 "metadata": {
  "kernelspec": {
   "display_name": "Python 3",
   "language": "python",
   "name": "python3"
  },
  "language_info": {
   "codemirror_mode": {
    "name": "ipython",
    "version": 3
   },
   "file_extension": ".py",
   "mimetype": "text/x-python",
   "name": "python",
   "nbconvert_exporter": "python",
   "pygments_lexer": "ipython3",
   "version": "3.8.5"
  }
 },
 "nbformat": 4,
 "nbformat_minor": 4
}
