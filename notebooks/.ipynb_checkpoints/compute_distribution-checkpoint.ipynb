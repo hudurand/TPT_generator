{
 "cells": [
  {
   "cell_type": "markdown",
   "metadata": {},
   "source": [
    "# Computation of repartition keys, valuation weights and dedicated values"
   ]
  },
  {
   "cell_type": "markdown",
   "metadata": {},
   "source": [
    "### Necessary imports"
   ]
  },
  {
   "cell_type": "code",
   "execution_count": 1,
   "metadata": {},
   "outputs": [],
   "source": [
    "import sys\n",
    "import os\n",
    "sys.path.append(os.path.abspath('..'))\n",
    "\n",
    "import pandas as pd\n",
    "import numpy as np\n",
    "from pathlib import Path\n",
    "from TPT_generator_python import DataBucket, TPTFetcher"
   ]
  },
  {
   "cell_type": "markdown",
   "metadata": {},
   "source": [
    "### Variables definition"
   ]
  },
  {
   "cell_type": "code",
   "execution_count": 2,
   "metadata": {},
   "outputs": [],
   "source": [
    "DATE = pd.to_datetime(\"2020-12-31\").date()\n",
    "CLIENT = \"Pictet\"\n",
    "ISIN = \"LU1787059465\"\n",
    "SOURCE_DIR = Path(\"../data\")"
   ]
  },
  {
   "cell_type": "code",
   "execution_count": 3,
   "metadata": {},
   "outputs": [
    {
     "data": {
      "text/plain": [
       "0     1\n",
       "10    5\n",
       "11    6\n",
       "12    7\n",
       "Name: group_id, dtype: int64"
      ]
     },
     "execution_count": 3,
     "metadata": {},
     "output_type": "execute_result"
    }
   ],
   "source": [
    "#fetcher = TPT_Fetcher(DATE, CLIENT, ISIN, SOURCE_DIR)\n",
    "bucket = DataBucket(DATE, CLIENT, ISIN, SOURCE_DIR)\n",
    "groups = bucket.get_groups()\n",
    "groups"
   ]
  },
  {
   "cell_type": "code",
   "execution_count": 23,
   "metadata": {},
   "outputs": [
    {
     "data": {
      "text/plain": [
       "93072487.53"
      ]
     },
     "execution_count": 23,
     "metadata": {},
     "output_type": "execute_result"
    }
   ],
   "source": [
    "fetcher = TPTFetcher(DATE, CLIENT, ISIN, SOURCE_DIR)\n",
    "shareclass_infos = fetcher.fetch_shareclass_infos(ISIN)\n",
    "shareclass_infos\n",
    "id_subfund = shareclass_infos[\"id_subfund\"].iloc[0]\n",
    "id_subfund\n",
    "isins = fetcher.fetch_subfund_shareclasses(id_subfund)\n",
    "shareclasses_infos = fetcher.fetch_shareclass_infos(isins)\n",
    "shareclasses_infos\n",
    "id_list = shareclasses_infos[\"id\"].tolist()\n",
    "id_list\n",
    "group_map = fetcher.fetch_group_map(id_list)\n",
    "group_map.loc[group_map[\"shareclass_id\"]==shareclass_infos[\"id\"].iloc[0]]\n",
    "isins\n",
    "inst = fetcher.fetch_instruments(id_subfund, DATE)\n",
    "inst[\"market_value_fund\"].sum()"
   ]
  },
  {
   "cell_type": "markdown",
   "metadata": {},
   "source": [
    "### Acquiring datas from database\n",
    "#### Instruments infos\n",
    "Using a Data_Bucket object which abstract database accesses through the fetcher object (see documentation), we get all necessary data from the database and store them in a dataframe.\n",
    "\n",
    "We get the list of instruments in the subfund's portfolio, their market values and the dedication indicator which define the group of shareclasses, the instrument must be distributed to."
   ]
  },
  {
   "cell_type": "code",
   "execution_count": 22,
   "metadata": {},
   "outputs": [
    {
     "data": {
      "text/plain": [
       "93072487.53000002"
      ]
     },
     "execution_count": 22,
     "metadata": {},
     "output_type": "execute_result"
    }
   ],
   "source": [
    "instruments = bucket.get_instruments_by_index(idx=slice(None), info=[\"id_group\", \"market_value_fund\"])\n",
    "instruments = instruments.sort_index()\n",
    "instruments[\"market_value_fund\"].sum()"
   ]
  },
  {
   "cell_type": "markdown",
   "metadata": {},
   "source": [
    "#### Shareclasses infos\n",
    "Here we get the list of shareclasses in the subfund, then acquire their NAV and list of groups they're included into."
   ]
  },
  {
   "cell_type": "code",
   "execution_count": 6,
   "metadata": {},
   "outputs": [
    {
     "name": "stdout",
     "output_type": "stream",
     "text": [
      "['LU1787059465', 'LU1787059036', 'LU1787061107', 'LU1787061362', 'LU1787061529', 'LU1787060471']\n"
     ]
    }
   ],
   "source": [
    "shareclasses = bucket.get_subfund_shareclasses()\n",
    "print(shareclasses)"
   ]
  },
  {
   "cell_type": "code",
   "execution_count": 7,
   "metadata": {},
   "outputs": [
    {
     "data": {
      "text/plain": [
       "LU1787059465    [1, 5, 6, 7]\n",
       "LU1787059036       [2, 5, 9]\n",
       "LU1787061107      [3, 5, 10]\n",
       "LU1787061362             [5]\n",
       "LU1787061529      [4, 5, 11]\n",
       "LU1787060471       [4, 5, 8]\n",
       "Name: groups, dtype: object"
      ]
     },
     "execution_count": 7,
     "metadata": {},
     "output_type": "execute_result"
    }
   ],
   "source": [
    "NAVs = pd.DataFrame(index=shareclasses, \n",
    "                    columns=[\"shareclass_total_net_asset_sf_curr\",\n",
    "                             \"subfund_total_net_asset\",\n",
    "                             \"groups\"],\n",
    "                    dtype=object)\n",
    "\n",
    "NAVs[\"groups\"] = NAVs[\"groups\"].astype(object)\n",
    "for isin in shareclasses:\n",
    "    NAVs.loc[isin, \"shareclass_total_net_asset_sf_curr\"] = \\\n",
    "        bucket.get_shareclass_nav(isin=isin, info=\"shareclass_total_net_asset_sf_curr\")\n",
    "    NAVs.loc[isin, \"subfund_total_net_asset\"] = \\\n",
    "        bucket.get_shareclass_nav(isin=isin, info=\"subfund_total_net_asset\")\n",
    "    NAVs.at[isin, \"groups\"] = bucket.get_groups(isin).tolist()\n",
    "NAVs[\"groups\"]"
   ]
  },
  {
   "cell_type": "markdown",
   "metadata": {},
   "source": [
    "## Computation of the distributions matrices\n",
    "To compute the repartition keys, valuation weights and dedicated values for each instruments and shareclasses in a subfund, we proceed by computing a set of distributions matrices at the subfund level. This approache allows us to perform more checks and assert the coherence of our calculations at the subfund level. "
   ]
  },
  {
   "cell_type": "markdown",
   "metadata": {},
   "source": [
    "###  Indicator matrix (BETAS)\n",
    "The first distribution matrice we will use is the BETAS, it is a binary matrice built by doing the cartesian product of the shareclasses with the instruments.\n",
    "\n",
    "Each $\\beta_{i,j} = BETAS(i,j)$ is defined as follows:\n",
    "$$\n",
    "\\beta_{i,j} = \\left\\{\n",
    "    \\begin{array}\\\\\n",
    "        1 & \\mbox{if } \\ \\text{instrument i is distributed to shareclass j}\\\\\n",
    "        0 & \\mbox{if } \\ \\text{not} \\\\\n",
    "    \\end{array}\n",
    "\\right.\n",
    "$$\n",
    "\n",
    "We then append a column \"fund\" to the matrix BETAS which is the product of all column for each row."
   ]
  },
  {
   "cell_type": "code",
   "execution_count": 8,
   "metadata": {},
   "outputs": [
    {
     "data": {
      "text/html": [
       "<div>\n",
       "<style scoped>\n",
       "    .dataframe tbody tr th:only-of-type {\n",
       "        vertical-align: middle;\n",
       "    }\n",
       "\n",
       "    .dataframe tbody tr th {\n",
       "        vertical-align: top;\n",
       "    }\n",
       "\n",
       "    .dataframe thead th {\n",
       "        text-align: right;\n",
       "    }\n",
       "</style>\n",
       "<table border=\"1\" class=\"dataframe\">\n",
       "  <thead>\n",
       "    <tr style=\"text-align: right;\">\n",
       "      <th></th>\n",
       "      <th>LU1787059465</th>\n",
       "      <th>LU1787059036</th>\n",
       "      <th>LU1787061107</th>\n",
       "      <th>LU1787061362</th>\n",
       "      <th>LU1787061529</th>\n",
       "      <th>LU1787060471</th>\n",
       "      <th>fund</th>\n",
       "    </tr>\n",
       "    <tr>\n",
       "      <th>instrument</th>\n",
       "      <th></th>\n",
       "      <th></th>\n",
       "      <th></th>\n",
       "      <th></th>\n",
       "      <th></th>\n",
       "      <th></th>\n",
       "      <th></th>\n",
       "    </tr>\n",
       "  </thead>\n",
       "  <tbody>\n",
       "    <tr>\n",
       "      <th>12100</th>\n",
       "      <td>1</td>\n",
       "      <td>1</td>\n",
       "      <td>1</td>\n",
       "      <td>1</td>\n",
       "      <td>1</td>\n",
       "      <td>1</td>\n",
       "      <td>1</td>\n",
       "    </tr>\n",
       "    <tr>\n",
       "      <th>15000</th>\n",
       "      <td>1</td>\n",
       "      <td>1</td>\n",
       "      <td>1</td>\n",
       "      <td>1</td>\n",
       "      <td>1</td>\n",
       "      <td>1</td>\n",
       "      <td>1</td>\n",
       "    </tr>\n",
       "    <tr>\n",
       "      <th>15000</th>\n",
       "      <td>1</td>\n",
       "      <td>1</td>\n",
       "      <td>1</td>\n",
       "      <td>1</td>\n",
       "      <td>1</td>\n",
       "      <td>1</td>\n",
       "      <td>1</td>\n",
       "    </tr>\n",
       "    <tr>\n",
       "      <th>15000</th>\n",
       "      <td>1</td>\n",
       "      <td>1</td>\n",
       "      <td>1</td>\n",
       "      <td>1</td>\n",
       "      <td>1</td>\n",
       "      <td>1</td>\n",
       "      <td>1</td>\n",
       "    </tr>\n",
       "    <tr>\n",
       "      <th>15000</th>\n",
       "      <td>1</td>\n",
       "      <td>1</td>\n",
       "      <td>1</td>\n",
       "      <td>1</td>\n",
       "      <td>1</td>\n",
       "      <td>1</td>\n",
       "      <td>1</td>\n",
       "    </tr>\n",
       "    <tr>\n",
       "      <th>...</th>\n",
       "      <td>...</td>\n",
       "      <td>...</td>\n",
       "      <td>...</td>\n",
       "      <td>...</td>\n",
       "      <td>...</td>\n",
       "      <td>...</td>\n",
       "      <td>...</td>\n",
       "    </tr>\n",
       "    <tr>\n",
       "      <th>US8716071076</th>\n",
       "      <td>1</td>\n",
       "      <td>1</td>\n",
       "      <td>1</td>\n",
       "      <td>1</td>\n",
       "      <td>1</td>\n",
       "      <td>1</td>\n",
       "      <td>1</td>\n",
       "    </tr>\n",
       "    <tr>\n",
       "      <th>US87612E1064</th>\n",
       "      <td>1</td>\n",
       "      <td>1</td>\n",
       "      <td>1</td>\n",
       "      <td>1</td>\n",
       "      <td>1</td>\n",
       "      <td>1</td>\n",
       "      <td>1</td>\n",
       "    </tr>\n",
       "    <tr>\n",
       "      <th>US92220P1057</th>\n",
       "      <td>1</td>\n",
       "      <td>1</td>\n",
       "      <td>1</td>\n",
       "      <td>1</td>\n",
       "      <td>1</td>\n",
       "      <td>1</td>\n",
       "      <td>1</td>\n",
       "    </tr>\n",
       "    <tr>\n",
       "      <th>US92826C8394</th>\n",
       "      <td>1</td>\n",
       "      <td>1</td>\n",
       "      <td>1</td>\n",
       "      <td>1</td>\n",
       "      <td>1</td>\n",
       "      <td>1</td>\n",
       "      <td>1</td>\n",
       "    </tr>\n",
       "    <tr>\n",
       "      <th>US94106L1098</th>\n",
       "      <td>1</td>\n",
       "      <td>1</td>\n",
       "      <td>1</td>\n",
       "      <td>1</td>\n",
       "      <td>1</td>\n",
       "      <td>1</td>\n",
       "      <td>1</td>\n",
       "    </tr>\n",
       "  </tbody>\n",
       "</table>\n",
       "<p>79 rows × 7 columns</p>\n",
       "</div>"
      ],
      "text/plain": [
       "              LU1787059465  LU1787059036  LU1787061107  LU1787061362  \\\n",
       "instrument                                                             \n",
       "12100                    1             1             1             1   \n",
       "15000                    1             1             1             1   \n",
       "15000                    1             1             1             1   \n",
       "15000                    1             1             1             1   \n",
       "15000                    1             1             1             1   \n",
       "...                    ...           ...           ...           ...   \n",
       "US8716071076             1             1             1             1   \n",
       "US87612E1064             1             1             1             1   \n",
       "US92220P1057             1             1             1             1   \n",
       "US92826C8394             1             1             1             1   \n",
       "US94106L1098             1             1             1             1   \n",
       "\n",
       "              LU1787061529  LU1787060471  fund  \n",
       "instrument                                      \n",
       "12100                    1             1     1  \n",
       "15000                    1             1     1  \n",
       "15000                    1             1     1  \n",
       "15000                    1             1     1  \n",
       "15000                    1             1     1  \n",
       "...                    ...           ...   ...  \n",
       "US8716071076             1             1     1  \n",
       "US87612E1064             1             1     1  \n",
       "US92220P1057             1             1     1  \n",
       "US92826C8394             1             1     1  \n",
       "US94106L1098             1             1     1  \n",
       "\n",
       "[79 rows x 7 columns]"
      ]
     },
     "execution_count": 8,
     "metadata": {},
     "output_type": "execute_result"
    }
   ],
   "source": [
    "BETAS = pd.DataFrame(1, index=instruments.index, columns=NAVs.index)\n",
    "for isin in shareclasses:\n",
    "    BETAS[isin].where(\n",
    "        instruments[\"id_group\"].isin(NAVs.loc[isin, \"groups\"]),\n",
    "        0,\n",
    "        inplace=True)\n",
    "BETAS.sort_index(inplace=True)\n",
    "BETAS[\"fund\"] = 1\n",
    "for isin in shareclasses:\n",
    "    BETAS[\"fund\"] = BETAS[\"fund\"] * BETAS[isin]\n",
    "\n",
    "BETAS.loc[BETAS[\"fund\"]==1]"
   ]
  },
  {
   "cell_type": "markdown",
   "metadata": {},
   "source": [
    "### Shareclasses Key matrix (SK)\n",
    "The second distribution matrice we will use is the Shareclasses Key, it is built in the same way as the BETAS matrix (excluding the added colun \"fund\"). Where each SK(i,j) is defined as follow:\n",
    "$$\n",
    "SK(i,j) = \\left\\{\n",
    "    \\begin{array}\\\\\n",
    "        \\text{NAV of shareclass j} & \\mbox{if } \\ \\beta_{i,j} = 1 \\\\\n",
    "        0 & \\mbox{if } \\ \\beta_{i,j} = 0 \\\\\n",
    "    \\end{array}\n",
    "\\right.\n",
    "$$\n",
    "the NAV of the shareclass j if instrument j is distributed to j. "
   ]
  },
  {
   "cell_type": "code",
   "execution_count": 11,
   "metadata": {},
   "outputs": [
    {
     "data": {
      "text/html": [
       "<div>\n",
       "<style scoped>\n",
       "    .dataframe tbody tr th:only-of-type {\n",
       "        vertical-align: middle;\n",
       "    }\n",
       "\n",
       "    .dataframe tbody tr th {\n",
       "        vertical-align: top;\n",
       "    }\n",
       "\n",
       "    .dataframe thead th {\n",
       "        text-align: right;\n",
       "    }\n",
       "</style>\n",
       "<table border=\"1\" class=\"dataframe\">\n",
       "  <thead>\n",
       "    <tr style=\"text-align: right;\">\n",
       "      <th></th>\n",
       "      <th>LU1787059465</th>\n",
       "      <th>LU1787059036</th>\n",
       "      <th>LU1787061107</th>\n",
       "      <th>LU1787061362</th>\n",
       "      <th>LU1787061529</th>\n",
       "      <th>LU1787060471</th>\n",
       "    </tr>\n",
       "    <tr>\n",
       "      <th>instrument</th>\n",
       "      <th></th>\n",
       "      <th></th>\n",
       "      <th></th>\n",
       "      <th></th>\n",
       "      <th></th>\n",
       "      <th></th>\n",
       "    </tr>\n",
       "  </thead>\n",
       "  <tbody>\n",
       "    <tr>\n",
       "      <th>12100</th>\n",
       "      <td>7248761.65</td>\n",
       "      <td>1529583.13</td>\n",
       "      <td>28005844.68</td>\n",
       "      <td>14538855.37</td>\n",
       "      <td>18324115.82</td>\n",
       "      <td>33209810.28</td>\n",
       "    </tr>\n",
       "    <tr>\n",
       "      <th>15000</th>\n",
       "      <td>7248761.65</td>\n",
       "      <td>1529583.13</td>\n",
       "      <td>28005844.68</td>\n",
       "      <td>14538855.37</td>\n",
       "      <td>18324115.82</td>\n",
       "      <td>33209810.28</td>\n",
       "    </tr>\n",
       "    <tr>\n",
       "      <th>15000</th>\n",
       "      <td>0.00</td>\n",
       "      <td>0.00</td>\n",
       "      <td>0.00</td>\n",
       "      <td>0.00</td>\n",
       "      <td>18324115.82</td>\n",
       "      <td>0.00</td>\n",
       "    </tr>\n",
       "    <tr>\n",
       "      <th>15000</th>\n",
       "      <td>0.00</td>\n",
       "      <td>0.00</td>\n",
       "      <td>0.00</td>\n",
       "      <td>0.00</td>\n",
       "      <td>18324115.82</td>\n",
       "      <td>0.00</td>\n",
       "    </tr>\n",
       "    <tr>\n",
       "      <th>15000</th>\n",
       "      <td>7248761.65</td>\n",
       "      <td>1529583.13</td>\n",
       "      <td>28005844.68</td>\n",
       "      <td>14538855.37</td>\n",
       "      <td>18324115.82</td>\n",
       "      <td>33209810.28</td>\n",
       "    </tr>\n",
       "  </tbody>\n",
       "</table>\n",
       "</div>"
      ],
      "text/plain": [
       "            LU1787059465  LU1787059036  LU1787061107  LU1787061362  \\\n",
       "instrument                                                           \n",
       "12100         7248761.65    1529583.13   28005844.68   14538855.37   \n",
       "15000         7248761.65    1529583.13   28005844.68   14538855.37   \n",
       "15000               0.00          0.00          0.00          0.00   \n",
       "15000               0.00          0.00          0.00          0.00   \n",
       "15000         7248761.65    1529583.13   28005844.68   14538855.37   \n",
       "\n",
       "            LU1787061529  LU1787060471  \n",
       "instrument                              \n",
       "12100        18324115.82   33209810.28  \n",
       "15000        18324115.82   33209810.28  \n",
       "15000        18324115.82          0.00  \n",
       "15000        18324115.82          0.00  \n",
       "15000        18324115.82   33209810.28  "
      ]
     },
     "execution_count": 11,
     "metadata": {},
     "output_type": "execute_result"
    }
   ],
   "source": [
    "SK = pd.DataFrame(0, index=instruments.index, columns=NAVs.index)\n",
    "for isin in shareclasses:\n",
    "    SK[isin].where(\n",
    "        ~(instruments[\"id_group\"].isin(NAVs.loc[isin, \"groups\"])),\n",
    "        NAVs.loc[isin, \"shareclass_total_net_asset_sf_curr\"].astype('float64'),\n",
    "        inplace=True)\n",
    "SK.sort_index(inplace=True)\n",
    "SK.head()"
   ]
  },
  {
   "cell_type": "markdown",
   "metadata": {},
   "source": [
    "### Dedicated values matrix (D)\n",
    "The third matrice we will use is the dedicated value matrice, where each $d_{i,j}$ is defined as the value of instrument i associated to the shareclass j.\n",
    "\n",
    "In the general case, the value of instrument i is distributed over each shareclass it is associated with proportionately to the respective NAV of the shareclasses.\n",
    "\n",
    "The general definition of $d_{i,j}$ is as follow:\n",
    "$$\n",
    "d_{i,j} = I_i \\cdot \\frac{\\beta_{i,j} S_j}{\\sum_{k=0}^{m} \\beta_{i,k} S_k}\n",
    "$$\n",
    "\n",
    "#### Repartition keys matrix (ALPHAS)\n",
    "\n",
    "We can then define the repartition key $\\alpha_{i,j}$ of each instrument i to each shareclass j such that:\n",
    "\n",
    "$$\n",
    "d_{i,j} = \\alpha_{i,j} \\cdot I_i\n",
    "$$\n",
    "\n",
    "which gives:\n",
    "\n",
    "$$\n",
    "\\alpha_{i,j} = \\frac{\\beta_{i,j} S_j}{\\sum_{k=0}^{m} \\beta_{i,k} S_k}\n",
    "$$"
   ]
  },
  {
   "cell_type": "code",
   "execution_count": 12,
   "metadata": {},
   "outputs": [
    {
     "data": {
      "text/html": [
       "<div>\n",
       "<style scoped>\n",
       "    .dataframe tbody tr th:only-of-type {\n",
       "        vertical-align: middle;\n",
       "    }\n",
       "\n",
       "    .dataframe tbody tr th {\n",
       "        vertical-align: top;\n",
       "    }\n",
       "\n",
       "    .dataframe thead th {\n",
       "        text-align: right;\n",
       "    }\n",
       "</style>\n",
       "<table border=\"1\" class=\"dataframe\">\n",
       "  <thead>\n",
       "    <tr style=\"text-align: right;\">\n",
       "      <th></th>\n",
       "      <th>LU1787059465</th>\n",
       "      <th>LU1787059036</th>\n",
       "      <th>LU1787061107</th>\n",
       "      <th>LU1787061362</th>\n",
       "      <th>LU1787061529</th>\n",
       "      <th>LU1787060471</th>\n",
       "    </tr>\n",
       "    <tr>\n",
       "      <th>instrument</th>\n",
       "      <th></th>\n",
       "      <th></th>\n",
       "      <th></th>\n",
       "      <th></th>\n",
       "      <th></th>\n",
       "      <th></th>\n",
       "    </tr>\n",
       "  </thead>\n",
       "  <tbody>\n",
       "    <tr>\n",
       "      <th>12100</th>\n",
       "      <td>0.070474</td>\n",
       "      <td>0.014871</td>\n",
       "      <td>0.27228</td>\n",
       "      <td>0.14135</td>\n",
       "      <td>0.178151</td>\n",
       "      <td>0.322874</td>\n",
       "    </tr>\n",
       "    <tr>\n",
       "      <th>15000</th>\n",
       "      <td>0.070474</td>\n",
       "      <td>0.014871</td>\n",
       "      <td>0.27228</td>\n",
       "      <td>0.14135</td>\n",
       "      <td>0.178151</td>\n",
       "      <td>0.322874</td>\n",
       "    </tr>\n",
       "    <tr>\n",
       "      <th>15000</th>\n",
       "      <td>0.000000</td>\n",
       "      <td>0.000000</td>\n",
       "      <td>0.00000</td>\n",
       "      <td>0.00000</td>\n",
       "      <td>1.000000</td>\n",
       "      <td>0.000000</td>\n",
       "    </tr>\n",
       "    <tr>\n",
       "      <th>15000</th>\n",
       "      <td>0.000000</td>\n",
       "      <td>0.000000</td>\n",
       "      <td>0.00000</td>\n",
       "      <td>0.00000</td>\n",
       "      <td>1.000000</td>\n",
       "      <td>0.000000</td>\n",
       "    </tr>\n",
       "    <tr>\n",
       "      <th>15000</th>\n",
       "      <td>0.070474</td>\n",
       "      <td>0.014871</td>\n",
       "      <td>0.27228</td>\n",
       "      <td>0.14135</td>\n",
       "      <td>0.178151</td>\n",
       "      <td>0.322874</td>\n",
       "    </tr>\n",
       "  </tbody>\n",
       "</table>\n",
       "</div>"
      ],
      "text/plain": [
       "            LU1787059465  LU1787059036  LU1787061107  LU1787061362  \\\n",
       "instrument                                                           \n",
       "12100           0.070474      0.014871       0.27228       0.14135   \n",
       "15000           0.070474      0.014871       0.27228       0.14135   \n",
       "15000           0.000000      0.000000       0.00000       0.00000   \n",
       "15000           0.000000      0.000000       0.00000       0.00000   \n",
       "15000           0.070474      0.014871       0.27228       0.14135   \n",
       "\n",
       "            LU1787061529  LU1787060471  \n",
       "instrument                              \n",
       "12100           0.178151      0.322874  \n",
       "15000           0.178151      0.322874  \n",
       "15000           1.000000      0.000000  \n",
       "15000           1.000000      0.000000  \n",
       "15000           0.178151      0.322874  "
      ]
     },
     "execution_count": 12,
     "metadata": {},
     "output_type": "execute_result"
    }
   ],
   "source": [
    "ALPHAS = pd.DataFrame(0, index=instruments.index, columns=NAVs.index)\n",
    "for isin in shareclasses:\n",
    "    ALPHAS[isin] = SK[isin] * 1 / SK.sum(axis=1)\n",
    "ALPHAS.sort_index(inplace=True)\n",
    "ALPHAS.head()"
   ]
  },
  {
   "cell_type": "markdown",
   "metadata": {},
   "source": [
    "#### Computing D (first version)\n",
    "Once we have the ALPHAS matrix we should be able to compute the value $d_{i,j}$ of each instrument i dedicated to each shareclass j by multiplying each instrument value $I_i$ by $\\alpha_{i,j}$."
   ]
  },
  {
   "cell_type": "code",
   "execution_count": 15,
   "metadata": {},
   "outputs": [
    {
     "data": {
      "text/html": [
       "<div>\n",
       "<style scoped>\n",
       "    .dataframe tbody tr th:only-of-type {\n",
       "        vertical-align: middle;\n",
       "    }\n",
       "\n",
       "    .dataframe tbody tr th {\n",
       "        vertical-align: top;\n",
       "    }\n",
       "\n",
       "    .dataframe thead th {\n",
       "        text-align: right;\n",
       "    }\n",
       "</style>\n",
       "<table border=\"1\" class=\"dataframe\">\n",
       "  <thead>\n",
       "    <tr style=\"text-align: right;\">\n",
       "      <th></th>\n",
       "      <th>LU1787059465</th>\n",
       "      <th>LU1787059036</th>\n",
       "      <th>LU1787061107</th>\n",
       "      <th>LU1787061362</th>\n",
       "      <th>LU1787061529</th>\n",
       "      <th>LU1787060471</th>\n",
       "    </tr>\n",
       "    <tr>\n",
       "      <th>instrument</th>\n",
       "      <th></th>\n",
       "      <th></th>\n",
       "      <th></th>\n",
       "      <th></th>\n",
       "      <th></th>\n",
       "      <th></th>\n",
       "    </tr>\n",
       "  </thead>\n",
       "  <tbody>\n",
       "    <tr>\n",
       "      <th>12100</th>\n",
       "      <td>-487.985839</td>\n",
       "      <td>-102.971369</td>\n",
       "      <td>-1.885350e+03</td>\n",
       "      <td>-978.754149</td>\n",
       "      <td>-1233.577467</td>\n",
       "      <td>-2.235681e+03</td>\n",
       "    </tr>\n",
       "    <tr>\n",
       "      <th>15000</th>\n",
       "      <td>-499.565453</td>\n",
       "      <td>-105.414818</td>\n",
       "      <td>-1.930089e+03</td>\n",
       "      <td>-1001.979403</td>\n",
       "      <td>-1262.849527</td>\n",
       "      <td>-2.288732e+03</td>\n",
       "    </tr>\n",
       "    <tr>\n",
       "      <th>15000</th>\n",
       "      <td>0.000000</td>\n",
       "      <td>0.000000</td>\n",
       "      <td>0.000000e+00</td>\n",
       "      <td>0.000000</td>\n",
       "      <td>257400.550000</td>\n",
       "      <td>0.000000e+00</td>\n",
       "    </tr>\n",
       "    <tr>\n",
       "      <th>15000</th>\n",
       "      <td>0.000000</td>\n",
       "      <td>0.000000</td>\n",
       "      <td>0.000000e+00</td>\n",
       "      <td>0.000000</td>\n",
       "      <td>-289684.320000</td>\n",
       "      <td>0.000000e+00</td>\n",
       "    </tr>\n",
       "    <tr>\n",
       "      <th>15000</th>\n",
       "      <td>-392430.328293</td>\n",
       "      <td>-82807.911039</td>\n",
       "      <td>-1.516168e+06</td>\n",
       "      <td>-787098.274346</td>\n",
       "      <td>-992023.070165</td>\n",
       "      <td>-1.797898e+06</td>\n",
       "    </tr>\n",
       "  </tbody>\n",
       "</table>\n",
       "</div>"
      ],
      "text/plain": [
       "             LU1787059465  LU1787059036  LU1787061107   LU1787061362  \\\n",
       "instrument                                                             \n",
       "12100         -487.985839   -102.971369 -1.885350e+03    -978.754149   \n",
       "15000         -499.565453   -105.414818 -1.930089e+03   -1001.979403   \n",
       "15000            0.000000      0.000000  0.000000e+00       0.000000   \n",
       "15000            0.000000      0.000000  0.000000e+00       0.000000   \n",
       "15000      -392430.328293 -82807.911039 -1.516168e+06 -787098.274346   \n",
       "\n",
       "             LU1787061529  LU1787060471  \n",
       "instrument                               \n",
       "12100        -1233.577467 -2.235681e+03  \n",
       "15000        -1262.849527 -2.288732e+03  \n",
       "15000       257400.550000  0.000000e+00  \n",
       "15000      -289684.320000  0.000000e+00  \n",
       "15000      -992023.070165 -1.797898e+06  "
      ]
     },
     "execution_count": 15,
     "metadata": {},
     "output_type": "execute_result"
    }
   ],
   "source": [
    "D = pd.DataFrame(0, index=instruments.index, columns=NAVs.index)\n",
    "for isin in shareclasses:\n",
    "    D[isin].where(\n",
    "        ~(instruments[\"id_group\"].isin(NAVs.loc[isin, \"groups\"])),\n",
    "        instruments[\"market_value_fund\"]*ALPHAS[isin],\n",
    "        inplace=True)\n",
    "D.sort_index(inplace=True)\n",
    "D.head()"
   ]
  },
  {
   "cell_type": "markdown",
   "metadata": {},
   "source": [
    "#### Checking the results\n",
    "To check the results, we simply have to sum the dedicated values $d_{i,j}$ for each shareclass j and we should find the NAV of each shareclass."
   ]
  },
  {
   "cell_type": "code",
   "execution_count": 16,
   "metadata": {
    "scrolled": true
   },
   "outputs": [
    {
     "name": "stdout",
     "output_type": "stream",
     "text": [
      "NAV LU1787059465 : 7248761.65\n",
      "computed NAV:  6711182.465265324 \n",
      "\n",
      "NAV LU1787059036 : 1529583.13\n",
      "computed NAV:  1564946.1181890455 \n",
      "\n",
      "NAV LU1787061107 : 28005844.68\n",
      "computed NAV:  25446541.142824866 \n",
      "\n",
      "NAV LU1787061362 : 14538855.37\n",
      "computed NAV:  13046766.907595254 \n",
      "\n",
      "NAV LU1787061529 : 18324115.82\n",
      "computed NAV:  16419455.847428689 \n",
      "\n",
      "NAV LU1787060471 : 33209810.28\n",
      "computed NAV:  29883595.04869681 \n",
      "\n"
     ]
    }
   ],
   "source": [
    "for isin in shareclasses:\n",
    "    print(f\"NAV {isin} :\", NAVs.loc[isin, \"shareclass_total_net_asset_sf_curr\"])\n",
    "    print(\"computed NAV: \", D[isin].sum(), \"\\n\")"
   ]
  },
  {
   "cell_type": "markdown",
   "metadata": {},
   "source": [
    "#### Erroneous values\n",
    "As we can see, the computed NAVs does not match the NAVs given by the clients, which means that we are doing something wrong."
   ]
  },
  {
   "cell_type": "markdown",
   "metadata": {},
   "source": [
    "###  Investigation\n",
    "Let's investigate our datas to find where is our error."
   ]
  },
  {
   "cell_type": "markdown",
   "metadata": {},
   "source": [
    "#### Check that we have all the instruments\n",
    "First, we begin by checking that the values of all instruments and the NAVs of all shareclasses both sum to the total NAV of the subfund."
   ]
  },
  {
   "cell_type": "code",
   "execution_count": 20,
   "metadata": {},
   "outputs": [
    {
     "name": "stdout",
     "output_type": "stream",
     "text": [
      "total NAV of the subfund:  20900557.78\n",
      "sum of shareclasses' NAV:  102856970.93\n",
      "sum of instruments values:  93072487.53000002\n"
     ]
    }
   ],
   "source": [
    "print(\"total NAV of the subfund: \", NAVs[\"subfund_total_net_asset\"].iloc[0])\n",
    "print(\"sum of shareclasses' NAV: \", NAVs[\"shareclass_total_net_asset_sf_curr\"].sum())\n",
    "print(\"sum of instruments values: \", instruments[\"market_value_fund\"].sum())"
   ]
  },
  {
   "cell_type": "markdown",
   "metadata": {},
   "source": [
    "As we can see, there is no mismatch in the datas we are given, this means that the errors comes from our computations."
   ]
  },
  {
   "cell_type": "markdown",
   "metadata": {},
   "source": [
    "#### Check for value loss\n",
    "\n",
    "Now let's check that we are not ommitting any amount and that we do not lose (or create) any money along the way. In order to do that we will check that the sum of distributed values for each instrument sum to 100% of the instrument value."
   ]
  },
  {
   "cell_type": "code",
   "execution_count": null,
   "metadata": {},
   "outputs": [],
   "source": [
    "percentage = D.sum(axis=1) / instruments[\"market_and_accrued_fund\"]\n",
    "print(percentage.head())\n",
    "print(\"erroneous instruments: \", percentage.loc[percentage.round(5)!=1])"
   ]
  },
  {
   "cell_type": "markdown",
   "metadata": {},
   "source": [
    "All distributions indeed sum to 100% meaning that we do not lose any value during the distribution. Rather, this means that we do not correctly distribute our instruments over the shareclasses."
   ]
  },
  {
   "cell_type": "markdown",
   "metadata": {},
   "source": [
    "#### Computing D (correct version)\n",
    "In fact the discrepencies between our computed NAVs and the NAVs provided by the client comes from our definition of our $d_{i,j}$ values. \n",
    "\n",
    "To correctly distribute the values of the instruments over the shareclasses we have to split our instruments into two categories: \n",
    "- the instruments which are at the subfund's level and must be distributed over all shareclasses of the subfund\n",
    "- the instruments which are dedicated to a strict sub-set of shareclasses in the subfund.\n",
    "\n",
    "let's denote :\n",
    "- $\\mathcal{I}_s$ the set of instruments dedicated to the whole subfund\n",
    "- $\\mathcal{I}_d$ the set of instruments dedicated to a strict subset of shareclasses\n",
    "\n",
    "For $I_i \\in \\mathcal{I}_d$ we keep the same definition of $d_{i,j}$:\n",
    "\n",
    "$$\n",
    "d_{i,j} = I_i \\cdot \\frac{\\beta_{i,j} S_j}{\\sum_{k=0}^{m} \\beta_{i,k} S_k}\n",
    "$$\n",
    "\n",
    "However for $I_i \\in \\mathcal{I}_s$ we exclude the values of all instruments $I_k \\in \\mathcal{I}_d$ which leads to:\n",
    "\n",
    "$$\n",
    "d_{i,j} = I_i \\cdot \\frac{S_j - (\\beta_{i,j} \\cdot \\sum_{k | I_k \\in \\mathcal{I}_d} d_{k,j})}\n",
    "                         {\\sum_{k | I_k \\in \\mathcal{I}_s} S_k - \\sum_{k | I_k \\in \\mathcal{I}_d} I_k} \n",
    "$$"
   ]
  },
  {
   "cell_type": "code",
   "execution_count": null,
   "metadata": {},
   "outputs": [],
   "source": [
    "D = pd.DataFrame(0, index=instruments.index, columns=NAVs.index)\n",
    "for isin in shareclasses:\n",
    "    D.loc[BETAS[\"fund\"]==0, isin] = \\\n",
    "        instruments.loc[BETAS[\"fund\"]==0, \"market_and_accrued_fund\"] \\\n",
    "        * SK.loc[BETAS[\"fund\"]==0, isin] / SK.loc[BETAS[\"fund\"]==0].sum(axis=1)\n",
    "\n",
    "for isin in shareclasses:\n",
    "    D.loc[BETAS[\"fund\"]==1, isin] = \\\n",
    "        instruments.loc[BETAS[\"fund\"]==1, \"market_and_accrued_fund\"] \\\n",
    "        * (SK.loc[BETAS[\"fund\"]==1, isin] \\\n",
    "           - D.loc[((BETAS[isin]==1) & (BETAS[\"fund\"]==0)), isin].sum()) \\\n",
    "        / (SK.loc[BETAS[\"fund\"]==1].sum(axis=1) \\\n",
    "           - instruments.loc[BETAS[\"fund\"]==0, \"market_and_accrued_fund\"].sum())\n",
    "\n",
    "D.sort_index(inplace=True)\n",
    "D.head()"
   ]
  },
  {
   "cell_type": "markdown",
   "metadata": {},
   "source": [
    "#### Checking the results\n",
    "To check the results, we simply have to sum the dedicated values $d_{i,j}$ for each shareclass j and we should find the NAV of each shareclass."
   ]
  },
  {
   "cell_type": "code",
   "execution_count": null,
   "metadata": {
    "scrolled": true
   },
   "outputs": [],
   "source": [
    "for isin in shareclasses:\n",
    "    print(f\"NAV {isin} :\", NAVs.loc[isin, \"shareclass_total_net_asset_sf_curr\"])\n",
    "    print(\"computed NAV: \", D[isin].sum(), \"\\n\")"
   ]
  },
  {
   "cell_type": "markdown",
   "metadata": {},
   "source": [
    "As we can see, we are able to retrieve the NAVs of each shareclass by summing the distributed values of all instruments."
   ]
  },
  {
   "cell_type": "code",
   "execution_count": null,
   "metadata": {},
   "outputs": [],
   "source": [
    "Valuation_weight = D.apply(lambda x: x/NAVs.loc[x.name, \"shareclass_total_net_asset_sf_curr\"]) \n",
    "#pd.DataFrame(index=D.index, columns=D.columns)\n",
    "Valuation_weight[\"LU1280365476\"]\n"
   ]
  },
  {
   "cell_type": "code",
   "execution_count": null,
   "metadata": {},
   "outputs": [],
   "source": []
  }
 ],
 "metadata": {
  "kernelspec": {
   "display_name": "Python 3",
   "language": "python",
   "name": "python3"
  },
  "language_info": {
   "codemirror_mode": {
    "name": "ipython",
    "version": 3
   },
   "file_extension": ".py",
   "mimetype": "text/x-python",
   "name": "python",
   "nbconvert_exporter": "python",
   "pygments_lexer": "ipython3",
   "version": "3.8.5"
  }
 },
 "nbformat": 4,
 "nbformat_minor": 4
}
