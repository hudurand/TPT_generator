{
 "cells": [
  {
   "cell_type": "markdown",
   "metadata": {},
   "source": [
    "### Control TPT pictet"
   ]
  },
  {
   "cell_type": "code",
   "execution_count": 1,
   "metadata": {},
   "outputs": [],
   "source": [
    "import sys\n",
    "import os\n",
    "sys.path.append(os.path.abspath('..'))\n",
    "\n",
    "import pandas as pd\n",
    "import numpy as np\n",
    "from pathlib import Path\n",
    "from TPT_generator_python import DataBucket, TPTFetcher, TPTGenerator"
   ]
  },
  {
   "cell_type": "code",
   "execution_count": 2,
   "metadata": {},
   "outputs": [],
   "source": [
    "DATE = \"2021-03-31\"\n",
    "CLIENT = \"Pictet\"\n",
    "ISIN = \"LU1787059465\"\n",
    "SYMADJ = -0.0\n",
    "SOURCE_DIR = Path(\"../data/pictet_20210331\")\n",
    "OUTPUT_DIR = './production/control'\n",
    "ALL = slice(None)"
   ]
  },
  {
   "cell_type": "markdown",
   "metadata": {},
   "source": [
    "### Check generation inputs"
   ]
  },
  {
   "cell_type": "code",
   "execution_count": 3,
   "metadata": {},
   "outputs": [
    {
     "data": {
      "text/plain": [
       "\n",
       "    Reporting date:          2021-03-31\n",
       "    Client:                  Pictet\n",
       "    Shareclass isin:         LU1787059465 \n",
       "    number of instruments:   93\n",
       "        "
      ]
     },
     "execution_count": 3,
     "metadata": {},
     "output_type": "execute_result"
    }
   ],
   "source": [
    "generator = TPTGenerator(DATE,\n",
    "                         CLIENT,\n",
    "                         OUTPUT_DIR,\n",
    "                         SOURCE_DIR,\n",
    "                         sym_adj=SYMADJ,\n",
    "                         shareclass_isin=ISIN)\n",
    "generator"
   ]
  },
  {
   "cell_type": "code",
   "execution_count": 4,
   "metadata": {},
   "outputs": [
    {
     "data": {
      "text/plain": [
       "0     20\n",
       "11    28\n",
       "14    56\n",
       "Name: group_id, dtype: int64"
      ]
     },
     "execution_count": 4,
     "metadata": {},
     "output_type": "execute_result"
    }
   ],
   "source": [
    "generator.data_bucket.get_instruments(ALL).shape\n",
    "generator.data_bucket.get_groups()"
   ]
  },
  {
   "cell_type": "markdown",
   "metadata": {},
   "source": [
    "### Identify shareclass in subfund"
   ]
  },
  {
   "cell_type": "code",
   "execution_count": 5,
   "metadata": {},
   "outputs": [
    {
     "name": "stdout",
     "output_type": "stream",
     "text": [
      "subfund currency:  USD\n"
     ]
    },
    {
     "data": {
      "text/html": [
       "<div>\n",
       "<style scoped>\n",
       "    .dataframe tbody tr th:only-of-type {\n",
       "        vertical-align: middle;\n",
       "    }\n",
       "\n",
       "    .dataframe tbody tr th {\n",
       "        vertical-align: top;\n",
       "    }\n",
       "\n",
       "    .dataframe thead th {\n",
       "        text-align: right;\n",
       "    }\n",
       "</style>\n",
       "<table border=\"1\" class=\"dataframe\">\n",
       "  <thead>\n",
       "    <tr style=\"text-align: right;\">\n",
       "      <th></th>\n",
       "      <th>id</th>\n",
       "      <th>shareclass</th>\n",
       "      <th>shareclass_currency</th>\n",
       "      <th>shareclass_name</th>\n",
       "      <th>id_subfund</th>\n",
       "      <th>type_tpt</th>\n",
       "    </tr>\n",
       "    <tr>\n",
       "      <th>code_isin</th>\n",
       "      <th></th>\n",
       "      <th></th>\n",
       "      <th></th>\n",
       "      <th></th>\n",
       "      <th></th>\n",
       "      <th></th>\n",
       "    </tr>\n",
       "  </thead>\n",
       "  <tbody>\n",
       "    <tr>\n",
       "      <th>LU1787059465</th>\n",
       "      <td>463</td>\n",
       "      <td>A1E</td>\n",
       "      <td>EUR</td>\n",
       "      <td>Decalia SICAV - Circular Economy - A1E</td>\n",
       "      <td>148</td>\n",
       "      <td>1</td>\n",
       "    </tr>\n",
       "    <tr>\n",
       "      <th>LU1787059036</th>\n",
       "      <td>464</td>\n",
       "      <td>A1U</td>\n",
       "      <td>USD</td>\n",
       "      <td>Decalia SICAV - Circular Economy - A1U</td>\n",
       "      <td>148</td>\n",
       "      <td>1</td>\n",
       "    </tr>\n",
       "    <tr>\n",
       "      <th>LU1787060471</th>\n",
       "      <td>468</td>\n",
       "      <td>R</td>\n",
       "      <td>USD</td>\n",
       "      <td>Decalia SICAV - Circular Economy - R</td>\n",
       "      <td>148</td>\n",
       "      <td>1</td>\n",
       "    </tr>\n",
       "    <tr>\n",
       "      <th>LU1787061107</th>\n",
       "      <td>465</td>\n",
       "      <td>I</td>\n",
       "      <td>USD</td>\n",
       "      <td>Decalia SICAV - Circular Economy - I</td>\n",
       "      <td>148</td>\n",
       "      <td>1</td>\n",
       "    </tr>\n",
       "    <tr>\n",
       "      <th>LU1787061362</th>\n",
       "      <td>466</td>\n",
       "      <td>IC</td>\n",
       "      <td>CHF</td>\n",
       "      <td>Decalia SICAV - Circular Economy - IC</td>\n",
       "      <td>148</td>\n",
       "      <td>1</td>\n",
       "    </tr>\n",
       "    <tr>\n",
       "      <th>LU1787061529</th>\n",
       "      <td>467</td>\n",
       "      <td>IE</td>\n",
       "      <td>EUR</td>\n",
       "      <td>Decalia SICAV - Circular Economy - IE</td>\n",
       "      <td>148</td>\n",
       "      <td>1</td>\n",
       "    </tr>\n",
       "  </tbody>\n",
       "</table>\n",
       "</div>"
      ],
      "text/plain": [
       "               id shareclass shareclass_currency  \\\n",
       "code_isin                                          \n",
       "LU1787059465  463        A1E                 EUR   \n",
       "LU1787059036  464        A1U                 USD   \n",
       "LU1787060471  468          R                 USD   \n",
       "LU1787061107  465          I                 USD   \n",
       "LU1787061362  466         IC                 CHF   \n",
       "LU1787061529  467         IE                 EUR   \n",
       "\n",
       "                                     shareclass_name  id_subfund type_tpt  \n",
       "code_isin                                                                  \n",
       "LU1787059465  Decalia SICAV - Circular Economy - A1E         148        1  \n",
       "LU1787059036  Decalia SICAV - Circular Economy - A1U         148        1  \n",
       "LU1787060471    Decalia SICAV - Circular Economy - R         148        1  \n",
       "LU1787061107    Decalia SICAV - Circular Economy - I         148        1  \n",
       "LU1787061362   Decalia SICAV - Circular Economy - IC         148        1  \n",
       "LU1787061529   Decalia SICAV - Circular Economy - IE         148        1  "
      ]
     },
     "execution_count": 5,
     "metadata": {},
     "output_type": "execute_result"
    }
   ],
   "source": [
    "print(\"subfund currency: \", generator.data_bucket.get_subfund_infos('subfund_currency'))\n",
    "generator.data_bucket.get_shareclass_infos(isin=ALL)"
   ]
  },
  {
   "cell_type": "markdown",
   "metadata": {},
   "source": [
    "### Control that all shareclasses are retrieved"
   ]
  },
  {
   "cell_type": "code",
   "execution_count": 6,
   "metadata": {},
   "outputs": [
    {
     "data": {
      "text/html": [
       "<div>\n",
       "<style scoped>\n",
       "    .dataframe tbody tr th:only-of-type {\n",
       "        vertical-align: middle;\n",
       "    }\n",
       "\n",
       "    .dataframe tbody tr th {\n",
       "        vertical-align: top;\n",
       "    }\n",
       "\n",
       "    .dataframe thead th {\n",
       "        text-align: right;\n",
       "    }\n",
       "</style>\n",
       "<table border=\"1\" class=\"dataframe\">\n",
       "  <thead>\n",
       "    <tr style=\"text-align: right;\">\n",
       "      <th></th>\n",
       "      <th>shareclass_total_net_asset_sc_ccy</th>\n",
       "      <th>shareclass_total_net_asset_sf_ccy</th>\n",
       "      <th>subfund_total_net_asset</th>\n",
       "    </tr>\n",
       "    <tr>\n",
       "      <th>shareclass</th>\n",
       "      <th></th>\n",
       "      <th></th>\n",
       "      <th></th>\n",
       "    </tr>\n",
       "  </thead>\n",
       "  <tbody>\n",
       "    <tr>\n",
       "      <th>LU1787059465</th>\n",
       "      <td>6551602.24</td>\n",
       "      <td>7700098.11</td>\n",
       "      <td>1.151455e+08</td>\n",
       "    </tr>\n",
       "    <tr>\n",
       "      <th>LU1787059036</th>\n",
       "      <td>3591420.28</td>\n",
       "      <td>3591420.28</td>\n",
       "      <td>1.151455e+08</td>\n",
       "    </tr>\n",
       "    <tr>\n",
       "      <th>LU1787060471</th>\n",
       "      <td>35515941.21</td>\n",
       "      <td>35515941.21</td>\n",
       "      <td>1.151455e+08</td>\n",
       "    </tr>\n",
       "    <tr>\n",
       "      <th>LU1787061107</th>\n",
       "      <td>29493345.31</td>\n",
       "      <td>29493345.31</td>\n",
       "      <td>1.151455e+08</td>\n",
       "    </tr>\n",
       "    <tr>\n",
       "      <th>LU1787061362</th>\n",
       "      <td>14499493.67</td>\n",
       "      <td>15406147.01</td>\n",
       "      <td>1.151455e+08</td>\n",
       "    </tr>\n",
       "    <tr>\n",
       "      <th>LU1787061529</th>\n",
       "      <td>19942609.58</td>\n",
       "      <td>23438549.04</td>\n",
       "      <td>1.151455e+08</td>\n",
       "    </tr>\n",
       "  </tbody>\n",
       "</table>\n",
       "</div>"
      ],
      "text/plain": [
       "              shareclass_total_net_asset_sc_ccy  \\\n",
       "shareclass                                        \n",
       "LU1787059465                         6551602.24   \n",
       "LU1787059036                         3591420.28   \n",
       "LU1787060471                        35515941.21   \n",
       "LU1787061107                        29493345.31   \n",
       "LU1787061362                        14499493.67   \n",
       "LU1787061529                        19942609.58   \n",
       "\n",
       "              shareclass_total_net_asset_sf_ccy  subfund_total_net_asset  \n",
       "shareclass                                                                \n",
       "LU1787059465                         7700098.11             1.151455e+08  \n",
       "LU1787059036                         3591420.28             1.151455e+08  \n",
       "LU1787060471                        35515941.21             1.151455e+08  \n",
       "LU1787061107                        29493345.31             1.151455e+08  \n",
       "LU1787061362                        15406147.01             1.151455e+08  \n",
       "LU1787061529                        23438549.04             1.151455e+08  "
      ]
     },
     "execution_count": 6,
     "metadata": {},
     "output_type": "execute_result"
    }
   ],
   "source": [
    "navs = generator.data_bucket.get_shareclass_nav(isin=ALL, info=['shareclass_total_net_asset_sc_ccy',\n",
    "                                                                'shareclass_total_net_asset_sf_ccy',\n",
    "                                                                'subfund_total_net_asset'])\n",
    "navs"
   ]
  },
  {
   "cell_type": "code",
   "execution_count": 7,
   "metadata": {},
   "outputs": [
    {
     "data": {
      "text/plain": [
       "115145510.69"
      ]
     },
     "execution_count": 7,
     "metadata": {},
     "output_type": "execute_result"
    }
   ],
   "source": [
    "instruments = generator.data_bucket.get_instruments_by_index(ALL)\n",
    "instruments[\"market_value_fund\"].sum()\n",
    "instruments_TNA = instruments[\"market_value_fund\"].sum()\n",
    "instruments_TNA"
   ]
  },
  {
   "cell_type": "code",
   "execution_count": 8,
   "metadata": {},
   "outputs": [
    {
     "name": "stdout",
     "output_type": "stream",
     "text": [
      "sum of shareclass navs:  115145500.96000001\n",
      "TNA of subfund:          115145500.96\n"
     ]
    }
   ],
   "source": [
    "print(\"sum of shareclass navs: \", navs[\"shareclass_total_net_asset_sf_ccy\"].sum())\n",
    "print(\"TNA of subfund:         \", navs[\"subfund_total_net_asset\"].iloc[0])\n",
    "## if sum == TNA ==> no navs missing"
   ]
  },
  {
   "cell_type": "code",
   "execution_count": 9,
   "metadata": {},
   "outputs": [
    {
     "name": "stdout",
     "output_type": "stream",
     "text": [
      "7700098.759867836\n",
      "7700098.11\n"
     ]
    }
   ],
   "source": [
    "generator.data_bucket.processing_data = None\n",
    "dist_vec = generator.data_bucket.get_distribution_vector()\n",
    "print(dist_vec.sum())\n",
    "## if no fake line, should be equel to shareclass nav\n",
    "print(generator.data_bucket.get_shareclass_nav(info=['shareclass_total_net_asset_sf_ccy']).iloc[0])"
   ]
  },
  {
   "cell_type": "markdown",
   "metadata": {},
   "source": [
    "###  Control that the distribution correctly distributed the instruments"
   ]
  },
  {
   "cell_type": "code",
   "execution_count": 10,
   "metadata": {},
   "outputs": [
    {
     "name": "stdout",
     "output_type": "stream",
     "text": [
      "sum of distributed instruments:  115145510.68999998\n",
      "subfund TNA:  115145500.96\n",
      "sum of instruments distributed to the shareclass:  7700098.759867836\n",
      "shareclass navs:  7700098.11\n"
     ]
    }
   ],
   "source": [
    "instruments_sum = generator.data_bucket.processing_data.loc[(ALL, ALL), \"distribution\"].sum()\n",
    "sum_1 = generator.data_bucket.processing_data.loc[(ALL, navs.index[0]), \"distribution\"].sum()\n",
    "print(\"sum of distributed instruments: \", instruments_sum)\n",
    "print(\"subfund TNA: \", navs[\"subfund_total_net_asset\"].iloc[0])\n",
    "\n",
    "print(\"sum of instruments distributed to the shareclass: \", sum_1)\n",
    "print(\"shareclass navs: \", generator.data_bucket.get_shareclass_nav(\"shareclass_total_net_asset_sf_ccy\"))"
   ]
  },
  {
   "cell_type": "code",
   "execution_count": 11,
   "metadata": {},
   "outputs": [
    {
     "name": "stdout",
     "output_type": "stream",
     "text": [
      "computed nav:  7700098.759867836\n",
      "   given nav:  7700098.11\n",
      "difference:  -0.6498678354546428\n",
      "computed nav:  3591420.584114442\n",
      "   given nav:  3591420.28\n",
      "difference:  -0.3041144423186779\n",
      "computed nav:  35515944.217320375\n",
      "   given nav:  35515941.21\n",
      "difference:  -3.007320374250412\n",
      "computed nav:  29493347.806244075\n",
      "   given nav:  29493345.31\n",
      "difference:  -2.496244076639414\n",
      "computed nav:  15406148.308321137\n",
      "   given nav:  15406147.01\n",
      "difference:  -1.2983211372047663\n",
      "computed nav:  23438551.01413213\n",
      "   given nav:  23438549.04\n",
      "difference:  -1.9741321317851543\n",
      "total diff: -9.73\n"
     ]
    }
   ],
   "source": [
    "total_diff = 0\n",
    "for isin in generator.data_bucket.get_shareclass_infos(isin=ALL).index:\n",
    "    sum_isin = generator.data_bucket.processing_data.loc[(ALL, isin), \"distribution\"].sum()\n",
    "    nav_isin = generator.data_bucket.get_shareclass_nav(\"shareclass_total_net_asset_sf_ccy\", isin=isin)\n",
    "    diff = nav_isin - sum_isin\n",
    "    total_diff += diff\n",
    "    print(\"computed nav: \", sum_isin)\n",
    "    print(\"   given nav: \", nav_isin)\n",
    "    print(\"difference: \", diff)\n",
    "print(\"total diff:\", round(total_diff, 5))"
   ]
  },
  {
   "cell_type": "code",
   "execution_count": 12,
   "metadata": {},
   "outputs": [
    {
     "name": "stdout",
     "output_type": "stream",
     "text": [
      "1.0000000843973447\n",
      "1.0000000846780432\n",
      "1.0000000846752268\n",
      "1.000000084637536\n",
      "1.0000000842729293\n",
      "1.0000000842258676\n"
     ]
    }
   ],
   "source": [
    "for isin in generator.data_bucket.get_shareclass_infos(isin=ALL).index:\n",
    "    sum_weights = generator.data_bucket.processing_data.loc[(ALL, isin), \"valuation weight\"].sum()\n",
    "    print(sum_weights)"
   ]
  },
  {
   "cell_type": "code",
   "execution_count": 14,
   "metadata": {},
   "outputs": [
    {
     "name": "stdout",
     "output_type": "stream",
     "text": [
      "US92826C8394\n",
      "US02079K3059\n",
      "US8725401090\n",
      "US2546871060\n",
      "CH0012032048\n",
      "IT0003128367\n",
      "US2310211063\n",
      "DE000A1EWWW0\n",
      "US5184391044\n",
      "GB00BVYVFW23\n",
      "US29786A1060\n",
      "FR0000131906\n",
      "IE0004927939\n",
      "US74834L1008\n",
      "FO0000000179\n",
      "US0865161014\n",
      "US94106L1098\n",
      "US92220P1057\n",
      "US50540R4092\n",
      "FR0000124141\n",
      "FI0009013296\n",
      "GB00B1CRLC47\n",
      "NL0011821392\n",
      "US8545021011\n",
      "FI0009013403\n",
      "IE00B4BNMY34\n",
      "DK0060534915\n",
      "US00724F1012\n",
      "US5949181045\n",
      "US46625H1005\n",
      "US57636Q1040\n",
      "CH0025751329\n",
      "NL0000009538\n",
      "NL0000687663\n",
      "US0382221051\n",
      "US1890541097\n",
      "US6541061031\n",
      "US5010441013\n",
      "US87612E1064\n",
      "FR0000121261\n",
      "US78409V1044\n",
      "US68902V1070\n",
      "US0536111091\n",
      "US3687361044\n",
      "JP3756600007\n",
      "US2172041061\n",
      "US0584981064\n",
      "US2283681060\n",
      "US5018892084\n",
      "US00183L1026\n",
      "US30057T1051\n",
      "JP3921290007\n",
      "US9288811014\n",
      "JP3866800000\n",
      "US4824801009\n",
      "US9892071054\n",
      "12100_1\n",
      "15000_1\n",
      "15000_2\n",
      "15000_3\n",
      "15000_4\n",
      "15000_5\n",
      "15000_6\n",
      "15000_7\n",
      "15000_8\n",
      "15000_9\n",
      "15000_10\n",
      "15000_11\n",
      "15100_1\n",
      "15100_2\n",
      "21100_1\n",
      "21102_1\n",
      "21255_1\n",
      "21280_1\n",
      "22111_1\n",
      "22146_1\n",
      "22187_1\n",
      "22772_1\n",
      "22773_1\n",
      "22100_1\n",
      "22120_1\n",
      "22160_1\n",
      "22210_1\n",
      "22230_1\n",
      "22449_1\n",
      "23100_1\n",
      "23105_1\n",
      "15000_12\n",
      "15000_13\n",
      "22100_2\n",
      "22120_2\n",
      "22145_1\n",
      "22160_2\n",
      "22210_2\n",
      "22449_2\n",
      "23100_2\n",
      "23105_2\n",
      "15000_14\n",
      "15000_15\n",
      "22100_3\n",
      "22120_3\n",
      "22145_2\n",
      "22160_3\n",
      "22210_3\n",
      "23105_3\n",
      "26400_1\n",
      "FEEDERCHF1_sell\n",
      "FEEDERCHF1_buy\n",
      "FEEDEREUR1_sell\n",
      "FEEDEREUR1_buy\n",
      "FEEDEREUR2_sell\n",
      "FEEDEREUR2_buy\n",
      "FEEDEREUR3_sell\n",
      "FEEDEREUR3_buy\n"
     ]
    }
   ],
   "source": [
    "for isin in generator.data_bucket.get_instruments_by_index(ALL).index:\n",
    "    sum_distribution = generator.data_bucket.processing_data.loc[(isin, ALL), \"distribution weight\"].sum().round(5)\n",
    "    "
   ]
  },
  {
   "cell_type": "code",
   "execution_count": null,
   "metadata": {},
   "outputs": [],
   "source": []
  }
 ],
 "metadata": {
  "kernelspec": {
   "display_name": "Python 3",
   "language": "python",
   "name": "python3"
  },
  "language_info": {
   "codemirror_mode": {
    "name": "ipython",
    "version": 3
   },
   "file_extension": ".py",
   "mimetype": "text/x-python",
   "name": "python",
   "nbconvert_exporter": "python",
   "pygments_lexer": "ipython3",
   "version": "3.8.5"
  }
 },
 "nbformat": 4,
 "nbformat_minor": 4
}
