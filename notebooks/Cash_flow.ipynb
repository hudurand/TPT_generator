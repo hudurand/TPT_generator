{
 "cells": [
  {
   "cell_type": "code",
   "execution_count": 1,
   "metadata": {},
   "outputs": [],
   "source": [
    "import pandas as pd\n",
    "from pathlib import Path"
   ]
  },
  {
   "cell_type": "code",
   "execution_count": 2,
   "metadata": {},
   "outputs": [],
   "source": [
    "root_path = Path('C:/Users/Hugo Durand/Workspace/data')\n",
    "CF_file_name = \"Template Cash flows TPT_20201231.xlsm\"\n",
    "report_file_name = \"20201231_BILMI_BIL Invest Bonds EUR Corporate Investment Grade - I EUR CAP_LU1689730718.xlsx\""
   ]
  },
  {
   "cell_type": "code",
   "execution_count": 3,
   "metadata": {},
   "outputs": [
    {
     "name": "stdout",
     "output_type": "stream",
     "text": [
      "20\n",
      "20\n"
     ]
    }
   ],
   "source": [
    "cols = \"A,C,D,E,F,G,H,I,J,K,L,M,N,O,P,Q,R,S,T,U\"\n",
    "col_names = [\"dates\", \"EUR\", \"DKK\", \"HUF\", \"NOK\", \"PLN\", \"RUB\", \"SEK\", \"CHF\", \"GBP\", \"AUD\", \"CAD\", \"HKD\", \"INR\", \"JPY\", \"MYR\", \"SGD\", \"KRW\", \"TWD\", \"USD\"]\n",
    "print(len(cols.split(',')))\n",
    "print(len(col_names))\n",
    "RFR = pd.read_excel(root_path / CF_file_name, sheet_name=\"rfr\", skiprows=9, index_col=0, names=col_names, usecols=cols)\n",
    "UP = pd.read_excel(root_path / CF_file_name, sheet_name=\"up\", skiprows=9, index_col=0, names=col_names, usecols=cols)\n",
    "DOWN = pd.read_excel(root_path / CF_file_name, sheet_name=\"down\", skiprows=9, index_col=0, names=col_names, usecols=cols)\n"
   ]
  },
  {
   "cell_type": "code",
   "execution_count": 4,
   "metadata": {},
   "outputs": [],
   "source": [
    "report = pd.read_excel(root_path / report_file_name, sheet_name=\"Report\", skiprows=2)\n",
    "#print(report.columns.to_list())\n",
    "report.rename(columns={\"Unnamed: 21\":\"quantity_nominal\"}, inplace=True)\n",
    "report.set_index(\"14_Identification code of the financial instrument\", inplace=True)"
   ]
  },
  {
   "cell_type": "code",
   "execution_count": 5,
   "metadata": {},
   "outputs": [
    {
     "data": {
      "text/plain": [
       "'FR0013245867'"
      ]
     },
     "execution_count": 5,
     "metadata": {},
     "output_type": "execute_result"
    }
   ],
   "source": [
    "isins = report.index.to_list()\n",
    "isins\n",
    "instrument = isins[10]\n",
    "instrument"
   ]
  },
  {
   "cell_type": "code",
   "execution_count": 6,
   "metadata": {},
   "outputs": [
    {
     "data": {
      "text/plain": [
       "'FR21'"
      ]
     },
     "execution_count": 6,
     "metadata": {},
     "output_type": "execute_result"
    }
   ],
   "source": [
    "report.loc[instrument, \"12_CIC code of the instrument\"]"
   ]
  },
  {
   "cell_type": "code",
   "execution_count": 7,
   "metadata": {},
   "outputs": [
    {
     "name": "stdout",
     "output_type": "stream",
     "text": [
      "1.0\n",
      "1.5\n",
      "1400000.0\n",
      "2028-03-27\n",
      "FR21\n",
      "2027-12-27\n",
      "2020-12-31\n",
      "100.0\n",
      "EUR\n"
     ]
    }
   ],
   "source": [
    "if report.loc[instrument, \"12_CIC code of the instrument\"][2] in [\"1\", \"2\", \"5\"]:\n",
    "    frequency = report.loc[instrument, \"38_Coupon payment frequency\"]\n",
    "    coupon = report.loc[instrument, \"33_Coupon rate\"]\n",
    "    notional = report.loc[instrument, \"quantity_nominal\"]\n",
    "    matdate = report.loc[instrument, \"39_Maturity date\"]\n",
    "    cic = report.loc[instrument, \"12_CIC code of the instrument\"]\n",
    "    optdate = report.loc[instrument, \"43_Call / put date\"]\n",
    "    repdate = report.loc[instrument, \"7_Reporting date\"]\n",
    "    strike = report.loc[instrument, \"45_Strike price for embedded (call/put) options\"]\n",
    "    currency = report.loc[instrument, \"21_Quotation currency (A)\"]\n",
    "    print(frequency)\n",
    "    print(coupon)\n",
    "    print(notional)\n",
    "    print(matdate)\n",
    "    print(cic)\n",
    "    print(optdate)\n",
    "    print(repdate)\n",
    "    print(strike)\n",
    "    print(currency)"
   ]
  },
  {
   "cell_type": "code",
   "execution_count": 8,
   "metadata": {},
   "outputs": [
    {
     "data": {
      "text/plain": [
       "14_Identification code of the financial instrument\n",
       "290018_1       2060-12-31\n",
       "267100_1       2060-12-31\n",
       "144120_1       2060-12-31\n",
       "265000_1       2060-12-31\n",
       "264293_1       2060-12-31\n",
       "                  ...    \n",
       "LU0144746509   2060-12-31\n",
       "LU1373033965   2060-12-31\n",
       "FR0012516417   2027-02-09\n",
       "FR0013346814   2025-07-02\n",
       "IE00B3T9LM79   2060-12-31\n",
       "Name: 39_Maturity date, Length: 150, dtype: datetime64[ns]"
      ]
     },
     "execution_count": 8,
     "metadata": {},
     "output_type": "execute_result"
    }
   ],
   "source": [
    "matdates = pd.to_datetime(report[\"39_Maturity date\"], errors='coerce')\n",
    "matdates.fillna(pd.to_datetime(repdate) + pd.offsets.DateOffset(years=40)) "
   ]
  },
  {
   "cell_type": "code",
   "execution_count": 9,
   "metadata": {},
   "outputs": [],
   "source": [
    "matdate = matdates.loc[instrument]\n",
    "repdate = pd.to_datetime(repdate)\n",
    "optdate = pd.to_datetime(optdate)\n",
    "matdate = pd.to_datetime(matdate)"
   ]
  },
  {
   "cell_type": "code",
   "execution_count": 10,
   "metadata": {},
   "outputs": [],
   "source": [
    "offset = pd.DateOffset(months=-12/frequency)"
   ]
  },
  {
   "cell_type": "code",
   "execution_count": 11,
   "metadata": {},
   "outputs": [
    {
     "data": {
      "text/plain": [
       "Timestamp('2027-03-27 00:00:00')"
      ]
     },
     "execution_count": 11,
     "metadata": {},
     "output_type": "execute_result"
    }
   ],
   "source": [
    "d = matdate + offset\n",
    "dates = [matdate]\n",
    "while d > repdate:\n",
    "    dates = [d] + dates\n",
    "    d = dates[0] + offset\n",
    "dates.append(optdate)\n",
    "dates = pd.DatetimeIndex(dates)\n",
    "dates = dates[dates <= optdate]\n",
    "dates[-2]"
   ]
  },
  {
   "cell_type": "code",
   "execution_count": 31,
   "metadata": {},
   "outputs": [
    {
     "data": {
      "text/html": [
       "<div>\n",
       "<style scoped>\n",
       "    .dataframe tbody tr th:only-of-type {\n",
       "        vertical-align: middle;\n",
       "    }\n",
       "\n",
       "    .dataframe tbody tr th {\n",
       "        vertical-align: top;\n",
       "    }\n",
       "\n",
       "    .dataframe thead th {\n",
       "        text-align: right;\n",
       "    }\n",
       "</style>\n",
       "<table border=\"1\" class=\"dataframe\">\n",
       "  <thead>\n",
       "    <tr style=\"text-align: right;\">\n",
       "      <th></th>\n",
       "      <th>rfr</th>\n",
       "      <th>up</th>\n",
       "      <th>down</th>\n",
       "    </tr>\n",
       "  </thead>\n",
       "  <tbody>\n",
       "    <tr>\n",
       "      <th>2021-03-27</th>\n",
       "      <td>2.103094e+04</td>\n",
       "      <td>2.098139e+04</td>\n",
       "      <td>2.103094e+04</td>\n",
       "    </tr>\n",
       "    <tr>\n",
       "      <th>2022-03-27</th>\n",
       "      <td>2.116289e+04</td>\n",
       "      <td>2.090268e+04</td>\n",
       "      <td>2.116289e+04</td>\n",
       "    </tr>\n",
       "    <tr>\n",
       "      <th>2023-03-27</th>\n",
       "      <td>2.129352e+04</td>\n",
       "      <td>2.082220e+04</td>\n",
       "      <td>2.129352e+04</td>\n",
       "    </tr>\n",
       "    <tr>\n",
       "      <th>2024-03-27</th>\n",
       "      <td>2.141447e+04</td>\n",
       "      <td>2.073155e+04</td>\n",
       "      <td>2.141447e+04</td>\n",
       "    </tr>\n",
       "    <tr>\n",
       "      <th>2025-03-27</th>\n",
       "      <td>2.152285e+04</td>\n",
       "      <td>2.062956e+04</td>\n",
       "      <td>2.152285e+04</td>\n",
       "    </tr>\n",
       "    <tr>\n",
       "      <th>2026-03-27</th>\n",
       "      <td>2.161480e+04</td>\n",
       "      <td>2.051171e+04</td>\n",
       "      <td>2.161480e+04</td>\n",
       "    </tr>\n",
       "    <tr>\n",
       "      <th>2027-03-27</th>\n",
       "      <td>2.168870e+04</td>\n",
       "      <td>2.037736e+04</td>\n",
       "      <td>2.168870e+04</td>\n",
       "    </tr>\n",
       "    <tr>\n",
       "      <th>2027-12-27</th>\n",
       "      <td>1.464855e+06</td>\n",
       "      <td>1.365984e+06</td>\n",
       "      <td>1.464855e+06</td>\n",
       "    </tr>\n",
       "  </tbody>\n",
       "</table>\n",
       "</div>"
      ],
      "text/plain": [
       "                     rfr            up          down\n",
       "2021-03-27  2.103094e+04  2.098139e+04  2.103094e+04\n",
       "2022-03-27  2.116289e+04  2.090268e+04  2.116289e+04\n",
       "2023-03-27  2.129352e+04  2.082220e+04  2.129352e+04\n",
       "2024-03-27  2.141447e+04  2.073155e+04  2.141447e+04\n",
       "2025-03-27  2.152285e+04  2.062956e+04  2.152285e+04\n",
       "2026-03-27  2.161480e+04  2.051171e+04  2.161480e+04\n",
       "2027-03-27  2.168870e+04  2.037736e+04  2.168870e+04\n",
       "2027-12-27  1.464855e+06  1.365984e+06  1.464855e+06"
      ]
     },
     "execution_count": 31,
     "metadata": {},
     "output_type": "execute_result"
    }
   ],
   "source": [
    "d1 = dates[-2]\n",
    "d2 = matdate\n",
    "cash_flow = pd.DataFrame(index=dates, columns=[\"rfr\", \"up\", \"down\"])\n",
    "cash_flow[\"rfr\"] = (coupon / frequency) / 100 * notional\n",
    "cash_flow[\"up\"] = (coupon / frequency) / 100 * notional\n",
    "cash_flow[\"down\"] = (coupon / frequency) / 100 * notional\n",
    "cash_flow.loc[optdate, \"rfr\"] = (coupon / frequency) / 100 * notional * ((optdate - d1) / (d2 - d1)) + notional * strike / 100\n",
    "cash_flow.loc[optdate, \"up\"] = (coupon / frequency) / 100 * notional * ((optdate - d1) / (d2 - d1)) + notional * strike / 100\n",
    "cash_flow.loc[optdate, \"down\"] = (coupon / frequency) / 100 * notional * ((optdate - d1) / (d2 - d1)) + notional * strike / 100\n",
    "\n",
    "cash_flow[\"rfr\"] = cash_flow[\"rfr\"] * RFR.loc[cash_flow.index, currency]\n",
    "cash_flow[\"up\"] = cash_flow[\"up\"] * UP.loc[cash_flow.index, currency]\n",
    "cash_flow[\"down\"] = cash_flow[\"down\"] * DOWN.loc[cash_flow.index, currency]\n",
    "cash_flow"
   ]
  },
  {
   "cell_type": "code",
   "execution_count": 32,
   "metadata": {
    "scrolled": true
   },
   "outputs": [
    {
     "data": {
      "text/plain": [
       "2021-03-27    1.001474\n",
       "2022-03-27    1.007757\n",
       "2023-03-27    1.013977\n",
       "2024-03-27    1.019737\n",
       "2025-03-27    1.024898\n",
       "2026-03-27    1.029276\n",
       "2027-03-27    1.032795\n",
       "2027-12-27    1.034664\n",
       "Name: EUR, dtype: float64"
      ]
     },
     "execution_count": 32,
     "metadata": {},
     "output_type": "execute_result"
    }
   ],
   "source": [
    "RFR.loc[cash_flow.index, currency]"
   ]
  },
  {
   "cell_type": "code",
   "execution_count": 36,
   "metadata": {},
   "outputs": [
    {
     "data": {
      "text/plain": [
       "2021-03-27    1.001474\n",
       "2022-03-27    1.007757\n",
       "2023-03-27    1.013977\n",
       "2024-03-27    1.019737\n",
       "2025-03-27    1.024898\n",
       "2026-03-27    1.029276\n",
       "2027-03-27    1.032795\n",
       "2027-12-27    1.034664\n",
       "Name: EUR, dtype: float64"
      ]
     },
     "execution_count": 36,
     "metadata": {},
     "output_type": "execute_result"
    }
   ],
   "source": [
    "DOWN.loc[cash_flow.index, currency]"
   ]
  },
  {
   "cell_type": "code",
   "execution_count": 33,
   "metadata": {},
   "outputs": [
    {
     "data": {
      "text/plain": [
       "0.0005659600728310086"
      ]
     },
     "execution_count": 33,
     "metadata": {},
     "output_type": "execute_result"
    }
   ],
   "source": [
    "column_97 = 1 - (cash_flow[\"up\"].sum()/cash_flow[\"rfr\"].sum())\n",
    "column_97 * report.loc[instrument, \"26_Valuation weight\"]"
   ]
  },
  {
   "cell_type": "code",
   "execution_count": 34,
   "metadata": {},
   "outputs": [
    {
     "data": {
      "text/plain": [
       "0.0"
      ]
     },
     "execution_count": 34,
     "metadata": {},
     "output_type": "execute_result"
    }
   ],
   "source": [
    "column_98 = 1 - (cash_flow[\"down\"].sum()/cash_flow[\"rfr\"].sum())\n",
    "column_98 * report.loc[instrument, \"26_Valuation weight\"]"
   ]
  },
  {
   "cell_type": "code",
   "execution_count": 39,
   "metadata": {},
   "outputs": [],
   "source": [
    "test = pd.DataFrame(columns=[\"rfr\", \"up\", \"down\"])"
   ]
  }
 ],
 "metadata": {
  "kernelspec": {
   "display_name": "Python 3",
   "language": "python",
   "name": "python3"
  },
  "language_info": {
   "codemirror_mode": {
    "name": "ipython",
    "version": 3
   },
   "file_extension": ".py",
   "mimetype": "text/x-python",
   "name": "python",
   "nbconvert_exporter": "python",
   "pygments_lexer": "ipython3",
   "version": "3.8.5"
  }
 },
 "nbformat": 4,
 "nbformat_minor": 4
}
