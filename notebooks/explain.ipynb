{
 "cells": [
  {
   "cell_type": "markdown",
   "metadata": {},
   "source": [
    "# TPT reporting methodology"
   ]
  },
  {
   "cell_type": "markdown",
   "metadata": {},
   "source": [
    "## Report generation process\n",
    "\n",
    "### Principles\n",
    "\n",
    "TPT reports are generated at the shareclass level, using datas coming from differents sources. A primary processing is applied to store the data in database in a unified fashion.\n",
    "\n",
    "Thus generating a report is done by getting data from database and processing it to ouput all informations required to fill the report.\n",
    "\n",
    "At present, not all necessary data is in database yet and some divergence still remains between clients. As a result missing data is read from files and per-client processing is applied when necessary.\n",
    "\n",
    "### Building blocks\n",
    "\n",
    "The TPT_generator package is divided into functionnal modules.\n",
    "- The **Fetcher** class is responsible for fetching the data in database and returning it stored in a pandas Dataframe. \n",
    "- The **Data_Bucket** class is responsible for holding the data necessary for the computation and feeding it to the generator while making sure that the necessary processing has been performed.\n",
    "- Processing of the data is done by multiple modules:\n",
    "    - The **Data_Processor** class is responsible for general computation such as the distribution of instruments values over the shareclasses, formatting and cleaning some datas or assigning value based on some conditions... in short all processing that is not done by one of the following modules.\n",
    "    - The **Cash_flow** class is responsible for computing the future cash flow.\n",
    "    - The **SCR_Module** class is responsible for computing Solvency Capital Requirement for each Risk submodules.\n",
    "    \n",
    "### Generation steps\n",
    "\n",
    "The generation process can be divided into several steps:\n",
    "1. **Initialisation of the generator**  \n",
    "    - Input generation parameters\n",
    "    - Initialisation of Data_Bucket object\n",
    "    - create an empty dataframe to fill  \n",
    "\n",
    "\n",
    "2. **Getting data from database (once for whole subfund)**  \n",
    "    Through the Fetcher object, data is obtained from the database and stored in dataframes inside the Data_Bucket object.\n",
    "    - date (config)\n",
    "    - client (config)\n",
    "    - shareclass_isin (config)\n",
    "    - source_dir (config)\n",
    "    - shareclass_infos (db)\n",
    "    - shareclass_nav (db)\n",
    "    - subfund_infos (db)\n",
    "    - fund_infos (db)\n",
    "    - instruments (db)\n",
    "    - instruments_infos (db)\n",
    "    - distribution_matrix (None - computed)\n",
    "    - processing_data (None - computed)\n",
    "    - scr (None - computed)\n",
    "\n",
    "\n",
    "3. **Processing data (once for whole subfund)**  \n",
    "    Processing the data is done at the subfund level to ensure coherence of the results and to avoid performing the same   computations multiple times. To store the data required to perform the processing as well as the results we build a multi-index dataframe where the level 1 index is the name of the instruments and the level 2 index is the isin of the shareclass. This allows to perform the computation in vectorized way for the whole subfund.\n",
    "    \n",
    "    - Compute_distribution_matrix\n",
    "    - Clean_instruments_infos\n",
    "    - process_instruments\n",
    "    - compute_processing_data\n",
    "\n",
    "\n",
    "4. **Computing SCR (per shareclass (at the moment))**  \n",
    "    - Interest Rate up (compute_97)\n",
    "    - Interest Rate down (compute 98)\n",
    "    - Market equity type1 (compute_99)\n",
    "    - Market equity type2 (compute_100)\n",
    "    - Market spread (compute_102)\n",
    "    - Currency up (compute_105a)\n",
    "    - Currency down (compute_105b)\n",
    "\n",
    "\n",
    "5. **Filling the report**\n",
    "\n",
    "\n",
    "6. **writing to file**\n",
    "\n",
    "    - output_excel"
   ]
  },
  {
   "cell_type": "markdown",
   "metadata": {},
   "source": [
    "###  Imports"
   ]
  },
  {
   "cell_type": "code",
   "execution_count": 1,
   "metadata": {},
   "outputs": [],
   "source": [
    "import sys\n",
    "import os\n",
    "sys.path.append(os.path.abspath('..'))\n",
    "\n",
    "import pandas as pd\n",
    "import numpy as np\n",
    "from pathlib import Path\n",
    "from TPT_generator_python import Data_Bucket, TPT_Fetcher, TPT_Generator"
   ]
  },
  {
   "cell_type": "markdown",
   "metadata": {},
   "source": [
    "###  Initialisation\n",
    "\n",
    "- date\n",
    "- client\n",
    "- isin of the shareclass\n",
    "- source directory (containing missing data and templates. should be removed in the future.)\n",
    "- output directory (for the generated report)\n",
    "- symmetric adjustment"
   ]
  },
  {
   "cell_type": "code",
   "execution_count": 2,
   "metadata": {},
   "outputs": [],
   "source": [
    "DATE = \"2020-12-31\"\n",
    "CLIENT = \"BIL\"\n",
    "ISIN = \"LU1689730718\"\n",
    "SOURCE_DIR = Path(\"../data\")\n",
    "OUTPUT_DIR = './production/example'"
   ]
  },
  {
   "cell_type": "code",
   "execution_count": 3,
   "metadata": {
    "scrolled": true
   },
   "outputs": [
    {
     "name": "stdout",
     "output_type": "stream",
     "text": [
      "\n",
      "    Reporting date:          2020-12-31\n",
      "    Client:                  BIL\n",
      "    Shareclass isin:         LU1689730718 \n",
      "        \n",
      "\n",
      "    fund infos:              (1, 10)\n",
      "CODE:                                            549300IVXKQHV6O7PY61\n",
      "NAME:                                            BIL Invest\n",
      "COUNTRY:                                         LU\n",
      "...\n",
      "\n",
      "    subfund infos:           (1, 9)\n",
      "CODE:                                            5493003HFW1KPBNTNU32\n",
      "NAME:                                            BIL Invest Bonds EUR Corporate Investment Grade\n",
      "CURRENCY:                                        EUR\n",
      "...\n",
      "\n",
      "    shareclass infos:        (3, 7)\n",
      "ISIN:                                            LU1689730718\n",
      "NAME:                                            BIL Invest Bonds EUR Corporate Investment Grade - I EUR CAP\n",
      "CURRENCY:                                        EUR\n",
      "...\n",
      "\n",
      "ISIN:                                            LU1689730809\n",
      "NAME:                                            BIL Invest Bonds EUR Corporate Investment Grade - P EUR CAP\n",
      "CURRENCY:                                        EUR\n",
      "...\n",
      "\n",
      "ISIN:                                            LU1689730981\n",
      "NAME:                                            BIL Invest Bonds EUR Corporate Investment Grade - P EUR DIS\n",
      "CURRENCY:                                        EUR\n",
      "...\n",
      "\n",
      "    shareclass nav:          (3, 6)\n",
      "NAV DATE:                                        2020-12-31\n",
      "TNA in shareclass currency:                      160459621.07\n",
      "TNA in subfund currency:                         160459621.07\n",
      "TNA of subfund:                                  176919328.79\n",
      "...\n",
      "\n",
      "NAV DATE:                                        2020-12-31\n",
      "TNA in shareclass currency:                      14752662.26\n",
      "TNA in subfund currency:                         14752662.26\n",
      "TNA of subfund:                                  176919328.79\n",
      "...\n",
      "\n",
      "NAV DATE:                                        2020-12-31\n",
      "TNA in shareclass currency:                      1707045.46\n",
      "TNA in subfund currency:                         1707045.46\n",
      "TNA of subfund:                                  176919328.79\n",
      "...\n",
      "\n",
      "    instruments:             (157, 15)\n",
      "TNA of instruments values in subfund currency:   176919328.79\n",
      "\n",
      "\n",
      "    instruments infos:       (157, 73)\n",
      "        \n"
     ]
    }
   ],
   "source": [
    "# Initialise a TPT_Generator object:\n",
    "# Define generating constants\n",
    "# Initialise a Data_Bucket object to hold generating data\n",
    "# Initialise an empty Dataframe of correct dimensions to hold the report's data.\n",
    "generator = TPT_Generator(DATE,\n",
    "                          CLIENT,\n",
    "                          ISIN,\n",
    "                          SOURCE_DIR,\n",
    "                          OUTPUT_DIR)\n",
    "\n",
    "print(generator)\n",
    "generator.data_bucket.fetch()\n",
    "print(generator.data_bucket)"
   ]
  },
  {
   "cell_type": "markdown",
   "metadata": {},
   "source": [
    "###  Portfolio characteristics and valuation [1-11]\n",
    "\n",
    "These columns have the same value for all rows of the report.\n",
    "- Columns **1 and 11** are filled with data originating from config.\n",
    "- Columns **2 to 8** are filled with data originating from database.\n",
    "- Column **9** is the sum of the values in portfolio currency of cash account (CIC code XT72) over the total net asset of the shareclass in portfolio currency.\n",
    "- Column **10** "
   ]
  },
  {
   "cell_type": "code",
   "execution_count": 4,
   "metadata": {},
   "outputs": [
    {
     "name": "stdout",
     "output_type": "stream",
     "text": [
      "None\n"
     ]
    }
   ],
   "source": []
  },
  {
   "cell_type": "code",
   "execution_count": 5,
   "metadata": {},
   "outputs": [
    {
     "data": {
      "text/plain": [
       "'isin'"
      ]
     },
     "execution_count": 5,
     "metadata": {},
     "output_type": "execute_result"
    }
   ],
   "source": [
    "\"', '\".join([\"isin\"])"
   ]
  },
  {
   "cell_type": "code",
   "execution_count": null,
   "metadata": {},
   "outputs": [],
   "source": []
  }
 ],
 "metadata": {
  "kernelspec": {
   "display_name": "Python 3",
   "language": "python",
   "name": "python3"
  },
  "language_info": {
   "codemirror_mode": {
    "name": "ipython",
    "version": 3
   },
   "file_extension": ".py",
   "mimetype": "text/x-python",
   "name": "python",
   "nbconvert_exporter": "python",
   "pygments_lexer": "ipython3",
   "version": "3.8.5"
  }
 },
 "nbformat": 4,
 "nbformat_minor": 4
}
