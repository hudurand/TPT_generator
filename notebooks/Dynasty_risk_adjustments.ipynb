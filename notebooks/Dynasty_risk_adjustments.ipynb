{
 "cells": [
  {
   "cell_type": "markdown",
   "metadata": {},
   "source": [
    "###  Dynasty risk adjustment"
   ]
  },
  {
   "cell_type": "code",
   "execution_count": 1,
   "metadata": {},
   "outputs": [],
   "source": [
    "import sys\n",
    "import os\n",
    "sys.path.append(os.path.abspath('..'))\n",
    "\n",
    "import pandas as pd\n",
    "import numpy as np\n",
    "from pathlib import Path\n",
    "from TPT_generator_python import DataBucket, TPTFetcher, TPTGenerator"
   ]
  },
  {
   "cell_type": "code",
   "execution_count": 2,
   "metadata": {},
   "outputs": [],
   "source": [
    "DATE = \"2020-12-31\"\n",
    "CLIENT = \"Pictet\"\n",
    "ISIN = \"LU1787059465\"\n",
    "SYMADJ = -0.48\n",
    "SOURCE_DIR = Path(\"../data\")\n",
    "OUTPUT_DIR = './production/example'\n",
    "ALL = slice(None)"
   ]
  },
  {
   "cell_type": "code",
   "execution_count": 3,
   "metadata": {},
   "outputs": [
    {
     "data": {
      "text/plain": [
       "\n",
       "    Reporting date:          2020-12-31\n",
       "    Client:                  Pictet\n",
       "    Shareclass isin:         LU1787059465 \n",
       "    number of instruments:   82\n",
       "        "
      ]
     },
     "execution_count": 3,
     "metadata": {},
     "output_type": "execute_result"
    }
   ],
   "source": [
    "generator = TPTGenerator(DATE,\n",
    "                         CLIENT,\n",
    "                         OUTPUT_DIR,\n",
    "                         SOURCE_DIR,\n",
    "                         sym_adj=SYMADJ,\n",
    "                         shareclass_isin=ISIN)\n",
    "generator"
   ]
  },
  {
   "cell_type": "code",
   "execution_count": 6,
   "metadata": {},
   "outputs": [
    {
     "data": {
      "text/plain": [
       "0     20\n",
       "11    28\n",
       "14    56\n",
       "Name: group_id, dtype: int64"
      ]
     },
     "execution_count": 6,
     "metadata": {},
     "output_type": "execute_result"
    }
   ],
   "source": [
    "generator.data_bucket.get_instruments(ALL).shape\n",
    "generator.data_bucket.get_groups()"
   ]
  },
  {
   "cell_type": "code",
   "execution_count": 5,
   "metadata": {},
   "outputs": [
    {
     "name": "stdout",
     "output_type": "stream",
     "text": [
      "subfund currency:  USD\n"
     ]
    },
    {
     "data": {
      "text/html": [
       "<div>\n",
       "<style scoped>\n",
       "    .dataframe tbody tr th:only-of-type {\n",
       "        vertical-align: middle;\n",
       "    }\n",
       "\n",
       "    .dataframe tbody tr th {\n",
       "        vertical-align: top;\n",
       "    }\n",
       "\n",
       "    .dataframe thead th {\n",
       "        text-align: right;\n",
       "    }\n",
       "</style>\n",
       "<table border=\"1\" class=\"dataframe\">\n",
       "  <thead>\n",
       "    <tr style=\"text-align: right;\">\n",
       "      <th></th>\n",
       "      <th>id</th>\n",
       "      <th>shareclass</th>\n",
       "      <th>shareclass_id</th>\n",
       "      <th>shareclass_currency</th>\n",
       "      <th>shareclass_name</th>\n",
       "      <th>id_subfund</th>\n",
       "      <th>type_tpt</th>\n",
       "    </tr>\n",
       "    <tr>\n",
       "      <th>code_isin</th>\n",
       "      <th></th>\n",
       "      <th></th>\n",
       "      <th></th>\n",
       "      <th></th>\n",
       "      <th></th>\n",
       "      <th></th>\n",
       "      <th></th>\n",
       "    </tr>\n",
       "  </thead>\n",
       "  <tbody>\n",
       "    <tr>\n",
       "      <th>LU1787059465</th>\n",
       "      <td>463</td>\n",
       "      <td>A1E</td>\n",
       "      <td>None</td>\n",
       "      <td>EUR</td>\n",
       "      <td>Decalia SICAV - Circular Economy - A1E</td>\n",
       "      <td>148</td>\n",
       "      <td>1</td>\n",
       "    </tr>\n",
       "    <tr>\n",
       "      <th>LU1787059036</th>\n",
       "      <td>464</td>\n",
       "      <td>A1U</td>\n",
       "      <td>None</td>\n",
       "      <td>USD</td>\n",
       "      <td>Decalia SICAV - Circular Economy - A1U</td>\n",
       "      <td>148</td>\n",
       "      <td>1</td>\n",
       "    </tr>\n",
       "    <tr>\n",
       "      <th>LU1787061107</th>\n",
       "      <td>465</td>\n",
       "      <td>I</td>\n",
       "      <td>None</td>\n",
       "      <td>USD</td>\n",
       "      <td>Decalia SICAV - Circular Economy - I</td>\n",
       "      <td>148</td>\n",
       "      <td>1</td>\n",
       "    </tr>\n",
       "    <tr>\n",
       "      <th>LU1787061362</th>\n",
       "      <td>466</td>\n",
       "      <td>IC</td>\n",
       "      <td>None</td>\n",
       "      <td>CHF</td>\n",
       "      <td>Decalia SICAV - Circular Economy - IC</td>\n",
       "      <td>148</td>\n",
       "      <td>1</td>\n",
       "    </tr>\n",
       "    <tr>\n",
       "      <th>LU1787061529</th>\n",
       "      <td>467</td>\n",
       "      <td>IE</td>\n",
       "      <td>None</td>\n",
       "      <td>EUR</td>\n",
       "      <td>Decalia SICAV - Circular Economy - IE</td>\n",
       "      <td>148</td>\n",
       "      <td>1</td>\n",
       "    </tr>\n",
       "    <tr>\n",
       "      <th>LU1787060471</th>\n",
       "      <td>468</td>\n",
       "      <td>R</td>\n",
       "      <td>None</td>\n",
       "      <td>USD</td>\n",
       "      <td>Decalia SICAV - Circular Economy - R</td>\n",
       "      <td>148</td>\n",
       "      <td>1</td>\n",
       "    </tr>\n",
       "  </tbody>\n",
       "</table>\n",
       "</div>"
      ],
      "text/plain": [
       "               id shareclass shareclass_id shareclass_currency  \\\n",
       "code_isin                                                        \n",
       "LU1787059465  463        A1E          None                 EUR   \n",
       "LU1787059036  464        A1U          None                 USD   \n",
       "LU1787061107  465          I          None                 USD   \n",
       "LU1787061362  466         IC          None                 CHF   \n",
       "LU1787061529  467         IE          None                 EUR   \n",
       "LU1787060471  468          R          None                 USD   \n",
       "\n",
       "                                     shareclass_name  id_subfund type_tpt  \n",
       "code_isin                                                                  \n",
       "LU1787059465  Decalia SICAV - Circular Economy - A1E         148        1  \n",
       "LU1787059036  Decalia SICAV - Circular Economy - A1U         148        1  \n",
       "LU1787061107    Decalia SICAV - Circular Economy - I         148        1  \n",
       "LU1787061362   Decalia SICAV - Circular Economy - IC         148        1  \n",
       "LU1787061529   Decalia SICAV - Circular Economy - IE         148        1  \n",
       "LU1787060471    Decalia SICAV - Circular Economy - R         148        1  "
      ]
     },
     "execution_count": 5,
     "metadata": {},
     "output_type": "execute_result"
    }
   ],
   "source": [
    "print(\"subfund currency: \", generator.data_bucket.get_subfund_infos('subfund_currency'))\n",
    "generator.data_bucket.get_shareclass_infos(isin=ALL)"
   ]
  },
  {
   "cell_type": "code",
   "execution_count": 6,
   "metadata": {},
   "outputs": [
    {
     "data": {
      "text/html": [
       "<div>\n",
       "<style scoped>\n",
       "    .dataframe tbody tr th:only-of-type {\n",
       "        vertical-align: middle;\n",
       "    }\n",
       "\n",
       "    .dataframe tbody tr th {\n",
       "        vertical-align: top;\n",
       "    }\n",
       "\n",
       "    .dataframe thead th {\n",
       "        text-align: right;\n",
       "    }\n",
       "</style>\n",
       "<table border=\"1\" class=\"dataframe\">\n",
       "  <thead>\n",
       "    <tr style=\"text-align: right;\">\n",
       "      <th></th>\n",
       "      <th>shareclass_total_net_asset_sc_curr</th>\n",
       "      <th>shareclass_total_net_asset_sf_curr</th>\n",
       "      <th>subfund_total_net_asset</th>\n",
       "    </tr>\n",
       "    <tr>\n",
       "      <th>shareclass</th>\n",
       "      <th></th>\n",
       "      <th></th>\n",
       "      <th></th>\n",
       "    </tr>\n",
       "  </thead>\n",
       "  <tbody>\n",
       "    <tr>\n",
       "      <th>LU1280365476</th>\n",
       "      <td>2.580789e+07</td>\n",
       "      <td>2.386180e+07</td>\n",
       "      <td>3.301555e+08</td>\n",
       "    </tr>\n",
       "    <tr>\n",
       "      <th>LU1280365633</th>\n",
       "      <td>1.331171e+08</td>\n",
       "      <td>1.331171e+08</td>\n",
       "      <td>3.301555e+08</td>\n",
       "    </tr>\n",
       "    <tr>\n",
       "      <th>LU1280365393</th>\n",
       "      <td>1.032699e+08</td>\n",
       "      <td>1.032699e+08</td>\n",
       "      <td>3.301555e+08</td>\n",
       "    </tr>\n",
       "    <tr>\n",
       "      <th>LU1280365559</th>\n",
       "      <td>1.648996e+07</td>\n",
       "      <td>1.347714e+07</td>\n",
       "      <td>3.301555e+08</td>\n",
       "    </tr>\n",
       "    <tr>\n",
       "      <th>LU1483663818</th>\n",
       "      <td>4.054038e+07</td>\n",
       "      <td>3.748335e+07</td>\n",
       "      <td>3.301555e+08</td>\n",
       "    </tr>\n",
       "    <tr>\n",
       "      <th>LU1840818220</th>\n",
       "      <td>1.094834e+06</td>\n",
       "      <td>1.223149e+06</td>\n",
       "      <td>3.301555e+08</td>\n",
       "    </tr>\n",
       "    <tr>\n",
       "      <th>LU1586705938</th>\n",
       "      <td>7.134391e+06</td>\n",
       "      <td>5.830894e+06</td>\n",
       "      <td>3.301555e+08</td>\n",
       "    </tr>\n",
       "    <tr>\n",
       "      <th>LU1508332993</th>\n",
       "      <td>1.189213e+07</td>\n",
       "      <td>1.189213e+07</td>\n",
       "      <td>3.301555e+08</td>\n",
       "    </tr>\n",
       "  </tbody>\n",
       "</table>\n",
       "</div>"
      ],
      "text/plain": [
       "              shareclass_total_net_asset_sc_curr  \\\n",
       "shareclass                                         \n",
       "LU1280365476                        2.580789e+07   \n",
       "LU1280365633                        1.331171e+08   \n",
       "LU1280365393                        1.032699e+08   \n",
       "LU1280365559                        1.648996e+07   \n",
       "LU1483663818                        4.054038e+07   \n",
       "LU1840818220                        1.094834e+06   \n",
       "LU1586705938                        7.134391e+06   \n",
       "LU1508332993                        1.189213e+07   \n",
       "\n",
       "              shareclass_total_net_asset_sf_curr  subfund_total_net_asset  \n",
       "shareclass                                                                 \n",
       "LU1280365476                        2.386180e+07             3.301555e+08  \n",
       "LU1280365633                        1.331171e+08             3.301555e+08  \n",
       "LU1280365393                        1.032699e+08             3.301555e+08  \n",
       "LU1280365559                        1.347714e+07             3.301555e+08  \n",
       "LU1483663818                        3.748335e+07             3.301555e+08  \n",
       "LU1840818220                        1.223149e+06             3.301555e+08  \n",
       "LU1586705938                        5.830894e+06             3.301555e+08  \n",
       "LU1508332993                        1.189213e+07             3.301555e+08  "
      ]
     },
     "execution_count": 6,
     "metadata": {},
     "output_type": "execute_result"
    }
   ],
   "source": [
    "navs = generator.data_bucket.get_shareclass_nav(isin=ALL, info=['shareclass_total_net_asset_sc_curr',\n",
    "                                                                'shareclass_total_net_asset_sf_curr',\n",
    "                                                                'subfund_total_net_asset'])\n",
    "navs"
   ]
  },
  {
   "cell_type": "code",
   "execution_count": 7,
   "metadata": {},
   "outputs": [
    {
     "name": "stdout",
     "output_type": "stream",
     "text": [
      "sum of shareclass navs:  330155476.93\n",
      "TNA of subfund:          330155476.93\n"
     ]
    }
   ],
   "source": [
    "print(\"sum of shareclass navs: \", navs[\"shareclass_total_net_asset_sf_curr\"].sum())\n",
    "print(\"TNA of subfund:         \", navs[\"subfund_total_net_asset\"].iloc[0])\n",
    "## if sum == TNA ==> no navs missing"
   ]
  },
  {
   "cell_type": "code",
   "execution_count": 27,
   "metadata": {},
   "outputs": [
    {
     "name": "stdout",
     "output_type": "stream",
     "text": [
      "23861795.520000003\n",
      "23861795.52\n"
     ]
    }
   ],
   "source": [
    "generator.data_bucket.processing_data = None\n",
    "dist_vec = generator.data_bucket.get_distribution_vector()\n",
    "print(dist_vec.sum())\n",
    "## if no fake line, should be equel to shareclass nav\n",
    "print(generator.data_bucket.get_shareclass_nav(info=['shareclass_total_net_asset_sf_curr']).iloc[0])"
   ]
  },
  {
   "cell_type": "code",
   "execution_count": 12,
   "metadata": {},
   "outputs": [
    {
     "name": "stdout",
     "output_type": "stream",
     "text": [
      "23299334.48197175\n",
      "129990578.91641122\n",
      "7761794.81\n",
      "322393682.12\n"
     ]
    }
   ],
   "source": [
    "sum_ = generator.data_bucket.processing_data.loc[(ALL, ALL), \"distribution\"].sum()\n",
    "sum_1 = generator.data_bucket.processing_data.loc[(ALL, navs.index[0]), \"distribution\"].sum()\n",
    "sum_2 = generator.data_bucket.processing_data.loc[(ALL, navs.index[1]), \"distribution\"].sum()\n",
    "print(sum_1)\n",
    "print(sum_2)\n",
    "print(round(navs[\"subfund_total_net_asset\"].iloc[0] - sum_, 5))\n",
    "print(sum_)"
   ]
  },
  {
   "cell_type": "code",
   "execution_count": 25,
   "metadata": {},
   "outputs": [],
   "source": [
    "instruments = generator.data_bucket.get_instruments_by_index(idx= ALL, info=[\"asset_name\", \"market_value_fund\"])\n",
    "fake_lines = instruments.loc[instruments[\"asset_name\"].str.contains(\"Currency hedging liability\", regex=False)]\n",
    "fake_lines[\"market_value_fund\"].sum()\n",
    "generator.data_bucket.instruments.drop(fake_lines.index, inplace=True)"
   ]
  },
  {
   "cell_type": "code",
   "execution_count": 23,
   "metadata": {},
   "outputs": [
    {
     "name": "stdout",
     "output_type": "stream",
     "text": [
      "23299334.48197175\n",
      "-1712331.0322312966\n",
      "25011665.514203046\n",
      "23861795.52\n"
     ]
    }
   ],
   "source": [
    "#generator.data_bucket.get_processing_data(\"distribution\").loc[fake_lines.index]\n",
    "curr_liabl = generator.data_bucket.processing_data.loc[(fake_lines.index, \"LU1280365476\"), \"distribution\"].sum()\n",
    "print(dist_vec.sum())\n",
    "print(curr_liabl)\n",
    "print(dist_vec.sum() - curr_liabl)\n",
    "print(generator.data_bucket.get_shareclass_nav(info=['shareclass_total_net_asset_sf_curr']).iloc[0])"
   ]
  },
  {
   "cell_type": "code",
   "execution_count": null,
   "metadata": {},
   "outputs": [],
   "source": []
  }
 ],
 "metadata": {
  "kernelspec": {
   "display_name": "Python 3",
   "language": "python",
   "name": "python3"
  },
  "language_info": {
   "codemirror_mode": {
    "name": "ipython",
    "version": 3
   },
   "file_extension": ".py",
   "mimetype": "text/x-python",
   "name": "python",
   "nbconvert_exporter": "python",
   "pygments_lexer": "ipython3",
   "version": "3.8.5"
  }
 },
 "nbformat": 4,
 "nbformat_minor": 4
}
