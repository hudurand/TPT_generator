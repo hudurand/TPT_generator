{
 "cells": [
  {
   "cell_type": "code",
   "execution_count": 1,
   "metadata": {},
   "outputs": [],
   "source": [
    "import sys\n",
    "import os\n",
    "sys.path.append(os.path.abspath('..'))\n",
    "\n",
    "import pandas as pd\n",
    "import numpy as np\n",
    "from pathlib import Path\n",
    "from TPT_generator_python import Data_Bucket, TPT_Fetcher\n",
    "from TPT_generator_python.constants import FIELDS"
   ]
  },
  {
   "cell_type": "code",
   "execution_count": 2,
   "metadata": {},
   "outputs": [],
   "source": [
    "DATE = \"2020-12-31\"\n",
    "CLIENT = \"BIL\"\n",
    "ISIN = \"LU1689730718\"\n",
    "SOURCE_DIR = Path(\"../data\")"
   ]
  },
  {
   "cell_type": "code",
   "execution_count": 3,
   "metadata": {},
   "outputs": [],
   "source": [
    "bucket = Data_Bucket(DATE, CLIENT, ISIN, SOURCE_DIR)"
   ]
  },
  {
   "cell_type": "code",
   "execution_count": 4,
   "metadata": {},
   "outputs": [
    {
     "name": "stdout",
     "output_type": "stream",
     "text": [
      "14_Identification code of the financial instrument\n",
      "294880_1        XT79\n",
      "294864_1        XT79\n",
      "290034_1        XT79\n",
      "290018_1        XT79\n",
      "267287_1        XT79\n",
      "                ... \n",
      "XS2221845683    DE28\n",
      "IE00B3T9LM79    DE42\n",
      "LU1663872726    XL42\n",
      "LU0144746509    XL42\n",
      "LU1373033965    XL42\n",
      "Name: 12_CIC code of the instrument, Length: 157, dtype: object\n"
     ]
    }
   ],
   "source": [
    "print(bucket.get_instruments_infos(info=FIELDS[\"12\"], instruments=\"all\"))"
   ]
  },
  {
   "cell_type": "code",
   "execution_count": 7,
   "metadata": {},
   "outputs": [
    {
     "name": "stdout",
     "output_type": "stream",
     "text": [
      "['LU1689730718', 'LU1689730809', 'LU1689730981']\n",
      "MultiIndex([(    '294880_1', 'LU1689730718'),\n",
      "            (    '294880_1', 'LU1689730809'),\n",
      "            (    '294880_1', 'LU1689730981'),\n",
      "            (    '294864_1', 'LU1689730718'),\n",
      "            (    '294864_1', 'LU1689730809'),\n",
      "            (    '294864_1', 'LU1689730981'),\n",
      "            (    '290034_1', 'LU1689730718'),\n",
      "            (    '290034_1', 'LU1689730809'),\n",
      "            (    '290034_1', 'LU1689730981'),\n",
      "            (    '290018_1', 'LU1689730718'),\n",
      "            ...\n",
      "            ('IE00B3T9LM79', 'LU1689730981'),\n",
      "            ('LU1663872726', 'LU1689730718'),\n",
      "            ('LU1663872726', 'LU1689730809'),\n",
      "            ('LU1663872726', 'LU1689730981'),\n",
      "            ('LU0144746509', 'LU1689730718'),\n",
      "            ('LU0144746509', 'LU1689730809'),\n",
      "            ('LU0144746509', 'LU1689730981'),\n",
      "            ('LU1373033965', 'LU1689730718'),\n",
      "            ('LU1373033965', 'LU1689730809'),\n",
      "            ('LU1373033965', 'LU1689730981')],\n",
      "           names=['instrument', 'shareclass'], length=471)\n"
     ]
    }
   ],
   "source": [
    "isins = bucket.get_isins_in_group()\n",
    "print(isins)\n",
    "MI = pd.MultiIndex.from_product([bucket.get_instruments(indicator=\"all\").index,\n",
    "                                 isins], names=[\"instrument\", \"shareclass\"])\n",
    "print(MI)"
   ]
  },
  {
   "cell_type": "code",
   "execution_count": 20,
   "metadata": {},
   "outputs": [
    {
     "data": {
      "text/html": [
       "<div>\n",
       "<style scoped>\n",
       "    .dataframe tbody tr th:only-of-type {\n",
       "        vertical-align: middle;\n",
       "    }\n",
       "\n",
       "    .dataframe tbody tr th {\n",
       "        vertical-align: top;\n",
       "    }\n",
       "\n",
       "    .dataframe thead th {\n",
       "        text-align: right;\n",
       "    }\n",
       "</style>\n",
       "<table border=\"1\" class=\"dataframe\">\n",
       "  <thead>\n",
       "    <tr style=\"text-align: right;\">\n",
       "      <th></th>\n",
       "      <th></th>\n",
       "    </tr>\n",
       "    <tr>\n",
       "      <th>instrument</th>\n",
       "      <th>shareclass</th>\n",
       "    </tr>\n",
       "  </thead>\n",
       "  <tbody>\n",
       "    <tr>\n",
       "      <th>290018_1</th>\n",
       "      <th>LU1689730718</th>\n",
       "    </tr>\n",
       "    <tr>\n",
       "      <th>267100_1</th>\n",
       "      <th>LU1689730718</th>\n",
       "    </tr>\n",
       "    <tr>\n",
       "      <th>144120_1</th>\n",
       "      <th>LU1689730718</th>\n",
       "    </tr>\n",
       "    <tr>\n",
       "      <th>265000_1</th>\n",
       "      <th>LU1689730718</th>\n",
       "    </tr>\n",
       "    <tr>\n",
       "      <th>264293_1</th>\n",
       "      <th>LU1689730718</th>\n",
       "    </tr>\n",
       "    <tr>\n",
       "      <th>...</th>\n",
       "      <th>...</th>\n",
       "    </tr>\n",
       "    <tr>\n",
       "      <th>XS2221845683</th>\n",
       "      <th>LU1689730718</th>\n",
       "    </tr>\n",
       "    <tr>\n",
       "      <th>IE00B3T9LM79</th>\n",
       "      <th>LU1689730718</th>\n",
       "    </tr>\n",
       "    <tr>\n",
       "      <th>LU1663872726</th>\n",
       "      <th>LU1689730718</th>\n",
       "    </tr>\n",
       "    <tr>\n",
       "      <th>LU0144746509</th>\n",
       "      <th>LU1689730718</th>\n",
       "    </tr>\n",
       "    <tr>\n",
       "      <th>LU1373033965</th>\n",
       "      <th>LU1689730718</th>\n",
       "    </tr>\n",
       "  </tbody>\n",
       "</table>\n",
       "<p>150 rows × 0 columns</p>\n",
       "</div>"
      ],
      "text/plain": [
       "Empty DataFrame\n",
       "Columns: []\n",
       "Index: [(290018_1, LU1689730718), (267100_1, LU1689730718), (144120_1, LU1689730718), (265000_1, LU1689730718), (264293_1, LU1689730718), (155000_1, LU1689730718), (152001_1, LU1689730718), (XS1603892149, LU1689730718), (XS1872038218, LU1689730718), (BE0002597756, LU1689730718), (FR0013245867, LU1689730718), (XS1877595014, LU1689730718), (XS1880928459, LU1689730718), (BE0002611896, LU1689730718), (FR0013369493, LU1689730718), (FR0013378460, LU1689730718), (BE6285455497, LU1689730718), (FR0013384567, LU1689730718), (XS1419869885, LU1689730718), (FR0013399680, LU1689730718), (XS1960678255, LU1689730718), (XS1962513674, LU1689730718), (XS1969600748, LU1689730718), (XS1973750869, LU1689730718), (XS1979490239, LU1689730718), (XS1978668298, LU1689730718), (XS1843441491, LU1689730718), (XS1485643610, LU1689730718), (XS1987729412, LU1689730718), (XS1490960942, LU1689730718), (XS2003442436, LU1689730718), (DE000A2YNQW7, LU1689730718), (XS2016807864, LU1689730718), (XS2019814503, LU1689730718), (XS2020580945, LU1689730718), (BE0002660414, LU1689730718), (XS2025466413, LU1689730718), (XS2034622048, LU1689730718), (BE6315719490, LU1689730718), (XS2049584084, LU1689730718), (XS2049769297, LU1689730718), (FR0013445137, LU1689730718), (XS1565699763, LU1689730718), (FR0013247202, LU1689730718), (XS1716820029, LU1689730718), (PTGALLOM0004, LU1689730718), (XS2054209833, LU1689730718), (XS1725678194, LU1689730718), (XS0951553592, LU1689730718), (XS1048428442, LU1689730718), (XS1112850125, LU1689730718), (AT0000A1D5E1, LU1689730718), (FR0012759744, LU1689730718), (XS1309436910, LU1689730718), (XS1362349943, LU1689730718), (XS1446746189, LU1689730718), (XS1529515584, LU1689730718), (FR0013322187, LU1689730718), (XS1791704189, LU1689730718), (DE000A2LQ5M4, LU1689730718), (XS1888221261, LU1689730718), (FR0013381704, LU1689730718), (XS1951313763, LU1689730718), (XS1989708836, LU1689730718), (XS1843436228, LU1689730718), (XS2001278899, LU1689730718), (XS2084510069, LU1689730718), (DE000A2SBDE0, LU1689730718), (XS2176534795, LU1689730718), (XS2125914593, LU1689730718), (XS2056491587, LU1689730718), (XS2058556296, LU1689730718), (ES0265936015, LU1689730718), (XS2063495811, LU1689730718), (XS2065601937, LU1689730718), (XS1759603761, LU1689730718), (FR0013452893, LU1689730718), (XS2078761785, LU1689730718), (XS2070192591, LU1689730718), (XS2081018629, LU1689730718), (BE0002679604, LU1689730718), (FR0013464815, LU1689730718), (XS2091606330, LU1689730718), (DE000A2G9HU0, LU1689730718), (XS2100788780, LU1689730718), (XS2101558307, LU1689730718), (DE000DL19U23, LU1689730718), (XS2099704731, LU1689730718), (XS2105735935, LU1689730718), (XS2115091808, LU1689730718), (XS2116503546, LU1689730718), (XS2114852218, LU1689730718), (XS2117485677, LU1689730718), (XS1002121454, LU1689730718), (XS2125426796, LU1689730718), (XS1788515606, LU1689730718), (XS2148623106, LU1689730718), (XS2150006562, LU1689730718), (XS2151059206, LU1689730718), (XS0867620725, LU1689730718), ...]\n",
       "\n",
       "[150 rows x 0 columns]"
      ]
     },
     "execution_count": 20,
     "metadata": {},
     "output_type": "execute_result"
    }
   ],
   "source": [
    "test = pd.DataFrame(index=MI)\n",
    "All = slice(None)\n",
    "test.loc[(bucket.get_instruments().index, isins[0]), All]"
   ]
  },
  {
   "cell_type": "code",
   "execution_count": 21,
   "metadata": {},
   "outputs": [
    {
     "data": {
      "text/plain": [
       "14_Identification code of the financial instrument\n",
       "294880_1       -0.000000e+00\n",
       "294864_1       -0.000000e+00\n",
       "290034_1       -0.000000e+00\n",
       "290018_1       -2.671263e+04\n",
       "267287_1       -0.000000e+00\n",
       "                    ...     \n",
       "XS2221845683    3.785520e+05\n",
       "IE00B3T9LM79    2.645539e+06\n",
       "LU1663872726    9.885412e+05\n",
       "LU0144746509    4.294872e+05\n",
       "LU1373033965    3.492770e+06\n",
       "Name: LU1689730718, Length: 157, dtype: float64"
      ]
     },
     "execution_count": 21,
     "metadata": {},
     "output_type": "execute_result"
    }
   ],
   "source": [
    "bucket.get_distribution_vector()"
   ]
  },
  {
   "cell_type": "code",
   "execution_count": null,
   "metadata": {},
   "outputs": [],
   "source": []
  }
 ],
 "metadata": {
  "kernelspec": {
   "display_name": "Python 3",
   "language": "python",
   "name": "python3"
  },
  "language_info": {
   "codemirror_mode": {
    "name": "ipython",
    "version": 3
   },
   "file_extension": ".py",
   "mimetype": "text/x-python",
   "name": "python",
   "nbconvert_exporter": "python",
   "pygments_lexer": "ipython3",
   "version": "3.8.5"
  }
 },
 "nbformat": 4,
 "nbformat_minor": 4
}
